{
 "cells": [
  {
   "cell_type": "markdown",
   "id": "4bd939f9",
   "metadata": {},
   "source": [
    "# Reverse BITS\n",
    "\n",
    "Problem: Write a program that takes a 64-bit unsigned integer and returns the 64 bit unsigned integer consisting of the bits of the input in reverse order\n",
    "\n",
    "- Example \n",
    " - If the input 1110000000001\n",
    " - The output should be 1110000000001"
   ]
  },
  {
   "cell_type": "code",
   "execution_count": 59,
   "id": "46841a73",
   "metadata": {},
   "outputs": [
    {
     "name": "stdout",
     "output_type": "stream",
     "text": [
      "0b1100100\n",
      "0b10011\n"
     ]
    }
   ],
   "source": [
    "# Brute Force solution\n",
    "import math\n",
    "\n",
    "def swap_bits(x, i, j):\n",
    "    if(x >> i) & 1 != (x >> j) & 1:\n",
    "        bit_mask = (1 << i) | (1 << j)\n",
    "        x ^= bit_mask\n",
    "    return x\n",
    "\n",
    "def reverse_bits(x):\n",
    "    lengthOfX = len(bin(x)[2:])\n",
    "    half = math.floor(lengthOfX /2)\n",
    "    iterator = half\n",
    "    \n",
    "    while(iterator):\n",
    "     x = swap_bits(x, half - iterator,lengthOfX - 1)\n",
    "     lengthOfX -= 1     \n",
    "     iterator -= 1\n",
    "    return x\n",
    "\n",
    "print(bin(100))\n",
    "print(bin(reverse_bits(100)))"
   ]
  },
  {
   "cell_type": "markdown",
   "id": "bb026c0f",
   "metadata": {},
   "source": [
    "# Time complexity and Space complexity of Brute force solution\n",
    "\n",
    "so we're using Swap_bits which has a time complexity of O(1)\n",
    "\n",
    "we halve the input x once and perform an iteration of n/2 calling swap_bits n/2 times \n",
    "\n",
    "we have an O(n/2) time complexity and a O(n) space complexity"
   ]
  },
  {
   "cell_type": "code",
   "execution_count": null,
   "id": "d145b424",
   "metadata": {},
   "outputs": [],
   "source": [
    "def reverse_bits(x):\n",
    "    MASK_SIZE = 16\n",
    "    BIT_MASK = 0xFFFF\n",
    "    return (PRECOMPUTED_REVERSE[x & BIT_MASK] << (3 * MASK_SIZE)\n",
    "           | PRECOMPUTED_REVERSE[ (x >> MASK_SIZE) & BIT_MASK] <<\n",
    "            (2 * MASK_SIZE) |\n",
    "            PRECOMPUTED_REVERSE[(x >> (2 * MASK_SIZE)) & BIT_MASK] << MASK_SIZE\n",
    "            | PRECOMPUTED_REVERSE[(x >> (3 * MASK_SIZE)) & BIT_MASK])"
   ]
  },
  {
   "cell_type": "markdown",
   "id": "ab9daeec",
   "metadata": {},
   "source": [
    "# Most optimal solution\n",
    "- Having an eye towards using a cache"
   ]
  }
 ],
 "metadata": {
  "kernelspec": {
   "display_name": "Python 3 (ipykernel)",
   "language": "python",
   "name": "python3"
  },
  "language_info": {
   "codemirror_mode": {
    "name": "ipython",
    "version": 3
   },
   "file_extension": ".py",
   "mimetype": "text/x-python",
   "name": "python",
   "nbconvert_exporter": "python",
   "pygments_lexer": "ipython3",
   "version": "3.9.12"
  }
 },
 "nbformat": 4,
 "nbformat_minor": 5
}
