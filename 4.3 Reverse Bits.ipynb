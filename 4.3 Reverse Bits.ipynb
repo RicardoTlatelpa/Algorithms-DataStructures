{
 "cells": [
  {
   "cell_type": "markdown",
   "id": "c36779c5",
   "metadata": {},
   "source": [
    "# Reverse BITS\n",
    "\n",
    "Problem: Write a program that takes a 64-bit unsigned integer and returns the 64 bit unsigned integer consisting of the bits of the input in reverse order\n",
    "\n",
    "- Example \n",
    " - If the input 1110000000001\n",
    " - The output should be 1110000000001"
   ]
  },
  {
   "cell_type": "code",
   "execution_count": 59,
   "id": "cb0ab864",
   "metadata": {},
   "outputs": [
    {
     "name": "stdout",
     "output_type": "stream",
     "text": [
      "0b1100100\n",
      "0b10011\n"
     ]
    }
   ],
   "source": [
    "# Brute Force solution\n",
    "import math\n",
    "\n",
    "def swap_bits(x, i, j):\n",
    "    if(x >> i) & 1 != (x >> j) & 1:\n",
    "        bit_mask = (1 << i) | (1 << j)\n",
    "        x ^= bit_mask\n",
    "    return x\n",
    "\n",
    "def reverse_bits(x):\n",
    "    lengthOfX = len(bin(x)[2:])\n",
    "    half = math.floor(lengthOfX /2)\n",
    "    iterator = half\n",
    "    \n",
    "    while(iterator):\n",
    "     x = swap_bits(x, half - iterator,lengthOfX - 1)\n",
    "     lengthOfX -= 1     \n",
    "     iterator -= 1\n",
    "    return x\n",
    "\n",
    "print(bin(100))\n",
    "print(bin(reverse_bits(100)))"
   ]
  },
  {
   "cell_type": "markdown",
   "id": "4d341a64",
   "metadata": {},
   "source": []
  },
  {
   "cell_type": "code",
   "execution_count": null,
   "id": "28b4f3e3",
   "metadata": {},
   "outputs": [],
   "source": []
  }
 ],
 "metadata": {
  "kernelspec": {
   "display_name": "Python 3 (ipykernel)",
   "language": "python",
   "name": "python3"
  },
  "language_info": {
   "codemirror_mode": {
    "name": "ipython",
    "version": 3
   },
   "file_extension": ".py",
   "mimetype": "text/x-python",
   "name": "python",
   "nbconvert_exporter": "python",
   "pygments_lexer": "ipython3",
   "version": "3.9.12"
  }
 },
 "nbformat": 4,
 "nbformat_minor": 5
}
