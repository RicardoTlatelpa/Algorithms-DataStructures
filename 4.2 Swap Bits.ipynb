{
 "cells": [
  {
   "cell_type": "markdown",
   "id": "0980e59b",
   "metadata": {},
   "source": [
    "# 4.2 Swap bits\n",
    "\n",
    "Bit minipulations accelerated\n",
    "Recall: bit minipulations can be getting rid of lowest bit or shifting a bit or masking a bit to get a specific bit\n",
    "\n",
    "Now we're talking about accelerating manipulations. What kinds of manipulations are we talking?\n",
    "\n",
    "Thinking of a 64 bit integer as an array with 64 bits\n",
    "So the least significant bit is at index 0 and the most signifcant bit is at 63 in a 64 binary number\n",
    "\n",
    "Problem: Implement code that takes as input a 64-bit(2^64) integer and swaps the bits at indices i and j. Figure 4.1 illustrates bit swapping for an 8-bit integer."
   ]
  },
  {
   "cell_type": "code",
   "execution_count": 8,
   "id": "c3d7b450",
   "metadata": {},
   "outputs": [
    {
     "name": "stdout",
     "output_type": "stream",
     "text": [
      "0b1001\n",
      "0b10101\n",
      "0b10101\n"
     ]
    }
   ],
   "source": [
    "def swap_bits(x, i, j):\n",
    "    # Extract the ith and jth bits and see if they differ\n",
    "    if(x >> i) & 1 != (x >> j) & 1:\n",
    "        # i-th and j-th bits differ. We will swap them by flipping their values.\n",
    "        # Select the bits to flip with bit_mask. Since x^1 = 0 when x = 1 and 1 \n",
    "        # when x = 0, we can perform the flip XOR.\n",
    "        bit_mask = (1 << i) | (1 << j)\n",
    "        print(bin(bit_mask))\n",
    "        x ^= bit_mask\n",
    "        print(bin(x))\n",
    "    return x\n",
    "# print(0b11100)\n",
    "print(bin(swap_bits(0b11100, 0, 3)))"
   ]
  },
  {
   "cell_type": "code",
   "execution_count": 13,
   "id": "17d5fb88",
   "metadata": {},
   "outputs": [
    {
     "name": "stdout",
     "output_type": "stream",
     "text": [
      "0b1111\n",
      "0b1101\n",
      "0b10\n",
      "0b1111\n"
     ]
    },
    {
     "data": {
      "text/plain": [
       "\"\\nOr keeps the rest of the digits not compared the same. What I mean by the compared digits is,\\nthe second binary number is only 2 digits, how can we compare to a 4 bit number?\\nWe just compare starting from the LSB until we can't anymore.\\n\""
      ]
     },
     "execution_count": 13,
     "metadata": {},
     "output_type": "execute_result"
    }
   ],
   "source": [
    "# How does XOR work?\n",
    "\n",
    "print(bin(0b1110 ^ 0b01))\n",
    "\n",
    "'''\n",
    "So if you notice we do the XOR operation on 2 bits starting from the LSB\n",
    "Then we keep the bits the same \n",
    "'''\n",
    "\n",
    "print(bin(0b1110 ^ 0b11))\n",
    "\n",
    "\n",
    "# How about AND or OR?\n",
    "\n",
    "print(bin(0b1110 & 0b11))\n",
    "\n",
    "'''\n",
    "And DOES not keep the bits not compared the same, it just removes them from the final result\n",
    "'''\n",
    "\n",
    "print(bin(0b1110 | 0b11))\n",
    "\n",
    "'''\n",
    "Or keeps the rest of the digits not compared the same. What I mean by the compared digits is,\n",
    "the second binary number is only 2 digits, how can we compare to a 4 bit number?\n",
    "We just compare starting from the LSB until we can't anymore.\n",
    "'''\n",
    "\n",
    "# Therefore AND is used to extract digits"
   ]
  },
  {
   "cell_type": "markdown",
   "id": "98ba95d5",
   "metadata": {},
   "source": [
    "# Notes\n",
    "- On the first line of the function, checking if they differ\n",
    " - instead of iterating the number we shift the number so that the digit we want is the least significant bit. We can only extract the LSB if we perform an AND operation. From there we retain the digit we want at a certain index starting from the LSB. We don't start the shift from zero. Actually we don't start from zero at all because we are not iterating we are **shifting**."
   ]
  },
  {
   "cell_type": "markdown",
   "id": "1a9a1aa6",
   "metadata": {},
   "source": [
    "# Time Complexity\n",
    "- The time complexity is O(1), independent of word size"
   ]
  }
 ],
 "metadata": {
  "kernelspec": {
   "display_name": "Python 3 (ipykernel)",
   "language": "python",
   "name": "python3"
  },
  "language_info": {
   "codemirror_mode": {
    "name": "ipython",
    "version": 3
   },
   "file_extension": ".py",
   "mimetype": "text/x-python",
   "name": "python",
   "nbconvert_exporter": "python",
   "pygments_lexer": "ipython3",
   "version": "3.9.12"
  }
 },
 "nbformat": 4,
 "nbformat_minor": 5
}
