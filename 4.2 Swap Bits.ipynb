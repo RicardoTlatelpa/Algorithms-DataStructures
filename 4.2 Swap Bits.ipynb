{
 "cells": [
  {
   "cell_type": "markdown",
   "id": "0980e59b",
   "metadata": {},
   "source": [
    "# 4.2 Swap bits\n",
    "\n",
    "Bit minipulations accelerated\n",
    "Recall: bit minipulations can be getting rid of lowest bit or shifting a bit or masking a bit to get a specific bit\n",
    "\n",
    "Now we're talking about accelerating manipulations. What kinds of manipulations are we talking?\n",
    "\n",
    "Thinking of a 64 bit integer as an array with 64 bits\n",
    "So the least significant bit is at index 0 and the most signifcant bit is at 63 in a 64 binary number\n",
    "\n",
    "Problem: Implement code that takes as input a 64-bit(2^64) integer and swaps the bits at indices i and j. Figure 4.1 illustrates bit swapping for an 8-bit integer."
   ]
  },
  {
   "cell_type": "code",
   "execution_count": 5,
   "id": "c3d7b450",
   "metadata": {},
   "outputs": [
    {
     "name": "stdout",
     "output_type": "stream",
     "text": [
      "0b0\n",
      "0b1\n",
      "0b10101\n"
     ]
    }
   ],
   "source": [
    "def swap_bits(x, i, j):\n",
    "    # Extract the ith and jth bits and see if they differ\n",
    "    if(x >> i) & 1 != (x >> j) & 1:\n",
    "        # i-th and j-th bits differ. We will swap them by flipping their values.\n",
    "        # Select the bits to flip with bit_mask. Since x^1 = 0 when x = 1 and 1 \n",
    "        # when x = 0, we can perform the flip XOR.\n",
    "        print(bin((x >> i) & 1))\n",
    "        print(bin((x >> j) & 1))\n",
    "        bit_mask = (1 << i) | (1 << j)\n",
    "        x ^= bit_mask\n",
    "    return x\n",
    "# print(0b11100)\n",
    "print(bin(swap_bits(0b11100, 0, 3)))"
   ]
  },
  {
   "cell_type": "markdown",
   "id": "9402d640",
   "metadata": {},
   "source": [
    "# Notes\n",
    "- On the first line of the function, checking if they differ\n",
    " - instead of iterating the number we shift the number so that the digit we want is the least significant bit. We can only extract the LSB if we perform an AND operation. From there we retain the digit we want at a certain index starting from the LSB. We don't start the shift from zero. Actually we don't start from zero at all because we are not iterating we are **shifting**."
   ]
  },
  {
   "cell_type": "markdown",
   "id": "1a9a1aa6",
   "metadata": {},
   "source": [
    "# Time Complexity\n",
    "- The time complexity is O(1), independent of word size"
   ]
  },
  {
   "cell_type": "code",
   "execution_count": null,
   "id": "20f64f8f",
   "metadata": {},
   "outputs": [],
   "source": []
  }
 ],
 "metadata": {
  "kernelspec": {
   "display_name": "Python 3 (ipykernel)",
   "language": "python",
   "name": "python3"
  },
  "language_info": {
   "codemirror_mode": {
    "name": "ipython",
    "version": 3
   },
   "file_extension": ".py",
   "mimetype": "text/x-python",
   "name": "python",
   "nbconvert_exporter": "python",
   "pygments_lexer": "ipython3",
   "version": "3.9.12"
  }
 },
 "nbformat": 4,
 "nbformat_minor": 5
}
