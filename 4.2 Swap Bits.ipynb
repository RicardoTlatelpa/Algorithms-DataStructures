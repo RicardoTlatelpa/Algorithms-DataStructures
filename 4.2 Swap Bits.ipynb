{
 "cells": [
  {
   "cell_type": "markdown",
   "id": "7868d38e",
   "metadata": {},
   "source": [
    "# 4.2 Swap bits\n",
    "\n",
    "Bit minipulations accelerated\n",
    "Recall: bit minipulations can be getting rid of lowest bit or shifting a bit or masking a bit to get a specific bit\n",
    "\n",
    "Now we're talking about accelerating manipulations. What kinds of manipulations are we talking?\n",
    "\n",
    "Thinking of a 64 bit integer as an array with 64 bits\n",
    "So the least significant bit is at index 0 and the most signifcant bit is at 63 in a 64 binary number\n",
    "\n",
    "Problem: Implement code that takes as input a 64-bit integer and swaps the bits at indices i and j. Figure 4.1 illustrates bit swapping for an 8-bit integer."
   ]
  },
  {
   "cell_type": "code",
   "execution_count": 10,
   "id": "50cd1680",
   "metadata": {},
   "outputs": [
    {
     "name": "stdout",
     "output_type": "stream",
     "text": [
      "0\n"
     ]
    }
   ],
   "source": [
    "# [1,0,1,0]\n",
    "'''\n",
    "i = 0\n",
    "j = 3\n",
    "\n",
    "'''\n",
    "def swap_bits(x, i, j):\n",
    "    # Extract the ith and jth bits and see if they differ\n",
    "    if(x >> i) & 1 != (x >> j) & 1:\n",
    "        \n",
    "\n",
    "print(0b1010 >> 0 & 1)"
   ]
  },
  {
   "cell_type": "code",
   "execution_count": null,
   "id": "85ef1181",
   "metadata": {},
   "outputs": [],
   "source": []
  }
 ],
 "metadata": {
  "kernelspec": {
   "display_name": "Python 3 (ipykernel)",
   "language": "python",
   "name": "python3"
  },
  "language_info": {
   "codemirror_mode": {
    "name": "ipython",
    "version": 3
   },
   "file_extension": ".py",
   "mimetype": "text/x-python",
   "name": "python",
   "nbconvert_exporter": "python",
   "pygments_lexer": "ipython3",
   "version": "3.9.12"
  }
 },
 "nbformat": 4,
 "nbformat_minor": 5
}
