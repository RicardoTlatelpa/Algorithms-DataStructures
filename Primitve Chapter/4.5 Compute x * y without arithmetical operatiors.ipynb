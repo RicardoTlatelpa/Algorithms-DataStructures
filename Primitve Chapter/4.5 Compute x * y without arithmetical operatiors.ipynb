{
 "cells": [
  {
   "cell_type": "markdown",
   "id": "f33c13e4",
   "metadata": {},
   "source": [
    "# 4.5 Compute X x Y without Arithmetical operators\n",
    "\n",
    "Sometimes the processors used in ultra low power devices such as hearing aids do not have dedicated hardware for performing multiplication. A program that needs to perform multiplication must do so explicitly using lower level primitives\n",
    "\n",
    "Write a program that multiplies two nonnegative integers. The only operators you are allowed to use are \n",
    " - Assignment\n",
    " - the bitwise operators >>, <<, |, & and \n",
    " - equality checks and boolean combination thereof "
   ]
  },
  {
   "cell_type": "markdown",
   "id": "0e2f90e6",
   "metadata": {},
   "source": [
    "# Compute X + Y without Arithmetical operators\n",
    "\n",
    "1. Find Carries ( with and operator )\n",
    "2. Do addition ( with xor operator )\n",
    "3. b holds left shifted carry"
   ]
  },
  {
   "cell_type": "code",
   "execution_count": 18,
   "id": "6f698586",
   "metadata": {},
   "outputs": [
    {
     "name": "stdout",
     "output_type": "stream",
     "text": [
      "80\n"
     ]
    }
   ],
   "source": [
    "def bit_shift_add(x,y):\n",
    "    while(y!=0):\n",
    "        carry = x & y # find the carries\n",
    "        x = x ^ y # addition\n",
    "        y = carry << 1 # shift to the left\n",
    "    return x\n",
    "\n",
    "# brute force solution\n",
    "\n",
    "def bit_shift_multiply(x,y):\n",
    "    result = 0\n",
    "    while(y):\n",
    "        result = bit_shift_add(result,x)\n",
    "        y -= 1\n",
    "    return result\n",
    "\n",
    "print(bit_shift_multiply(10,8))"
   ]
  },
  {
   "cell_type": "code",
   "execution_count": 21,
   "id": "1495b44b",
   "metadata": {},
   "outputs": [
    {
     "name": "stdout",
     "output_type": "stream",
     "text": [
      "30\n"
     ]
    }
   ],
   "source": [
    "def multiply(x,y):\n",
    "    \n",
    "    def add(a,b):\n",
    "        \n",
    "        running_sum, carryin, k, temp_a, temp_b = 0,0,1,a,b\n",
    "        \n",
    "        while temp_a or temp_b: # loop until both are shifted or turned to falsey values\n",
    "            ak, bk = a & k, b & k # extract the least significant bit\n",
    "            carryout = (ak & bk) | (ak & carryin) | (bk & carryin) # find any carries from the addition or previous XOR addition\n",
    "            running_sum |= ak ^ bk ^ carryin # XOR does the addition, adds the carryin, 1st LSB and 2nd LSB\n",
    "            carryin, k, temp_a, temp_b = (carryout << 1, k << 1, temp_a >> 1, # Now the digits are shifted for the next iteration\n",
    "                                         temp_b >> 1)\n",
    "        return running_sum | carryin\n",
    "    \n",
    "    running_sum = 0 # initialze running sum\n",
    "    \n",
    "    while x: # Examines each bit of x.\n",
    "        if x & 1: # only add if the LSB is 1\n",
    "            running_sum = add(running_sum, y) \n",
    "        x,y = x >> 1, y << 1 # x is shifted to the left one digit at a time and y shifted to the right, one digit at a time\n",
    "        # y acts as the carry and x is the number we care about\n",
    "    return running_sum\n",
    "\n",
    "print(multiply(10,3))"
   ]
  },
  {
   "cell_type": "code",
   "execution_count": null,
   "id": "d93bf943",
   "metadata": {},
   "outputs": [],
   "source": []
  }
 ],
 "metadata": {
  "kernelspec": {
   "display_name": "Python 3 (ipykernel)",
   "language": "python",
   "name": "python3"
  },
  "language_info": {
   "codemirror_mode": {
    "name": "ipython",
    "version": 3
   },
   "file_extension": ".py",
   "mimetype": "text/x-python",
   "name": "python",
   "nbconvert_exporter": "python",
   "pygments_lexer": "ipython3",
   "version": "3.9.12"
  }
 },
 "nbformat": 4,
 "nbformat_minor": 5
}
