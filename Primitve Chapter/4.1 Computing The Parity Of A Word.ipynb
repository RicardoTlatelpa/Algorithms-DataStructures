{
 "cells": [
  {
   "cell_type": "markdown",
   "id": "c280b078",
   "metadata": {},
   "source": [
    "# What is parity?\n",
    "- The parity of a binary word is 1 if the number of 1s in the word is odd; otherwise, it is 0.\n",
    "Examples:\n",
    "1011 is 1 because there are 3 '1's, and that is odd\n",
    "10001000 is 0 because there are 2 '1's and that is even"
   ]
  },
  {
   "cell_type": "code",
   "execution_count": 2,
   "id": "24708100",
   "metadata": {},
   "outputs": [
    {
     "name": "stdout",
     "output_type": "stream",
     "text": [
      "0\n"
     ]
    }
   ],
   "source": [
    "# Store the number mod 2 \n",
    "'''\n",
    "Mod 2 is 10%2\n",
    "'''\n",
    "print(10%2) # because 2 fits into 10 evenly"
   ]
  },
  {
   "cell_type": "markdown",
   "id": "9a1075cb",
   "metadata": {},
   "source": [
    "Let's break this function down with an example.\n",
    "\n",
    "First let's take a look at what's going on\n",
    "The first line is a O(1) operation\n",
    "the second line is a O(n) operation\n",
    "the lines within the loop are O(1)\n",
    "and the return statement is O(1)\n",
    "so this function is: O(n)\n",
    "\n",
    "inside the loop we are shifting the binary number by 1 digit in every iteration\n",
    "\n",
    "before we shift the binary number we compare the Least significant bit to 1 then xor with 0\n",
    "meaning the least significant bit has to be 1 in order for result to change to 1 \n",
    "\n",
    "when result is 1, the least significant bit has to be zero in order to be zero again \n",
    "\n",
    "so the 1s and zeros are flags\n",
    "\n",
    "Starting with zero if we run into an even number of 1s we get zero returned from the function \n",
    "however if we run into an odd number of ones and the rest of the bits compared are zero \n",
    "then we get 1\n",
    "\n",
    "Lets do 1011 as an example\n",
    "result = 0\n",
    "1011\n",
    "   1\n",
    "1 & 1 = 1 \n",
    "0 ^= 1 = 1\n",
    "result = 1 \n",
    "shift the binary to --> 101\n",
    "1 & 1  = 1\n",
    "1 ^= 1 = 0 because XOR says the result is 1 if there is ONLY 1 '1'\n",
    "result = 0\n",
    "shift the binary to --> 10\n",
    "0 & 1 = 0\n",
    "0 ^= 0 = 0\n",
    "result = 0\n",
    "shift the binary to --> 1\n",
    "1 & 1 = 1\n",
    "0 ^= 1 = 1\n",
    "result = 1\n",
    "x can no longer be iterated so the iteration breaks\n",
    "result gets returned // O(1) operation\n",
    "\n",
    "1 is the answer, which fits the definition of a parity of a binary number"
   ]
  },
  {
   "cell_type": "code",
   "execution_count": 5,
   "id": "a49be988",
   "metadata": {},
   "outputs": [],
   "source": [
    "def parity(x):\n",
    "    result = 0\n",
    "    while x:\n",
    "        result ^= x & 1 \n",
    "        x >>= 1\n",
    "    return result"
   ]
  },
  {
   "cell_type": "code",
   "execution_count": 6,
   "id": "7b9783f2",
   "metadata": {},
   "outputs": [
    {
     "name": "stdout",
     "output_type": "stream",
     "text": [
      "0b1100100\n",
      "1\n"
     ]
    }
   ],
   "source": [
    "print(bin(100))\n",
    "print(parity(100)) # example that the function works properly, 100 in binary has odd number of 1s"
   ]
  },
  {
   "cell_type": "markdown",
   "id": "3c2c0c0e",
   "metadata": {},
   "source": [
    "# How can we improve this O(n) algorithm?\n",
    "\n",
    "- The first improvement is based on erasing the lowest set bit in a word in a single operation\n",
    "x & (x - 1) equals x with its lowest set bit erased"
   ]
  },
  {
   "cell_type": "code",
   "execution_count": 14,
   "id": "2780871c",
   "metadata": {},
   "outputs": [
    {
     "name": "stdout",
     "output_type": "stream",
     "text": [
      "0b101100\n",
      "0b101011\n",
      "0b101000\n"
     ]
    }
   ],
   "source": [
    "print(bin(44))\n",
    "print(bin(44 - 1)) # 43 in decimal number system\n",
    "print(bin(44 & (44-1)))"
   ]
  },
  {
   "cell_type": "code",
   "execution_count": null,
   "id": "bcc00646",
   "metadata": {},
   "outputs": [],
   "source": [
    "def parity2(x):\n",
    "    result = 0\n",
    "    while x:\n",
    "        result ^= 1\n",
    "        x &= x - 1 # Drops the lowest set bit of x \n",
    "    return result"
   ]
  },
  {
   "cell_type": "markdown",
   "id": "ff55ee84",
   "metadata": {},
   "source": [
    "Let's take a glance at this function with the improvement\n",
    "We have an O(1) operation\n",
    "an O(1) operation `result ^ = 1`\n",
    "and now we're not shifting the input number anymore we are doing x & (x-1)\n",
    "What does that do to the input?\n",
    "and finally a return O(1) operation\n",
    "so the operation O(n)\n",
    "\n",
    "Let's use an example: 1011\n",
    "\n",
    "result = 0\n",
    "result ^= 1 = 1\n",
    "result = 1\n",
    "1011 &= 1011 - 1\n",
    "\n",
    "1011 - 1 = 1010\n",
    "\n",
    "1011\n",
    "1010\n",
    "becomes 1 0 1 0 \n",
    "x = 1010\n",
    "\n",
    "so result = 1 , x = 1010\n",
    "2nd loop\n",
    "result ^= 1\n",
    "\n",
    "result = 0\n",
    "\n",
    "1010 &= (1010 -1)\n",
    "1010\n",
    "1001\n",
    "\n",
    "x = 1 0 0 0\n",
    "\n",
    "result ^= 1 \n",
    "\n",
    "result = 1\n",
    "\n",
    "x &= x - 1 \n",
    "\n",
    "1000 - 1 = 111\n",
    "\n",
    "1000\n",
    " 111\n",
    "0000\n",
    "\n",
    "x = 0000\n",
    "\n",
    "the loop breaks because x is 0 \n",
    "\n",
    "and the result is 1 returns \n",
    "\n",
    "the answer is correct so let's see what is going on\n",
    "\n",
    "## The book says x & (x -1) equals x with its lowest set bit erased\n",
    "\n",
    "The pattern of x in the example is:\n",
    "\n",
    "1011\n",
    "\n",
    "1010\n",
    "\n",
    "1000\n",
    "\n",
    "0000\n",
    "\n",
    "so what that means is, the lowest set bit is literaally the lowest 1 that is activated in the binary number\n",
    "\n",
    "for the first iteration that is 1\n",
    "then it's 2\n",
    "then it's 8\n",
    "since 0000 has no lowest set bit, we can exit the loop\n",
    "\n",
    "so the new parity function Big O analysis is O(k) where k is the number of 1s in the binary number\n",
    "\n",
    "the XOR result comparison acts as a switch, and depending on if the number of ones is even or odd, the result may be\n",
    "1 or zero. \n",
    "\n",
    "if result is one and we approach a one, xor only demands one '1', so result becomes zero\n",
    "    if approached with zero, result doesn't change\n",
    "if result is zero and we approach a one, xor demands one '1' and we have that case so result becomes one\n",
    "    if approached with zero, result doesn't change\n",
    "\n",
    "\n",
    "We initialize result with zero because we can assume there may be input zero, **no lowest set bit**"
   ]
  },
  {
   "cell_type": "code",
   "execution_count": 17,
   "id": "a5b85f97",
   "metadata": {},
   "outputs": [
    {
     "name": "stdout",
     "output_type": "stream",
     "text": [
      "0b111\n"
     ]
    }
   ],
   "source": [
    "print(bin(0b1000 - 1))"
   ]
  },
  {
   "cell_type": "markdown",
   "id": "4b78acad",
   "metadata": {},
   "source": [
    "# Considering a qualitatively different approach\n",
    "\n",
    "### Associativty\n",
    "- (x+y+z) = (x + y) + z\n",
    "- (x+y+z) = x + (y + z)\n",
    "\n",
    "Performing a large number of parity computation, and, more generally, any kind of bit fiddling computations, two keys to performance are \n",
    "- Processing multiple bits at a time \n",
    "- Caching reults in an array based look up table\n",
    "\n",
    "### Caching \n",
    "- The wrong way to do it would be to cache every 64 bit integer, so that the function can be O(1) array look up, however the space would be 2^64 bits of storage\n",
    "- It does not matter how we group the bits, computation is associative\n",
    "\n",
    "#### Solution\n",
    "- computing the parity of a 64 bit integer by grouping its bits into four nonoverlapping 16 bit subwords, computing the parity of each subwords and then computing parity of these four subresults\n",
    "\n",
    "#### Example\n",
    "- Lookup table for 2 bit words the cache is [0,1,1,0] for (00),(01),(10),(11),\n",
    "    - the reason the cached results look like XOR for 2 bits is because there needs to be an odd number of 1s in order for the function to result in 1(parity function)\n",
    "Now Computing the parity of 11001010\n",
    "We break apart this binary number into 2 bits and we see that get \n",
    "(11),(00),(10),(10) by lookup we get 0,0,1,1, there are an even number of 1s so the result is zero\n",
    "\n",
    "**but notice** we took an 8 bit number and turned it into a 4 bit number just by using a cache\n",
    "We cut our potential iteration by half by BREAKING DOWN the binary number and using a cache(array/hash)\n",
    "\n"
   ]
  },
  {
   "cell_type": "code",
   "execution_count": 4,
   "id": "355e0eac",
   "metadata": {},
   "outputs": [
    {
     "name": "stdout",
     "output_type": "stream",
     "text": [
      "0b1110\n"
     ]
    }
   ],
   "source": [
    "# To lookup the parity of the first two bits in 11101010 we right shift by 6 to get 00000011\n",
    "print(bin(0b11101010 >> 4))"
   ]
  },
  {
   "cell_type": "markdown",
   "id": "28050460",
   "metadata": {},
   "source": [
    "# Edge case\n",
    "\n",
    "Now in the textbook we are not iterating the binary number we are simply making shifts in order to get our calculations\n",
    "\n",
    "So with our former binary number 11101010\n",
    "we first shift by 6 to get 11\n",
    "then 4 to get (10) in the two least significant places\n",
    "then we bitwise AND (00001110) w/ (00000011)"
   ]
  },
  {
   "cell_type": "code",
   "execution_count": 6,
   "id": "3e3e3d9c",
   "metadata": {},
   "outputs": [
    {
     "data": {
      "text/plain": [
       "'0b10'"
      ]
     },
     "execution_count": 6,
     "metadata": {},
     "output_type": "execute_result"
    }
   ],
   "source": [
    "bin(0b00001110 & 0b00000011)"
   ]
  },
  {
   "cell_type": "code",
   "execution_count": 7,
   "id": "2472c936",
   "metadata": {},
   "outputs": [],
   "source": [
    "def parity(x):\n",
    "    MASK_SIZE = 16\n",
    "    BIT_MASK = 0xFFFF\n",
    "    return (PRECOMPUTED_PARITY[x >> (3 * MASK_SIZE)] ^\n",
    "            PRECOMPUTED_PARITY[(x >> (2 * MASK_SIZE)) & BIT_MASK] ^\n",
    "            PRECOMPUTED_PARITY[(x >> MASK_SIZE)\n",
    "                              & BIT_MASK] ^ PRECOMPUTED_PARITY[x & BIT_MASK])"
   ]
  },
  {
   "cell_type": "markdown",
   "id": "9a9d3c1d",
   "metadata": {},
   "source": [
    "# TIME COMPLEXITY\n",
    "\n",
    "Let L be the width of the words for which we cache the results, and n the word size. Since there are n/L terms, the time complexity is O(n/L), assuming word level operations such as shifting take O(1) time.(Not including the time to initialize the lookup table)"
   ]
  }
 ],
 "metadata": {
  "kernelspec": {
   "display_name": "Python 3 (ipykernel)",
   "language": "python",
   "name": "python3"
  },
  "language_info": {
   "codemirror_mode": {
    "name": "ipython",
    "version": 3
   },
   "file_extension": ".py",
   "mimetype": "text/x-python",
   "name": "python",
   "nbconvert_exporter": "python",
   "pygments_lexer": "ipython3",
   "version": "3.9.12"
  }
 },
 "nbformat": 4,
 "nbformat_minor": 5
}
