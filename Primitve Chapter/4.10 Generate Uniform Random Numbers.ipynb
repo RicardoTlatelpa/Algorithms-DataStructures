{
 "cells": [
  {
   "cell_type": "markdown",
   "id": "02baade8",
   "metadata": {},
   "source": [
    "# 4.10 Generate Uniform Random Numbers\n",
    "\n",
    "Six friends have to select a designated driver using a single unbiased coin. This process should be fair to everyone.\n",
    "\n",
    "How would you implement a random number generator that generates a random integer i between a and b, given a random number generator that prodcues **zero or one** with equal probability? All values in [a,b] should be equally likely.\n",
    "\n",
    "\n"
   ]
  },
  {
   "cell_type": "code",
   "execution_count": 17,
   "id": "4d51595c",
   "metadata": {},
   "outputs": [
    {
     "name": "stdout",
     "output_type": "stream",
     "text": [
      "1 0\n",
      "1 0\n",
      "1 1\n",
      "0 1\n"
     ]
    }
   ],
   "source": [
    "import random\n",
    "\n",
    "def random_number():\n",
    "    print(random.randrange(0, 2),random.randrange(0, 2))\n",
    "\n",
    "\n",
    "random_number()\n",
    "random_number()\n",
    "random_number()\n",
    "random_number()\n",
    "\n",
    "\n",
    "\n"
   ]
  },
  {
   "cell_type": "code",
   "execution_count": null,
   "id": "717fcb91",
   "metadata": {},
   "outputs": [],
   "source": []
  }
 ],
 "metadata": {
  "kernelspec": {
   "display_name": "Python 3 (ipykernel)",
   "language": "python",
   "name": "python3"
  },
  "language_info": {
   "codemirror_mode": {
    "name": "ipython",
    "version": 3
   },
   "file_extension": ".py",
   "mimetype": "text/x-python",
   "name": "python",
   "nbconvert_exporter": "python",
   "pygments_lexer": "ipython3",
   "version": "3.9.12"
  }
 },
 "nbformat": 4,
 "nbformat_minor": 5
}
