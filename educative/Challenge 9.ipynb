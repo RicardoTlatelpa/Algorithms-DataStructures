{
 "cells": [
  {
   "cell_type": "markdown",
   "id": "1107346d",
   "metadata": {},
   "source": [
    "# Challenge 9: Rearrange Positive & Negative values\n",
    "\n",
    "Given a list, can you rearrange its elements in such a way that the negative elements appear at one end and positive elements appear at the other? Solve this problem in Python and see if your code runs correctly!\n"
   ]
  },
  {
   "cell_type": "code",
   "execution_count": null,
   "id": "340b944e",
   "metadata": {},
   "outputs": [],
   "source": [
    "def my_rearrange(lst):\n",
    "    # Write your code here\n",
    "    pivot_idx = len(lst) - 1\n",
    "    pivot = lst[pivot_idx]\n",
    "    left = 0\n",
    "    right = pivot_idx - 1\n",
    "\n",
    "    while True:\n",
    "        while(lst[left] < pivot and lst[left] < 0):\n",
    "            left+=1\n",
    "        while(lst[right] > pivot):\n",
    "            right-=1\n",
    "        if left >= right:\n",
    "            break\n",
    "        else:            \n",
    "            lst[left],lst[right] = lst[right],lst[left]\n",
    "    \n",
    "    lst[left],lst[pivot_idx] = lst[pivot_idx],lst[left]\n",
    "    \n",
    "    return lst\n",
    "\n",
    "a = [10,-1,20,4,5,-9,-6]\n",
    "print(my_rearrange(a))"
   ]
  },
  {
   "cell_type": "markdown",
   "id": "943f39e1",
   "metadata": {},
   "source": [
    "# Time and space complexity\n",
    "\n",
    "Since we're doing everything in place, the space complexity is O(1), and the time complexity is O(N) because we're iterating through the entire array once.\n",
    "\n",
    "# Code Analysis\n",
    "This algorithm is a part of the quick sort algoritm, it is the partition part of it, with a little twist of making sure that the left numbers are less than the pivot and are not negative"
   ]
  },
  {
   "cell_type": "code",
   "execution_count": null,
   "id": "9fea06b9",
   "metadata": {},
   "outputs": [],
   "source": [
    "def rearrange(lst):\n",
    "    neg = []\n",
    "    pos = []\n",
    "    for ele in lst:\n",
    "        if ele < 0:\n",
    "            neg.append(ele)\n",
    "        else: \n",
    "            pos.append(ele)\n",
    "    return neg+pos\n",
    "print(rearrange([10,-1,20,4,5,-9,-6]))"
   ]
  },
  {
   "cell_type": "markdown",
   "id": "03941ab1",
   "metadata": {},
   "source": [
    "# Time and space complexity\n",
    "\n",
    "Since we're creating new dynamically allocated arrays, the space complexity is O(N), because with combined negative and postive lists, we are storing n elements from the list\n",
    "\n",
    "The time complexity is O(N) because we are iterating through the array once"
   ]
  },
  {
   "cell_type": "code",
   "execution_count": null,
   "id": "692794b1",
   "metadata": {},
   "outputs": [],
   "source": [
    "# Rearranging in place solution \n",
    "\n",
    "def rearrange(lst):\n",
    "    leftMostPosEle = 0\n",
    "    for curr in range(len(lst)):\n",
    "        if lst[curr] < 0:\n",
    "            if curr != leftMostPosEle:\n",
    "                lst[curr],lst[leftMostPosEle] = lst[leftMostPosEle], lst[curr]\n",
    "            leftMostPosEle += 1\n",
    "    return lst\n",
    "\n"
   ]
  },
  {
   "cell_type": "markdown",
   "id": "bad2e2bc",
   "metadata": {},
   "source": [
    "# Code Analysis\n",
    "\n",
    "As we traverse the array linearly, we check if the current indexed integer is negative, if it is we swap it with the left most pointer(slow pointer) and then move the left pointer forward plus one\n",
    "\n",
    "We do these checks and swaps until we exhaust the array, leaving us with negative numbers on the left side and positive numbers on the right side\n",
    "\n",
    "# Time and space complexity\n",
    "\n",
    "Since this algorithm is in place, we have O(1) space complexity and O(N) time complexity because we only loop through the array once"
   ]
  }
 ],
 "metadata": {
  "kernelspec": {
   "display_name": "Python 3 (ipykernel)",
   "language": "python",
   "name": "python3"
  },
  "language_info": {
   "codemirror_mode": {
    "name": "ipython",
    "version": 3
   },
   "file_extension": ".py",
   "mimetype": "text/x-python",
   "name": "python",
   "nbconvert_exporter": "python",
   "pygments_lexer": "ipython3",
   "version": "3.9.12"
  }
 },
 "nbformat": 4,
 "nbformat_minor": 5
}
