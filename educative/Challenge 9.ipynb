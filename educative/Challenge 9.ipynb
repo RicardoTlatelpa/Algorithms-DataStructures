{
 "cells": [
  {
   "cell_type": "markdown",
   "id": "e20b5664",
   "metadata": {},
   "source": [
    "# Challenge 9: Rearrange Positive & Negative values\n",
    "\n",
    "Given a list, can you rearrange its elements in such a way that the negative elements appear at one end and positive elements appear at the other? Solve this problem in Python and see if your code runs correctly!\n"
   ]
  },
  {
   "cell_type": "code",
   "execution_count": null,
   "id": "2ca0b280",
   "metadata": {},
   "outputs": [],
   "source": [
    "def my_rearrange(lst):\n",
    "    # Write your code here\n",
    "    pivot_idx = len(lst) - 1\n",
    "    pivot = lst[pivot_idx]\n",
    "    left = 0\n",
    "    right = pivot_idx - 1\n",
    "\n",
    "    while True:\n",
    "        while(lst[left] < pivot and lst[left] < 0):\n",
    "            left+=1\n",
    "        while(lst[right] > pivot):\n",
    "            right-=1\n",
    "        if left >= right:\n",
    "            break\n",
    "        else:            \n",
    "            lst[left],lst[right] = lst[right],lst[left]\n",
    "    \n",
    "    lst[left],lst[pivot_idx] = lst[pivot_idx],lst[left]\n",
    "    \n",
    "    return lst\n",
    "\n",
    "a = [10,-1,20,4,5,-9,-6]\n",
    "print(my_rearrange(a))"
   ]
  },
  {
   "cell_type": "markdown",
   "id": "6a458fba",
   "metadata": {},
   "source": [
    "# Time and space complexity\n",
    "\n",
    "Since we're doing everything in place, the space complexity is O(1), and the time complexity is O(N) because we're iterating through the entire array once.\n",
    "\n",
    "# Code Analysis\n",
    "This algorithm is a part of the quick sort algoritm, it is the partition part of it, with a little twist of making sure that the left numbers are less than the pivot and are not negative"
   ]
  },
  {
   "cell_type": "code",
   "execution_count": null,
   "id": "61efcf14",
   "metadata": {},
   "outputs": [],
   "source": []
  }
 ],
 "metadata": {
  "kernelspec": {
   "display_name": "Python 3 (ipykernel)",
   "language": "python",
   "name": "python3"
  },
  "language_info": {
   "codemirror_mode": {
    "name": "ipython",
    "version": 3
   },
   "file_extension": ".py",
   "mimetype": "text/x-python",
   "name": "python",
   "nbconvert_exporter": "python",
   "pygments_lexer": "ipython3",
   "version": "3.9.12"
  }
 },
 "nbformat": 4,
 "nbformat_minor": 5
}
