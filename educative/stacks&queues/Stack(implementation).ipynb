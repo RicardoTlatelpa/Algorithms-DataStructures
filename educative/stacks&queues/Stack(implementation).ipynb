{
 "cells": [
  {
   "cell_type": "markdown",
   "id": "c7298287",
   "metadata": {},
   "source": [
    "# Stacks\n",
    "\n",
    "Stacks can be implemented using Lists or Linked Lists in the Python language. Each implementation has its own advantages and disadvantages. here, however, we will show an implmenetation of stacks using lists.\n",
    "\n",
    "A typical stack must contain the following functions:\n",
    "\n",
    "push(element)\n",
    "pop()\n",
    "peek()\n",
    "is_empty()\n",
    "size()\n",
    "\n",
    "Let's construct a simple stack class called MyStack and create its object with a stack_obj name. This class will consist of the member functions given above and a list called stack_list that will hold all the elements of the stack."
   ]
  },
  {
   "cell_type": "code",
   "execution_count": null,
   "id": "e1253fc2",
   "metadata": {},
   "outputs": [],
   "source": [
    "def MyStack:\n",
    "    def __init__(self):\n",
    "        self.stack_list = []\n",
    "        self.stack_size = 0\n",
    "    \n",
    "    def is_empty(self):\n",
    "        return self.stack_size == 0\n",
    "    \n",
    "    def peek(self):\n",
    "        if self.is_empty():\n",
    "            return None\n",
    "        return self.stack_list[-1]\n",
    "\n",
    "    def size(self):\n",
    "        return self.stack_size\n",
    "    \n",
    "    def push(self,value):\n",
    "        self.stack_size += 1        \n",
    "        self.stack_list.append(value)\n",
    "    \n",
    "    def pop(self):\n",
    "        if self.is_empty():\n",
    "            return None\n",
    "        self.stack_size -= 1\n",
    "        return self.stack_list.pop()\n",
    "    \n",
    "        \n",
    "stack_obj = MyStack()"
   ]
  },
  {
   "cell_type": "markdown",
   "id": "d8c003f6",
   "metadata": {},
   "source": [
    "# Code analysis\n",
    "the is_empty() function returns the boolean you get from comparing the length of the array to 0. If the length of the array is 0, then the function will return True. Otherwise, it will return False.\n",
    "\n",
    "The peek function returns the last element in the list, which we are considering to be the TOP of the stack!\n",
    "In case of an empty stack_list, it would return None.\n",
    "\n",
    "Lastly, the size() method simply returns the count of elements in the stack.\n",
    "\n",
    "## Operations and time complexities\n",
    "Push(element) - O(1)\n",
    "pop() - O(1)\n",
    "peek() - O(1)\n",
    "is_empty() - O(1)\n",
    "size() - O(1)\n",
    "\n",
    "When we pop out the elements in a stack, we're getting the original elements of the stack in **reverse order**\n"
   ]
  },
  {
   "cell_type": "code",
   "execution_count": null,
   "id": "bb35745a",
   "metadata": {},
   "outputs": [],
   "source": []
  }
 ],
 "metadata": {
  "kernelspec": {
   "display_name": "Python 3 (ipykernel)",
   "language": "python",
   "name": "python3"
  },
  "language_info": {
   "codemirror_mode": {
    "name": "ipython",
    "version": 3
   },
   "file_extension": ".py",
   "mimetype": "text/x-python",
   "name": "python",
   "nbconvert_exporter": "python",
   "pygments_lexer": "ipython3",
   "version": "3.9.12"
  }
 },
 "nbformat": 4,
 "nbformat_minor": 5
}
