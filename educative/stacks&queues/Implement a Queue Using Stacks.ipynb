{
 "cells": [
  {
   "cell_type": "code",
   "execution_count": null,
   "id": "63454374",
   "metadata": {},
   "outputs": [],
   "source": [
    "class newQueue:\n",
    "    def __init__(self):\n",
    "        self.main_stack = MyStack()\n",
    "        self.temp_stack = MyStack()\n",
    "\n",
    "    def enqueue(self,value):\n",
    "        if self.main_stack.is_empty() and self.temp_stack.is_empty():\n",
    "            self.main_stack.push(value)\n",
    "            print(str(value) + \"init main enqueued\")\n",
    "        else:\n",
    "            while not self.main_stack.is_empty():\n",
    "                self.temp_stack.push(self.main_stack.pop())\n",
    "            self.main_stack.push(value)\n",
    "            print(str(value) + \"temp enqueued\")\n",
    "            while not self.temp_stack.is_empty():\n",
    "                self.main_stack.push(self.temp_stack.pop())\n",
    "    def dequeue(self):\n",
    "        if self.main_stack.is_empty():\n",
    "            return None\n",
    "        value = self.main_stack.pop()\n",
    "        print(str(value) + \"main dequeued\")\n",
    "        return value"
   ]
  }
 ],
 "metadata": {
  "kernelspec": {
   "display_name": "Python 3 (ipykernel)",
   "language": "python",
   "name": "python3"
  },
  "language_info": {
   "codemirror_mode": {
    "name": "ipython",
    "version": 3
   },
   "file_extension": ".py",
   "mimetype": "text/x-python",
   "name": "python",
   "nbconvert_exporter": "python",
   "pygments_lexer": "ipython3",
   "version": "3.9.12"
  }
 },
 "nbformat": 4,
 "nbformat_minor": 5
}
