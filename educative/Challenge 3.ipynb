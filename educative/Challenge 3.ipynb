{
 "cells": [
  {
   "cell_type": "markdown",
   "id": "cc0ba5f8",
   "metadata": {},
   "source": [
    "# Find two numbers that add up to 'k'"
   ]
  },
  {
   "cell_type": "code",
   "execution_count": 5,
   "id": "5322a104",
   "metadata": {},
   "outputs": [
    {
     "data": {
      "text/plain": [
       "[1, 4]"
      ]
     },
     "execution_count": 5,
     "metadata": {},
     "output_type": "execute_result"
    }
   ],
   "source": [
    "def my_find_sum(lst,k):\n",
    "    for i in range(len(lst)):\n",
    "        curr = lst[i]\n",
    "        diff = k - curr\n",
    "        if diff in lst:\n",
    "            return [curr,diff]\n",
    "    return False\n",
    "\n",
    "my_find_sum([1,2,3,4,5],5)"
   ]
  },
  {
   "cell_type": "markdown",
   "id": "2f0af7c9",
   "metadata": {},
   "source": [
    "# Time and space complexity\n",
    "\n",
    "The first loop is O(N) because we're iterating through all the elements\n",
    "the second loop is in the if diff in lst operation which is O(N), worse case is, we don't have a sum, but every difference of every integer is going to be searched which is a O(N) operation, thus making this algorithm O(N^2)\n",
    "\n",
    "With a space complexity of O(1)"
   ]
  },
  {
   "cell_type": "code",
   "execution_count": 9,
   "id": "0f54f52a",
   "metadata": {},
   "outputs": [
    {
     "name": "stdout",
     "output_type": "stream",
     "text": [
      "[1, 4]\n"
     ]
    }
   ],
   "source": [
    "#moving indices solution\n",
    "def find_sum(lst,k):\n",
    "    lst.sort()\n",
    "    left = 0\n",
    "    right = len(lst) - 1\n",
    "    result = []\n",
    "    \n",
    "    while(left < right):\n",
    "        sum = lst[left] + lst[right]\n",
    "        if(sum < k):\n",
    "            left += 1            \n",
    "        elif(sum > k):\n",
    "            right -= 1\n",
    "        else:\n",
    "            result.append(lst[left])\n",
    "            result.append(lst[right])\n",
    "            return result\n",
    "    \n",
    "    return False\n",
    "\n",
    "print(find_sum([1,2,3,4,5],5))"
   ]
  },
  {
   "cell_type": "markdown",
   "id": "0acd10bd",
   "metadata": {},
   "source": [
    "# Time and Space complexity\n",
    "\n",
    "Since we're using the built in sorting algorithm, best case of the sorting algorithm is O(nlogn)\n",
    "\n",
    "the while loop iteration is going to be worse case O(N)\n",
    "so the time complexity is O(nlogn + n)\n",
    "which simplifies to O(nlogn)\n",
    "The space complexity is O(1)"
   ]
  }
 ],
 "metadata": {
  "kernelspec": {
   "display_name": "Python 3 (ipykernel)",
   "language": "python",
   "name": "python3"
  },
  "language_info": {
   "codemirror_mode": {
    "name": "ipython",
    "version": 3
   },
   "file_extension": ".py",
   "mimetype": "text/x-python",
   "name": "python",
   "nbconvert_exporter": "python",
   "pygments_lexer": "ipython3",
   "version": "3.9.12"
  }
 },
 "nbformat": 4,
 "nbformat_minor": 5
}
