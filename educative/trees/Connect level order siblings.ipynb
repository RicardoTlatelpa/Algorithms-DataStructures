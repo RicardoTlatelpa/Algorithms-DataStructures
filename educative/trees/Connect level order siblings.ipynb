{
 "cells": [
  {
   "cell_type": "markdown",
   "id": "14b061d8",
   "metadata": {},
   "source": [
    "# Problem statement\n",
    "\n",
    "Given a binary tree, connect each node with its level order successor. The last node of each level should point to a null node."
   ]
  },
  {
   "cell_type": "code",
   "execution_count": null,
   "id": "0737c850",
   "metadata": {},
   "outputs": [],
   "source": [
    "from __future__ import print_function\n",
    "from collections import deque\n",
    "\n",
    "class TreeNode:\n",
    "    def __init__(self, val):\n",
    "        self.val = val\n",
    "        self.left, self.right, self.next = None, None, None\n",
    "        \n",
    "def print_level_order(self):\n",
    "    nextLevelRoot = self\n",
    "    while nextLevelRoot:\n",
    "        current = nextLevelRoot\n",
    "        nextLevelRoot = None\n",
    "        while current:\n",
    "            print(str(current.val) + \" \", end='')\n",
    "            if not nextLevelRoot:\n",
    "                if current.left:\n",
    "                    nextLevelRoot = current.left\n",
    "                elif current.right:\n",
    "                    nextLevelRoot = current.right\n",
    "            current = current.next\n",
    "        print()\n",
    "\n",
    "def connect_level_order_siblings(root):\n",
    "    if root is None:\n",
    "        return None\n",
    "    \n",
    "    queue = deque()\n",
    "    queue.append(root)\n",
    "    \n",
    "    while queue:\n",
    "        levelSize = len(queue)\n",
    "        \n",
    "        for i in range(levelSize):\n",
    "            current_node = queue.popleft()\n",
    "            \n",
    "            if(current_node.left):\n",
    "                queue.append(current_node.left)\n",
    "            if(current_node.right):\n",
    "                queue.append(current_node.right)\n",
    "            if(i + 1 != levelSize):\n",
    "                current_node.next = queue[0]\n",
    "    return\n",
    "    "
   ]
  },
  {
   "cell_type": "markdown",
   "id": "4327e0ce",
   "metadata": {},
   "source": [
    "# Solution\n",
    "\n",
    "This problem follows the binary tree level order traversal pattern. We can follow the same BFS approach. The only difference is that while traversing a level we will remember the previous node to connect it with the current node.\n"
   ]
  },
  {
   "cell_type": "code",
   "execution_count": null,
   "id": "ca0e2877",
   "metadata": {},
   "outputs": [],
   "source": [
    "def connect_level_order_siblings(root):\n",
    "    if root is None:\n",
    "        return\n",
    "    \n",
    "    queue = deque()\n",
    "    queue.append(root)\n",
    "    \n",
    "    while queue:\n",
    "        previousNode = None\n",
    "        levelSize = len(queue)\n",
    "        for _ in range(levelSize):\n",
    "            currentNode = queue.popleft()\n",
    "            \n",
    "            if previousNode:\n",
    "                previousNode.next = currentNode\n",
    "            previousNode = currentNode\n",
    "            \n",
    "            if currentNode.left:\n",
    "                queue.append(currentNode.left)\n",
    "            if currentNode.right:\n",
    "                queue.append(currentNode.right)"
   ]
  },
  {
   "cell_type": "markdown",
   "id": "7b634f65",
   "metadata": {},
   "source": [
    "# Time and space complexity\n",
    "\n",
    "The time complexity of the above algorithm is O(N) where N is the total number of nodes in the tree. This is due to the fact that we traverse each node once.\n",
    "\n",
    "Space complexity\n",
    "\n",
    "The space complexity of the above algorithm will be O(N), which is required for the queue. Since we can have a maximum of N/2 nodes at any level (this could happen only at the lowest leve), therefore we will need O(N) space to store them in the queue."
   ]
  }
 ],
 "metadata": {
  "kernelspec": {
   "display_name": "Python 3 (ipykernel)",
   "language": "python",
   "name": "python3"
  },
  "language_info": {
   "codemirror_mode": {
    "name": "ipython",
    "version": 3
   },
   "file_extension": ".py",
   "mimetype": "text/x-python",
   "name": "python",
   "nbconvert_exporter": "python",
   "pygments_lexer": "ipython3",
   "version": "3.9.12"
  }
 },
 "nbformat": 4,
 "nbformat_minor": 5
}
