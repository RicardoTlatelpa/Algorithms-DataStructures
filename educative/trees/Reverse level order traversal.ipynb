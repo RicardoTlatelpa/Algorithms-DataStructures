{
 "cells": [
  {
   "cell_type": "markdown",
   "id": "6ce155ee",
   "metadata": {},
   "source": [
    "# Reverse level order traversal\n",
    "\n",
    "## Problem statement\n",
    "\n",
    "Given a binary tree, populate an array to represent its level-by-level traversal in reverse order, the lowest level comes first. You should populate the values of all nodes in each level from left to right in separate sub-arrays\n"
   ]
  },
  {
   "cell_type": "code",
   "execution_count": 5,
   "id": "a20fe3c7",
   "metadata": {},
   "outputs": [
    {
     "name": "stdout",
     "output_type": "stream",
     "text": [
      "Reverse level order traversal: [[9, 10, 5], [7, 1], [12]]\n"
     ]
    }
   ],
   "source": [
    "from collections import deque\n",
    "class TreeNode:\n",
    "    def __init__(self, value):\n",
    "        self.value = value\n",
    "        self.left, self.right = None, None\n",
    "\n",
    "def traverse(root):\n",
    "    result = []\n",
    "    reverse_r = []\n",
    "    \n",
    "    # Since we're traversing in level order we're using a queue\n",
    "    tmp_q = deque()\n",
    "    # dummy node will tell the program that the level order is finished\n",
    "    dummy_node = TreeNode(-1)\n",
    "    \n",
    "    # will be the list element that contains the all the elements at the level\n",
    "    level_list = []\n",
    "    \n",
    "    tmp_q.append(root)\n",
    "    tmp_q.append(dummy_node) # immediately append dummy_node because root only has one tree node on its level\n",
    "    \n",
    "    while tmp_q:\n",
    "        del_element = tmp_q.popleft()\n",
    "        level_list.append(del_element.value)\n",
    "        # check if it has children\n",
    "        \n",
    "        if del_element.left:\n",
    "            tmp_q.append(del_element.left)\n",
    "        if del_element.right:\n",
    "            tmp_q.append(del_element.right)\n",
    "        \n",
    "        # check if the next dequeued element might be dummy_node\n",
    "        \n",
    "        if tmp_q[0] == dummy_node:\n",
    "            tmp_q.popleft()\n",
    "            # level_list is full\n",
    "            reverse_r.append(level_list)\n",
    "            if tmp_q: # children elements exist\n",
    "                level_list = []\n",
    "                tmp_q.append(dummy_node)\n",
    "    while(reverse_r):\n",
    "        result.append(reverse_r.pop())\n",
    "    return result # returns the level order of the binary tree in reverse order\n",
    "\n",
    "\n",
    "def main():\n",
    "    root = TreeNode(12)\n",
    "    root.left = TreeNode(7)\n",
    "    root.right = TreeNode(1)\n",
    "    root.left.left = TreeNode(9)\n",
    "    root.right.left = TreeNode(10)\n",
    "    root.right.right = TreeNode(5)\n",
    "    print(\"Reverse level order traversal: \" + str(traverse(root)))\n",
    "\n",
    "main()"
   ]
  },
  {
   "cell_type": "markdown",
   "id": "9108a866",
   "metadata": {},
   "source": [
    "# Solution 1 from educative\n",
    "\n",
    "This problem follows the binary tree level order traversal pattern. We can follow the same BFS approach. The only difference will be that instead of appending the current level at the end, we will append the current level at the beginning of the result list.\n",
    "\n",
    "## code\n",
    "Here is what our algorithm will look like; only the highlighed lines have changed. Please note that, for Java, we will use a linked list instead of an array list for our result list. As in the case of arraylist, appending an element at the beginning means shifting all the existing elements. Since we need to append the level array at the beginning of the result list, a linked list will be better, as this shifting of elements is not required in a linked list. Similarly, we use a double ended queue(deque) for Python, C++, and javascript.\n"
   ]
  },
  {
   "cell_type": "code",
   "execution_count": 7,
   "id": "de90f36c",
   "metadata": {},
   "outputs": [
    {
     "name": "stdout",
     "output_type": "stream",
     "text": [
      "Reverse level order traversal: deque([[9, 10, 5], [7, 1], [12]])\n"
     ]
    }
   ],
   "source": [
    "from collections import deque\n",
    "\n",
    "\n",
    "class TreeNode:\n",
    "    def __init__(self, val):\n",
    "        self.val = val\n",
    "        self.left, self.right = None, None\n",
    "\n",
    "\n",
    "def traverse(root):\n",
    "    result = deque()\n",
    "    if root is None:\n",
    "        return result\n",
    "\n",
    "    queue = deque()\n",
    "    queue.append(root)\n",
    "    \n",
    "    while queue:\n",
    "        levelSize = len(queue)\n",
    "        currentLevel = []\n",
    "        for _ in range(levelSize):\n",
    "            currentNode = queue.popleft()\n",
    "            # add the node to the current level\n",
    "            currentLevel.append(currentNode.val)\n",
    "            # insert the children of current node in the queue\n",
    "            if currentNode.left:\n",
    "                queue.append(currentNode.left)\n",
    "            if currentNode.right:\n",
    "                queue.append(currentNode.right)\n",
    "\n",
    "        result.appendleft(currentLevel)\n",
    "\n",
    "    return result\n",
    "\n",
    "\n",
    "def main():\n",
    "    root = TreeNode(12)\n",
    "    root.left = TreeNode(7)\n",
    "    root.right = TreeNode(1)\n",
    "    root.left.left = TreeNode(9)\n",
    "    root.right.left = TreeNode(10)\n",
    "    root.right.right = TreeNode(5)\n",
    "    print(\"Reverse level order traversal: \" + str(traverse(root)))\n",
    "\n",
    "\n",
    "main()"
   ]
  },
  {
   "cell_type": "markdown",
   "id": "f4d998c9",
   "metadata": {},
   "source": [
    "# code analysis\n",
    "\n",
    "First we're using deque as the data structure for the result variable and that is what we're returning after our operations.\n",
    "\n",
    "If the binary tree is empty then return an empty deque()\n",
    "\n",
    "we initialize a queue and append the root to it\n",
    "\n",
    "While the queue has elements inside of it \n",
    "\n",
    "we store the length of the queue as the level size\n",
    "\n",
    "and set an empty list equal to a variable current_level\n",
    "\n",
    "we do a linear iteration of the levelsize\n",
    "and set the currentNode equal to the queue.popleft()\n",
    "\n",
    "then we append the value of the dequeued element to the current level list\n",
    "we check if the current node has any children(left and right)\n",
    "and append those into the list\n",
    "\n",
    "finally we append from the head of result the currentlevel list, which contains all the elements at the current level in a list\n",
    "\n",
    "once the queue is empty, we return the result, which is all the nodes at each level in reverse order.\n",
    "\n",
    "# Time and space complexity \n",
    "\n",
    "The time complexity of the above algorithm is O(N) where N is the total number of nodes in the tree. This is due to the fact that we traverse each node once.\n",
    "\n",
    "The space complexity of this algorithm is O(N) because we're storing every node in the binary tree inside of the queue and parsing it into the result double ended queue.\n"
   ]
  }
 ],
 "metadata": {
  "kernelspec": {
   "display_name": "Python 3 (ipykernel)",
   "language": "python",
   "name": "python3"
  },
  "language_info": {
   "codemirror_mode": {
    "name": "ipython",
    "version": 3
   },
   "file_extension": ".py",
   "mimetype": "text/x-python",
   "name": "python",
   "nbconvert_exporter": "python",
   "pygments_lexer": "ipython3",
   "version": "3.9.12"
  }
 },
 "nbformat": 4,
 "nbformat_minor": 5
}
