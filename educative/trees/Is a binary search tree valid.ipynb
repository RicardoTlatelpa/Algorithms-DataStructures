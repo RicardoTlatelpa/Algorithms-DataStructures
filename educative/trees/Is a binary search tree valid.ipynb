{
 "cells": [
  {
   "cell_type": "markdown",
   "id": "ffe1081c",
   "metadata": {},
   "source": [
    "# Is a binary search tree valid?\n",
    "Given a binary tree, determine whether it's a valid binary search tree\n",
    "\n",
    "## Statement\n",
    "\n",
    "Given a binary tree, figure out whether it's a valid binary search tree.\n",
    "\n",
    "In a BST, each node's key value is smaller than the key value of the right subtree nodes and greater than the key values of the left subtree nodes.\n",
    "\n",
    "pseudo code\n",
    "\n",
    "I am going to use a queue to traverse through the array in level-order and each time a left child or right child is appended to the queue I am going to double check that the left child is smaller than the current_node we dequeued\n",
    "and the right child is greater than the current we dequeued"
   ]
  },
  {
   "cell_type": "code",
   "execution_count": null,
   "id": "bc7f6be6",
   "metadata": {},
   "outputs": [],
   "source": [
    "# So we have to check that the left child is smaller than the current_node \n",
    "# and the right child is greater than the current node\n",
    "\n",
    "# We also have to split up the binary tree and make sure every node's value to right \n",
    "# of the root is greater than the root and every node left of the root is less than the root\n",
    "from collections import deque\n",
    "\n",
    "def is_bst_helper(rootval,root,right):\n",
    "    if root is None:\n",
    "        return True\n",
    "    queue = deque()\n",
    "    queue.append(root)\n",
    "    while queue:\n",
    "        levelSize = len(queue)\n",
    "        for _ in range(levelSize):\n",
    "            current_node = queue.popleft()\n",
    "            if current_node.data < rootval and right:\n",
    "                return False\n",
    "            if current_node.data > rootval and not right:\n",
    "                return False\n",
    "            if(current_node.left):\n",
    "                if(current_node.left.data > current_node.data):\n",
    "                    return False\n",
    "                queue.append(current_node.left)\n",
    "            if(current_node.right):\n",
    "                if(current_node.right.data < current_node.data):\n",
    "                    return False\n",
    "                queue.append(current_node.right)\n",
    "    return True\n",
    "\n",
    "def is_bst(root):\n",
    "    if root is None:\n",
    "        return True\n",
    "    return is_bst_helper(root.data,root.left, False) and is_bst_helper(root.data,root.right, True)\n",
    "            "
   ]
  },
  {
   "cell_type": "markdown",
   "id": "5eb55919",
   "metadata": {},
   "source": [
    "# Solution 1: Naive (brute force)\n",
    "\n",
    "The first solution that comes to mind is a naive one. We need to recursively check whether each node's left subtree's meximum value is less than its data, and its right subtree's minimum value is greater than it's data. Here are the steps we need to follow on each recursive call:\n",
    "\n",
    "- The base case checks and returns true if the node passed is null.\n",
    "- iterate only through the left children of the left subtre to get the minimum node of the left subtree\n",
    "- iterate only through the right children of the right subtree to get the maxmimum node of the right subtree\n",
    "- if the current node's value is less than the minimun value of the left subtree of if the current node's value is greater than the maximum value of the right subtree, return False\n",
    "- Make a recursive call on both the left and right children of the current node\n",
    "\n",
    "This algorithm is highly inefficeint as we explore both the right and left subtrees for each node.\n",
    "\n",
    "## Time Complexity\n",
    "\n",
    "The time complexity of this solution is quadratic O(N^2)\n",
    "\n",
    "## Space complexity \n",
    "\n",
    "The space complexity of this recursive solution is O(H) because it consumes memory on the call stack up to the height, h, of the binary tree. The complexity will be O(logN) for a balanced tree and O(N) for a degenerate tree."
   ]
  },
  {
   "cell_type": "markdown",
   "id": "73ec8b74",
   "metadata": {},
   "source": [
    "# Solution 2: Optimized\n",
    "A more effcient method involes doing an in-order traversal using recursion. We will use this approach for this solution.\n",
    "\n",
    "On each recursive call:\n",
    "- Check and return true if the root node passed is null\n",
    "- Check whether the current node's value is within the given minimum and maximum bounds. If the above condition fails, we return false, indicating that the tree is not a BST.\n",
    "- In subsequent recursive calls, when we move to the left subtree, set the maxmimum bound as the value of the current node, and when we move to the right subtree, set the minimum bound as the value of the current node.\n",
    "\n",
    "# Time and space complexity\n",
    "\n",
    "The time complexity of this solution is linear, O(N)\n",
    "\n",
    "The space complexity of this recursive solution is O(H) because it consumes memory on the call stack up to the height H of the binary tree. The complexity will be O(logN) for a balanced tree and O(N) for a degenerate tree."
   ]
  },
  {
   "cell_type": "code",
   "execution_count": 2,
   "id": "3260bff9",
   "metadata": {},
   "outputs": [],
   "source": [
    "def is_bst_rec(root, min_value, max_value):\n",
    "    if not root:\n",
    "        # make sure we visit every left and right node of the binary search tree\n",
    "        return True\n",
    "    if root.data < min_value or root.data > max_value:\n",
    "        return False\n",
    "    # so when we traverse to the left, we update the max value, when we traverse to the right(greater value)\n",
    "    # we update the minimum_value to be the current_node.data\n",
    "    return is_bst_rec(root.left, min_value, root.data) and is_bst_rec(root.right, root.data, max_value)\n",
    "def is_bst(root):\n",
    "    return is_bst_rec(root, float('-inf'), float('inf'))"
   ]
  },
  {
   "cell_type": "markdown",
   "id": "2c0d06f6",
   "metadata": {},
   "source": [
    "# Solution 3\n",
    "\n",
    "An excellent property of a BST is that its in order traversals are always in sorted order. We can use this property to check whether or not a given binary tree is a BST.\n",
    "\n",
    "Follow the following steps for this solution\n",
    "- perform a regular in-order traversal and keep track of the last visited node.\n",
    "- check whether the current node's value is greater than or equal to the previously visited node's value.\n",
    "\n",
    "# Time and space complexity\n",
    "\n",
    "The time complexity of this solution is linear, O(N)\n",
    "\n",
    "The space complexity of this recursive solution is O(h) because it consumes memory on the call stack up to the height h, of the binary tree. The complexity will be O(logN) for a balanced tree and O(N) for a degenerate tree."
   ]
  },
  {
   "cell_type": "code",
   "execution_count": null,
   "id": "15aa3ee0",
   "metadata": {},
   "outputs": [],
   "source": [
    "prev = None\n",
    "\n",
    "def is_bst_rec(root):\n",
    "    global prev\n",
    "    if not root:\n",
    "        return True\n",
    "    if is_bst_rec(root.left) == False:\n",
    "        return False\n",
    "    if prev and prev.data > root.data:\n",
    "        return False\n",
    "    \n",
    "    prev = root\n",
    "    \n",
    "    return is_bst_rec(root.right)\n",
    "\n",
    "def is_bst(root):\n",
    "    global prev\n",
    "    prev = None\n",
    "    return is_bst_rec(root)\n",
    "        "
   ]
  },
  {
   "cell_type": "markdown",
   "id": "cfafdd15",
   "metadata": {},
   "source": [
    "# Code analysis"
   ]
  }
 ],
 "metadata": {
  "kernelspec": {
   "display_name": "Python 3 (ipykernel)",
   "language": "python",
   "name": "python3"
  },
  "language_info": {
   "codemirror_mode": {
    "name": "ipython",
    "version": 3
   },
   "file_extension": ".py",
   "mimetype": "text/x-python",
   "name": "python",
   "nbconvert_exporter": "python",
   "pygments_lexer": "ipython3",
   "version": "3.9.12"
  }
 },
 "nbformat": 4,
 "nbformat_minor": 5
}
