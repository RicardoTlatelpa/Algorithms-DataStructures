{
 "cells": [
  {
   "cell_type": "markdown",
   "id": "a38e3302",
   "metadata": {},
   "source": [
    "# Statement\n",
    "\n",
    "Write a method to find the in-order successor of a BST node with a given value. Return -1 if the node with given value does not exist\n",
    "\n",
    "The in-order successor of a node in a BST is the node with the smallest key greater than the key of the current node. This is the same as the next node in an in order traversal of the BST\n"
   ]
  }
 ],
 "metadata": {
  "kernelspec": {
   "display_name": "Python 3 (ipykernel)",
   "language": "python",
   "name": "python3"
  },
  "language_info": {
   "codemirror_mode": {
    "name": "ipython",
    "version": 3
   },
   "file_extension": ".py",
   "mimetype": "text/x-python",
   "name": "python",
   "nbconvert_exporter": "python",
   "pygments_lexer": "ipython3",
   "version": "3.9.12"
  }
 },
 "nbformat": 4,
 "nbformat_minor": 5
}
