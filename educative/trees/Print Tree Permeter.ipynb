{
 "cells": [
  {
   "cell_type": "markdown",
   "id": "9a487f79",
   "metadata": {},
   "source": [
    "# Print Tree Perimeter\n",
    "\n",
    "Given a binary tree, print its perimeter nodes.\n",
    "\n",
    "## Statement\n",
    "\n",
    "Given the root node of a binary tree, print the nodes that form its perimeter(boundary). We must print the perimeter of the binary tree in three phases (order is important):\n",
    "- left boundary\n",
    "- leaf nodes\n",
    "- right boundary"
   ]
  }
 ],
 "metadata": {
  "kernelspec": {
   "display_name": "Python 3 (ipykernel)",
   "language": "python",
   "name": "python3"
  },
  "language_info": {
   "codemirror_mode": {
    "name": "ipython",
    "version": 3
   },
   "file_extension": ".py",
   "mimetype": "text/x-python",
   "name": "python",
   "nbconvert_exporter": "python",
   "pygments_lexer": "ipython3",
   "version": "3.9.13"
  }
 },
 "nbformat": 4,
 "nbformat_minor": 5
}
