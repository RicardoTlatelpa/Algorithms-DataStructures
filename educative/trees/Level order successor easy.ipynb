{
 "cells": [
  {
   "cell_type": "code",
   "execution_count": 1,
   "id": "fbcfa862",
   "metadata": {},
   "outputs": [],
   "source": [
    "from collections import deque \n",
    "\n",
    "class TreeNode:\n",
    "    def __init__(self,val):\n",
    "        self.val = val\n",
    "        self.left, self.right = None, None\n",
    "        \n",
    "def find_successor(root, key):\n",
    "    if root is None:\n",
    "        return None\n",
    "    queue = deque()\n",
    "    queue.append(root)\n",
    "    while queue:\n",
    "        current_length = len(queue)\n",
    "        for _ in range(current_length):\n",
    "            current_node = queue.popleft()\n",
    "            \n",
    "            if(current_node.left):\n",
    "                queue.append(current_node.left)\n",
    "            if(current_node.right):\n",
    "                queue.append(current_node.right)\n",
    "            \n",
    "            if current_node.val == key and queue:\n",
    "                return queue[0]\n",
    "    return None"
   ]
  },
  {
   "cell_type": "markdown",
   "id": "c77b5227",
   "metadata": {},
   "source": [
    "# Time and space complexity\n",
    "\n",
    "The time complexity for this algorithm worse case(key does not exist) is O(N)\n",
    "\n",
    "and space complexity is O(N) because the queue has to start at max N/2 elements in the queue"
   ]
  }
 ],
 "metadata": {
  "kernelspec": {
   "display_name": "Python 3 (ipykernel)",
   "language": "python",
   "name": "python3"
  },
  "language_info": {
   "codemirror_mode": {
    "name": "ipython",
    "version": 3
   },
   "file_extension": ".py",
   "mimetype": "text/x-python",
   "name": "python",
   "nbconvert_exporter": "python",
   "pygments_lexer": "ipython3",
   "version": "3.9.12"
  }
 },
 "nbformat": 4,
 "nbformat_minor": 5
}
