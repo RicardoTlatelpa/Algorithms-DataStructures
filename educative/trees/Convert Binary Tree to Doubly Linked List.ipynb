{
 "cells": [
  {
   "cell_type": "markdown",
   "id": "a043e5f1",
   "metadata": {},
   "source": [
    "# Convery Binary Tree to Doubly Linked List\n",
    "\n",
    "Convert a given binary tree to a doubly-linked list.\n",
    "\n",
    "## Statement\n",
    "Convert a given binary tree to a doubly linked list, such that the order of the doubly linked list is the same as the in order traversal of the binary tree.\n",
    "After conversion, the left pointer of the node should point to the previous node in the doubly linked list, and the right pointer should point to the next node in the double linked list. The head node of the linked list must the first node in the in-order traversal of the original binary tree.\n",
    "\n",
    "\n",
    "Traversing the tree in order, is easiest to do recursively because we traverse the left most tree then the right tree\n",
    "\n",
    "with a stack we would have to use a while loop to get to the left most tree node then pop each node and check if it has right children and then check if that node is the left most child\n"
   ]
  },
  {
   "cell_type": "code",
   "execution_count": null,
   "id": "d0360251",
   "metadata": {},
   "outputs": [],
   "source": []
  }
 ],
 "metadata": {
  "kernelspec": {
   "display_name": "Python 3 (ipykernel)",
   "language": "python",
   "name": "python3"
  },
  "language_info": {
   "codemirror_mode": {
    "name": "ipython",
    "version": 3
   },
   "file_extension": ".py",
   "mimetype": "text/x-python",
   "name": "python",
   "nbconvert_exporter": "python",
   "pygments_lexer": "ipython3",
   "version": "3.9.12"
  }
 },
 "nbformat": 4,
 "nbformat_minor": 5
}
