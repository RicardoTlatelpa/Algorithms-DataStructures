{
 "cells": [
  {
   "cell_type": "markdown",
   "id": "4f1a645d",
   "metadata": {},
   "source": [
    "# Introduction\n",
    "\n",
    "A binary tree is a tree in which each node has between 0-2 children. They're called the left and right children of the node. \n",
    "\n",
    "## Types of binary Trees\n",
    "\n",
    "### Complete Binary Trees\n",
    "\n",
    "A complete binary tree is a binary tree in which all the levels of the tree are fully filled, except for perhaps the last level which can be filled from left to right.\n",
    "\n",
    "\n",
    "### Full Binary Trees\n",
    "- In a full or 'proper' binary tree, ever node has 0 or 2 children. No node can have 1 child.\n",
    "- the total number of nodes in a full binary tree of height 'h' can be expressed as:\n",
    "\n",
    "2h + 1 <= total number of nodes <= pow(2,h+1) - 1\n",
    "\n",
    "**NOTE**\n",
    "Something that I noticed about this inequality is that the total number of nodes is always odd:\n",
    "\n",
    "h in this inequality represents the height of the tree and since every node in the tree can only grow 2 children at a time, that makes the tree grow exponentially with a base of 2, 2 to the power of anything gives back an even number, but the limit of the total num of nodes is upper bounded by an odd number because it is also subtracted by 1.\n",
    "\n",
    "It's lower bound is also an odd number, I made sense of the expression 2h + 1, as 1 representing the root node and 2 representing the 2 children each node can have and h representing the height, so at the nth height there are 2 * n + 1 total nodes.\n",
    "\n",
    "### Perfect Binary Trees\n",
    "\n",
    "A binary tree is said to be perfect if all its internal nodes have two children and all leaves are at the same level. Also note that,\n",
    "\n",
    "the total number of nodes in a perfect binary tree of height 'h' are given as pow(2,h+1) - 1\n",
    "the total number of leaf nodes are given as pow(2,h) or (n+1)/2\n",
    "\n",
    "### Other trees\n",
    "\n",
    "There are many other advanced trees derived from the basic structure of binary trees. These types will be discussed in the upcoming lessons. Some of the most common ones are:\n",
    "\n",
    "- Complete Binary Tree\n",
    "- Skewed Binary Tree\n",
    "- Binary Search Tree\n",
    "- AVL Tree"
   ]
  },
  {
   "cell_type": "code",
   "execution_count": null,
   "id": "34b3143e",
   "metadata": {},
   "outputs": [],
   "source": []
  }
 ],
 "metadata": {
  "kernelspec": {
   "display_name": "Python 3 (ipykernel)",
   "language": "python",
   "name": "python3"
  },
  "language_info": {
   "codemirror_mode": {
    "name": "ipython",
    "version": 3
   },
   "file_extension": ".py",
   "mimetype": "text/x-python",
   "name": "python",
   "nbconvert_exporter": "python",
   "pygments_lexer": "ipython3",
   "version": "3.9.12"
  }
 },
 "nbformat": 4,
 "nbformat_minor": 5
}
