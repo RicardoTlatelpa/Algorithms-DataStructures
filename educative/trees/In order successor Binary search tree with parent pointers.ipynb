{
 "cells": [
  {
   "cell_type": "markdown",
   "id": "0b586355",
   "metadata": {},
   "source": [
    "# In-order successor binary search tree with parent pointers\n",
    "\n",
    "Given a binary search tree node, write a method to find its in-order successor using parent pointers\n",
    "\n",
    "\n",
    "## Statement\n",
    "\n",
    "Write a method to find the in-order successor of a given BST node using parent pointers. Return -1 if the node with the given value does not exist.\n",
    "\n",
    "The in-order successor of a node in a BST is the node with the smallest key greater than the key of the current node. This is the same as the next node in an in-order traversal of the BST.b"
   ]
  },
  {
   "cell_type": "code",
   "execution_count": 2,
   "id": "55437dfc",
   "metadata": {},
   "outputs": [],
   "source": [
    "class BinaryTreeNode:\n",
    "    def __init__(self, data):\n",
    "        self.data = data\n",
    "        self.left = None\n",
    "        self.right = None\n",
    "        \n",
    "        self.next = None\n",
    "        self.parent = None\n",
    "        self.count = None\n",
    "\n",
    "def find_min(root):\n",
    "    while root.left:\n",
    "        root = root.left\n",
    "    return root\n",
    "\n",
    "def find_inorder_helper(root, predecessor_data, parent):\n",
    "    if root == None:\n",
    "        tmp = BinaryTreeNode(-1)\n",
    "        return tmp\n",
    "    if(predecessor_data > root.data):\n",
    "        return find_inorder_helper(root.right, predecessor_data, root)\n",
    "    elif(predecessor_data < root.data):\n",
    "        return find_inorder_helper(root.left, predecessor_data, root)\n",
    "    else:\n",
    "        if root.right == None and root.left == None:\n",
    "            parent == root.parent\n",
    "            while(parent and parent.data < root.data):\n",
    "                parent = parent.parent\n",
    "            return parent # parent can be a node or can be None\n",
    "        else:\n",
    "            # this part of the successor algorithm does not change\n",
    "            return find_min(root.right)\n",
    "\n",
    "def find_inorder_sucessor(root, predecessor_data):\n",
    "    if(root == None):\n",
    "        return None\n",
    "    return find_inorder_helper(root, predecessor_data, root.parent)"
   ]
  },
  {
   "cell_type": "markdown",
   "id": "c9f02479",
   "metadata": {},
   "source": [
    "# Code analysis\n",
    "\n",
    "The point of this problem is to take advantage of the parent pointer in the Binary Tree nodes\n",
    "\n",
    "So we first start this algorithm by making a quick check to see if the binary tree is empty or not\n",
    "\n",
    "then we pass an extra parameter to a helper function called parent\n",
    "this will be helpful to use becuase it will allow us to record the parents as traverse through the tree\n",
    "\n",
    "\n",
    "As we traverse through the tree, if we come across the case that the root is none, that means the predecessor_data did not exist in the binary tree\n",
    "\n",
    "as we continue and store the parents for each binary tree node\n",
    "\n",
    "we traverse the tree in O(logN) time,\n",
    "\n",
    "once we stumble upon the node we check if the binary tree node has any children, if it does, then it's successor will be its right child's leftest node\n",
    "\n",
    "if no children exist for the node with the predecessor_data then we take advantage of the parent pointers we've been storing and we look for a parent pointer with data that is greater than the predecessor_data, if we find that node we return it, if we don't we return None\n",
    "\n",
    "# Time and space complexity\n",
    "\n",
    "The time complexty of this solution is O(H), where h is the is the height of the BST. For a balanced, BSt, it will be O(logN), and in the worst case, for a degenerate BSt, it will be O(N), where n is the number of nodes in the BST.\n",
    "\n",
    "The space complexity is O(LogN) or O(H) because we're are storing this many binary tree nodes in the memory stack\n"
   ]
  },
  {
   "cell_type": "code",
   "execution_count": null,
   "id": "df43ec43",
   "metadata": {},
   "outputs": [],
   "source": [
    "def tree_min(root):\n",
    "    if not root:\n",
    "        return None\n",
    "    while root.left:\n",
    "        root = root.left\n",
    "    return root\n",
    "\n",
    "def parent_stream_successor(node):\n",
    "    while node.parent:\n",
    "        if node.parent.left == node:\n",
    "            return node.parent\n",
    "        node = node.parent"
   ]
  }
 ],
 "metadata": {
  "kernelspec": {
   "display_name": "Python 3 (ipykernel)",
   "language": "python",
   "name": "python3"
  },
  "language_info": {
   "codemirror_mode": {
    "name": "ipython",
    "version": 3
   },
   "file_extension": ".py",
   "mimetype": "text/x-python",
   "name": "python",
   "nbconvert_exporter": "python",
   "pygments_lexer": "ipython3",
   "version": "3.9.12"
  }
 },
 "nbformat": 4,
 "nbformat_minor": 5
}
