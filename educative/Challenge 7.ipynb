{
 "cells": [
  {
   "cell_type": "markdown",
   "id": "5bae194b",
   "metadata": {},
   "source": [
    "# Challenge 7\n",
    "\n",
    "Implement a function find_second_maximum(lst) which returns the second largest element in the list."
   ]
  },
  {
   "cell_type": "code",
   "execution_count": 7,
   "id": "85da22a9",
   "metadata": {},
   "outputs": [],
   "source": [
    "def my_second_largest(lst):\n",
    "    max = float('-inf')\n",
    "    last_max = 0\n",
    "    \n",
    "    for i in range(len(lst)):\n",
    "        if(lst[i] > max):\n",
    "            last_max = max\n",
    "            max = lst[i]    \n",
    "    return last_max\n",
    "\n"
   ]
  },
  {
   "cell_type": "markdown",
   "id": "4791ba0b",
   "metadata": {},
   "source": [
    "# Time and space complexity\n",
    "\n",
    "The time complexity is O(N) and the space complexity is O(1)"
   ]
  }
 ],
 "metadata": {
  "kernelspec": {
   "display_name": "Python 3 (ipykernel)",
   "language": "python",
   "name": "python3"
  },
  "language_info": {
   "codemirror_mode": {
    "name": "ipython",
    "version": 3
   },
   "file_extension": ".py",
   "mimetype": "text/x-python",
   "name": "python",
   "nbconvert_exporter": "python",
   "pygments_lexer": "ipython3",
   "version": "3.9.12"
  }
 },
 "nbformat": 4,
 "nbformat_minor": 5
}
