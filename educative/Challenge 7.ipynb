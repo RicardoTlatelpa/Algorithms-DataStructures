{
 "cells": [
  {
   "cell_type": "markdown",
   "id": "b328a9b5",
   "metadata": {},
   "source": [
    "# Challenge 7\n",
    "\n",
    "Implement a function find_second_maximum(lst) which returns the second largest element in the list."
   ]
  },
  {
   "cell_type": "code",
   "execution_count": 11,
   "id": "b60c859e",
   "metadata": {},
   "outputs": [],
   "source": [
    "def my_find_second_maximum(lst):\n",
    "    # Write your code here\n",
    "    result = float('inf')\n",
    "    max_num = float('-inf')\n",
    "    max_num_idx = -1\n",
    "    smallest_dif = float('inf')\n",
    "    for i in range(len(lst)):\n",
    "        if(lst[i] > max_num):\n",
    "            max_num = lst[i]\n",
    "            max_num_idx = i\n",
    "\n",
    "    for j in range(len(lst)):\n",
    "        diff = max_num - lst[j]\n",
    "        if(j != max_num_idx and diff < smallest_dif):\n",
    "            smallest_dif = diff\n",
    "            result = lst[j]\n",
    "\n",
    "    return result\n"
   ]
  },
  {
   "cell_type": "markdown",
   "id": "66afb959",
   "metadata": {},
   "source": [
    "# Time and space complexity\n",
    "\n",
    "The time complexity is O(N) and the space complexity is O(1)"
   ]
  },
  {
   "cell_type": "code",
   "execution_count": 12,
   "id": "9eaa43eb",
   "metadata": {},
   "outputs": [],
   "source": [
    "def find_second_maximum(lst):\n",
    "    max = float('-inf')\n",
    "    secondmax = float('-inf')\n",
    "    for val in lst:\n",
    "        if val > max:\n",
    "            secondmax = max\n",
    "            max = val\n",
    "        elif val > secondmax:\n",
    "            secondmax = val\n",
    "    return secondmax"
   ]
  },
  {
   "cell_type": "markdown",
   "id": "44baa22f",
   "metadata": {},
   "source": [
    "# Time and space complexty\n",
    "The time complexity is O(N) and the space complexity is O(1)"
   ]
  },
  {
   "cell_type": "code",
   "execution_count": null,
   "id": "059aae68",
   "metadata": {},
   "outputs": [],
   "source": [
    "def find_second_maximum(lst):\n",
    "    lst.sort()\n",
    "    if(len(lst) >= 2):\n",
    "        return lst[len(lst)-2]\n",
    "    else:\n",
    "        return None"
   ]
  },
  {
   "cell_type": "markdown",
   "id": "7d7449c8",
   "metadata": {},
   "source": [
    "# Time and space complexity\n",
    "\n",
    "The time complexity is the sorting algorithms time complexity which is O(NLogN) with a space complexity of O(1)"
   ]
  }
 ],
 "metadata": {
  "kernelspec": {
   "display_name": "Python 3 (ipykernel)",
   "language": "python",
   "name": "python3"
  },
  "language_info": {
   "codemirror_mode": {
    "name": "ipython",
    "version": 3
   },
   "file_extension": ".py",
   "mimetype": "text/x-python",
   "name": "python",
   "nbconvert_exporter": "python",
   "pygments_lexer": "ipython3",
   "version": "3.9.12"
  }
 },
 "nbformat": 4,
 "nbformat_minor": 5
}
