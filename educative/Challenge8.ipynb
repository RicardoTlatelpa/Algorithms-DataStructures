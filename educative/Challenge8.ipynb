{
 "cells": [
  {
   "cell_type": "markdown",
   "id": "e8d14de0",
   "metadata": {},
   "source": [
    "# Challenge8\n",
    "\n",
    "Implement a function right_rotate(lst, k) which will rotate the given list by k. This means that the right-most elements will appear at the left-most position in the list and so on. You only have to rotate the list by one element at a time.\n"
   ]
  },
  {
   "cell_type": "code",
   "execution_count": null,
   "id": "33386593",
   "metadata": {},
   "outputs": [],
   "source": [
    "def right_rotate(lst,k):\n",
    "    \n",
    "\n",
    "    "
   ]
  },
  {
   "cell_type": "code",
   "execution_count": 1,
   "id": "a6f97a29",
   "metadata": {},
   "outputs": [
    {
     "name": "stdout",
     "output_type": "stream",
     "text": [
      "1\n",
      "2\n",
      "0\n",
      "1\n",
      "2\n",
      "0\n",
      "1\n"
     ]
    }
   ],
   "source": [
    "# pretending we have a list of length 3\n",
    "for i in range(1,8):\n",
    "    print(i%3)"
   ]
  },
  {
   "cell_type": "code",
   "execution_count": null,
   "id": "d4329e57",
   "metadata": {},
   "outputs": [],
   "source": []
  }
 ],
 "metadata": {
  "kernelspec": {
   "display_name": "Python 3 (ipykernel)",
   "language": "python",
   "name": "python3"
  },
  "language_info": {
   "codemirror_mode": {
    "name": "ipython",
    "version": 3
   },
   "file_extension": ".py",
   "mimetype": "text/x-python",
   "name": "python",
   "nbconvert_exporter": "python",
   "pygments_lexer": "ipython3",
   "version": "3.9.12"
  }
 },
 "nbformat": 4,
 "nbformat_minor": 5
}
