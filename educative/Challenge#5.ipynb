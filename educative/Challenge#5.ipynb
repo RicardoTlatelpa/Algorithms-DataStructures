{
 "cells": [
  {
   "cell_type": "markdown",
   "id": "8ba10874",
   "metadata": {},
   "source": [
    "# Challenge #5: Find minimum value in list\n",
    "\n",
    "find the smallest value in a list of random integers"
   ]
  },
  {
   "cell_type": "code",
   "execution_count": 1,
   "id": "1f30ddca",
   "metadata": {},
   "outputs": [
    {
     "name": "stdout",
     "output_type": "stream",
     "text": [
      "2\n"
     ]
    }
   ],
   "source": [
    "def my_find_minimum(arr):\n",
    "    min = float('inf')\n",
    "    for i in range(len(arr)):\n",
    "        if(arr[i] < min):\n",
    "            min = arr[i]\n",
    "    return min\n",
    "\n",
    "print(my_find_minimum([9,2,3,6]))"
   ]
  },
  {
   "cell_type": "markdown",
   "id": "402cac36",
   "metadata": {},
   "source": [
    "# Time and space complexity\n",
    "\n",
    "The time complexity for this solution is O(N) and is the best solution for this problem.\n",
    "The space complexity for this solution is O(1), because every memory operation is O(1), added together, it is still O(1)"
   ]
  },
  {
   "cell_type": "code",
   "execution_count": 3,
   "id": "08dd354f",
   "metadata": {},
   "outputs": [
    {
     "name": "stdout",
     "output_type": "stream",
     "text": [
      "2\n"
     ]
    }
   ],
   "source": [
    "def sort_find_minimum(arr):\n",
    "    if (len(arr) <= 0):\n",
    "        return None\n",
    "    arr.sort()\n",
    "    return arr[0] \n",
    "print(sort_find_minimum([9,2,3,6]))"
   ]
  },
  {
   "cell_type": "markdown",
   "id": "a1c07fca",
   "metadata": {},
   "source": [
    "# Time and space complexity\n",
    "\n",
    "The biggest operation in this function is the sorting function, which takes O(nLog(n)) time, so the time complexity big O notation is O(NLogN)\n",
    "The space complexity of this function is O(1)"
   ]
  },
  {
   "cell_type": "code",
   "execution_count": null,
   "id": "41947c6e",
   "metadata": {},
   "outputs": [],
   "source": [
    "def merge_sort_find_minimum(arr):\n",
    "    if (len(arr) <= 0):\n",
    "        return None\n"
   ]
  },
  {
   "cell_type": "markdown",
   "id": "712d7e3b",
   "metadata": {},
   "source": [
    "# Time and space complexity\n",
    "\n",
    "The merge sort algorithm is O(NLogN), which is the biggest process in the function so, its time complexity is O(NLogN)\n",
    "and the "
   ]
  }
 ],
 "metadata": {
  "kernelspec": {
   "display_name": "Python 3 (ipykernel)",
   "language": "python",
   "name": "python3"
  },
  "language_info": {
   "codemirror_mode": {
    "name": "ipython",
    "version": 3
   },
   "file_extension": ".py",
   "mimetype": "text/x-python",
   "name": "python",
   "nbconvert_exporter": "python",
   "pygments_lexer": "ipython3",
   "version": "3.9.12"
  }
 },
 "nbformat": 4,
 "nbformat_minor": 5
}
