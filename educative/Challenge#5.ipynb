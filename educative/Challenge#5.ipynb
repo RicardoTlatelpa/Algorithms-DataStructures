{
 "cells": [
  {
   "cell_type": "markdown",
   "id": "e33900c1",
   "metadata": {},
   "source": [
    "# Challenge #5: Find minimum value in list\n",
    "\n",
    "find the smallest value in a list of random integers"
   ]
  },
  {
   "cell_type": "code",
   "execution_count": 1,
   "id": "ff65b4d9",
   "metadata": {},
   "outputs": [
    {
     "name": "stdout",
     "output_type": "stream",
     "text": [
      "2\n"
     ]
    }
   ],
   "source": [
    "def my_find_minimum(arr):\n",
    "    min = float('inf')\n",
    "    for i in range(len(arr)):\n",
    "        if(arr[i] < min):\n",
    "            min = arr[i]\n",
    "    return min\n",
    "\n",
    "print(my_find_minimum([9,2,3,6]))"
   ]
  },
  {
   "cell_type": "markdown",
   "id": "b50df776",
   "metadata": {},
   "source": [
    "# Time and space complexity\n",
    "\n",
    "The time complexity for this solution is O(N) and is the best solution for this problem.\n",
    "The space complexity for this solution is O(1), because every memory operation is O(1), added together, it is still O(1)"
   ]
  },
  {
   "cell_type": "code",
   "execution_count": 3,
   "id": "e1fac413",
   "metadata": {},
   "outputs": [
    {
     "name": "stdout",
     "output_type": "stream",
     "text": [
      "2\n"
     ]
    }
   ],
   "source": [
    "def sort_find_minimum(arr):\n",
    "    if (len(arr) <= 0):\n",
    "        return None\n",
    "    arr.sort()\n",
    "    return arr[0] \n",
    "print(sort_find_minimum([9,2,3,6]))"
   ]
  },
  {
   "cell_type": "markdown",
   "id": "da618412",
   "metadata": {},
   "source": [
    "# Time and space complexity\n",
    "\n",
    "The biggest operation in this function is the sorting function, which takes O(nLog(n)) time, so the time complexity big O notation is O(NLogN)\n",
    "The space complexity of this function is O(1)"
   ]
  },
  {
   "cell_type": "code",
   "execution_count": 13,
   "id": "f11a1b70",
   "metadata": {},
   "outputs": [
    {
     "name": "stdout",
     "output_type": "stream",
     "text": [
      "2\n"
     ]
    }
   ],
   "source": [
    "def mergeSort(arr):\n",
    "    if(len(arr) > 1):\n",
    "        mid = len(arr) // 2\n",
    "        left = arr[:mid]\n",
    "        right = arr[mid:]\n",
    "\n",
    "        mergeSort(left)\n",
    "        mergeSort(right)\n",
    "\n",
    "        i = 0\n",
    "        j = 0\n",
    "        k = 0\n",
    "\n",
    "        while (i < len(left)) and (j < len(right)):\n",
    "            if(left[i] < right[j]):\n",
    "                arr[k] = left[i]\n",
    "                i+=1\n",
    "            else:\n",
    "                arr[k] = right[j]\n",
    "                j +=1\n",
    "            k += 1\n",
    "\n",
    "        while(i < len(left)):\n",
    "            arr[k] = left[i]\n",
    "            i += 1\n",
    "            k += 1\n",
    "\n",
    "        while(j < len(right)):\n",
    "            arr[k] = right[j]\n",
    "            j += 1\n",
    "            k += 1\n",
    "\n",
    "def merge_sort_find_minimum(arr):\n",
    "    if (len(arr) <= 0):\n",
    "        return None\n",
    "    mergeSort(arr)\n",
    "    return arr[0]\n",
    "\n",
    "print(merge_sort_find_minimum([9,2,3,6]))"
   ]
  },
  {
   "cell_type": "markdown",
   "id": "aa97e543",
   "metadata": {},
   "source": [
    "# Time and space complexity\n",
    "\n",
    "The merge sort algorithm is O(NLogN), which is the biggest process in the function so, its time complexity is O(NLogN)\n",
    "and the "
   ]
  }
 ],
 "metadata": {
  "kernelspec": {
   "display_name": "Python 3 (ipykernel)",
   "language": "python",
   "name": "python3"
  },
  "language_info": {
   "codemirror_mode": {
    "name": "ipython",
    "version": 3
   },
   "file_extension": ".py",
   "mimetype": "text/x-python",
   "name": "python",
   "nbconvert_exporter": "python",
   "pygments_lexer": "ipython3",
   "version": "3.9.12"
  }
 },
 "nbformat": 4,
 "nbformat_minor": 5
}
