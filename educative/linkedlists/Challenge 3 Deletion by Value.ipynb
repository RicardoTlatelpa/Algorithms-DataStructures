{
 "cells": [
  {
   "cell_type": "markdown",
   "id": "d063c7c0",
   "metadata": {},
   "source": [
    "# Deletion by value\n",
    "\n",
    "Delete the element in a linked list with a specific value"
   ]
  },
  {
   "cell_type": "code",
   "execution_count": 3,
   "id": "3b17fc39",
   "metadata": {},
   "outputs": [],
   "source": [
    "def delete(lst,value):\n",
    "    if(lst.is_empty()):\n",
    "        return False\n",
    "    \n",
    "    head = lst.get_head()\n",
    "    \n",
    "    if value == head.data:\n",
    "        lst.delete_at_head()\n",
    "        return True\n",
    "    \n",
    "    while head.next_element:\n",
    "        if head.next_element.data == value:\n",
    "            tmp = head.next_element\n",
    "            head.next_element = head.next_element.next_element\n",
    "            tmp.next_element = None   \n",
    "            return True\n",
    "        head = head.next_element\n",
    "       \n",
    "    return False"
   ]
  },
  {
   "cell_type": "markdown",
   "id": "4552ba54",
   "metadata": {},
   "source": [
    "# Time and space complexity\n",
    "\n",
    "Time complexity is O(N) and space complexity is O(1)"
   ]
  },
  {
   "cell_type": "code",
   "execution_count": 6,
   "id": "390bb4d9",
   "metadata": {},
   "outputs": [],
   "source": [
    "def delete(lst,value):\n",
    "    deleted = False\n",
    "    if lst.is_empty():\n",
    "        return deleted\n",
    "    current_node = lst.get_head()\n",
    "    previous_node = None\n",
    "    if current_node.data == value:\n",
    "        lst.delete_at_head()\n",
    "        deleted = True\n",
    "        return deleted\n",
    "    while(current_node is not None):\n",
    "        if value == current_node.data:\n",
    "            previous.node.next_element = current_node.next_element\n",
    "            current_node.next_element = None\n",
    "            deleted = True\n",
    "            break\n",
    "        previous_node = current_node\n",
    "        current_node = current_node.next_element\n",
    "    if deleted == False:\n",
    "        print(str(value) + \" is not in list!\")\n",
    "    else:\n",
    "        print(str(value) +  \" deleted!\")\n",
    "    return deleted"
   ]
  },
  {
   "cell_type": "markdown",
   "id": "d5ba832e",
   "metadata": {},
   "source": [
    "# code analysis\n",
    "\n",
    "As we iterate through the linked list linearly, we store the previous node and the current node, so that if we ever come across the node we want to delete, we have a record of the pointer that points to it, we can quickly delete it and return.\n",
    "\n",
    "Of course the first checks are checking if the list is empty or if the value we're looking for is at the head of the list.\n",
    "\n",
    "# Time and space complexity\n",
    "Time complexity is O(N) and space complexity is O(1)"
   ]
  }
 ],
 "metadata": {
  "kernelspec": {
   "display_name": "Python 3 (ipykernel)",
   "language": "python",
   "name": "python3"
  },
  "language_info": {
   "codemirror_mode": {
    "name": "ipython",
    "version": 3
   },
   "file_extension": ".py",
   "mimetype": "text/x-python",
   "name": "python",
   "nbconvert_exporter": "python",
   "pygments_lexer": "ipython3",
   "version": "3.9.12"
  }
 },
 "nbformat": 4,
 "nbformat_minor": 5
}
