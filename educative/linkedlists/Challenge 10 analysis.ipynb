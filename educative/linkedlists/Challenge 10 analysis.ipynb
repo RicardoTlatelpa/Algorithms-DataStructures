{
 "cells": [
  {
   "cell_type": "markdown",
   "id": "65504339",
   "metadata": {},
   "source": [
    "# Challenge 10: Return the Nth node from End\n",
    "\n",
    "In the find_nth function, a certain N is specified as an argument. You simply need to return the node which is N spaces away from the None end of the linked list."
   ]
  },
  {
   "cell_type": "code",
   "execution_count": null,
   "id": "b2830aba",
   "metadata": {},
   "outputs": [],
   "source": [
    "def my_find_nth(lst,n):\n",
    "    pointer = lst.get_head()\n",
    "    length_of_list = 0\n",
    "    while pointer:\n",
    "        length_of_list +=1\n",
    "        pointer = pointer.next_element\n",
    "    if n > length_of_list:\n",
    "        return -1\n",
    "    \n",
    "    delete_at_idx = length_of_list - n\n",
    "    if delete_at_idx == 0\n",
    "        return lst.get_head().data\n",
    "    \n",
    "    current_idx = 0\n",
    "    tmp = lst.get_head().next_element\n",
    "    \n",
    "    while tmp:\n",
    "        curr_idx += 1\n",
    "        if curr_idx == delete_at_idx:\n",
    "            return tmp.data\n",
    "        tmp = tmp.next_element\n",
    "        "
   ]
  },
  {
   "cell_type": "markdown",
   "id": "446eef2e",
   "metadata": {},
   "source": [
    "# Code analysis\n",
    "\n",
    "my idea was to store the head of the linked list in a pointer\n",
    "\n",
    "the pointer was responsible for traversing through the entire list so that I can find the length of the list\n",
    "\n",
    "once the length of the list is found I do a quick check to see if the nth input is greater than the list, if it is then I return -1 because it is out of bounds of the list\n",
    "\n",
    "After the check, I calculate at what index I want to delete at, I call this variable delete_at_idx\n",
    "\n",
    "if the index is the head I return the head's data\n",
    "\n",
    "if it is not, then I move on to traverse the list one more time to land at the node that sits nth spaces away from the end\n",
    "\n",
    "I do this by creating a tmp pointer for the second iteration that starts at the second node, but counts as index 1, and the head is at index 0\n",
    "\n",
    "while tmp points to a node, I increase the curr_idx by 1 and check if I am at the current_idx\n",
    "if I am I return the node's data, if I'm not I move forward into the list\n",
    "\n",
    "# Time and space complexity\n",
    "\n",
    "Time complexity is O(2N) but simplifies to O(N), there are two O(N) operations that iterate through the linked list once. The first iteration to find the length of the list and the second iteration to land at the right index.\n",
    "\n",
    "The space complexity is O(1) because the space operations are all constant and remain the same as the list gets infinitely bigger."
   ]
  },
  {
   "cell_type": "code",
   "execution_count": null,
   "id": "db1f9215",
   "metadata": {},
   "outputs": [],
   "source": [
    "def find_nth(lst,n):\n",
    "    if lst.is_empty():\n",
    "        return -1\n",
    "    nth_node = lst.get_head()\n",
    "    end_node = lst.get_head()\n",
    "    \n",
    "    count = 0\n",
    "    while count < n:\n",
    "        if end_node is None:\n",
    "            return -1\n",
    "        end_node = end_node.next_element\n",
    "        count += 1\n",
    "    \n",
    "    while end_node is not None:\n",
    "        end_node = end_node.next_element\n",
    "        nth_node = nth_node.next_element\n",
    "        \n",
    "    return nth_node.data"
   ]
  },
  {
   "cell_type": "markdown",
   "id": "23d4fba6",
   "metadata": {},
   "source": [
    "# Code analysis \n",
    "\n",
    "first check if the list is empty\n",
    "\n",
    "nth_node points to the head of the linked list\n",
    "end_node points to the head of the linked list\n",
    "\n",
    "and we have a counter that points equals 0\n",
    "\n",
    "while the count is less than n\n",
    "    first check if the end_node is pointing to None\n",
    "        if it is, return -1\n",
    "    set end_node equal to the next node in the list\n",
    "    increase count by 1\n",
    "    \n",
    "After the first while loop, end_node is pointing at the nth position of the list\n",
    "\n",
    "iterate the list until we reach the end of the list with the end_node\n",
    "and bring along the nth_node pointer that will be n steps behind the end_node\n",
    "\n",
    "Once the end_node has reached the end of the list, the nth_node pointer will be pointing n nodes away from the end of the list and it's data can be returned.\n",
    "\n",
    "return nth_node.data\n",
    "\n",
    "# Time and space complexity\n",
    "\n",
    "Time complexity is O(N) and space complexity is O(1).\n"
   ]
  }
 ],
 "metadata": {
  "kernelspec": {
   "display_name": "Python 3 (ipykernel)",
   "language": "python",
   "name": "python3"
  },
  "language_info": {
   "codemirror_mode": {
    "name": "ipython",
    "version": 3
   },
   "file_extension": ".py",
   "mimetype": "text/x-python",
   "name": "python",
   "nbconvert_exporter": "python",
   "pygments_lexer": "ipython3",
   "version": "3.9.12"
  }
 },
 "nbformat": 4,
 "nbformat_minor": 5
}
