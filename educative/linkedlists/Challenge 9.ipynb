{
 "cells": [
  {
   "cell_type": "markdown",
   "id": "edfdee96",
   "metadata": {},
   "source": [
    "# Challenge 9: Union & Intersection of Linked Lists\n",
    "\n",
    "The union function should bring the linked lists together\n",
    "The intersection function should combine all the common data into a list"
   ]
  },
  {
   "cell_type": "code",
   "execution_count": null,
   "id": "6ea5e727",
   "metadata": {},
   "outputs": [],
   "source": [
    "def union(list1,list2):\n",
    "    if(list1.is_empty()):\n",
    "        return list2\n",
    "    elif(list2.is_empty()):\n",
    "        return list1\n",
    "    \n",
    "    start = list1.get_head()\n",
    "    \n",
    "    while start.next_element:\n",
    "        start = start.next_element\n",
    "    \n",
    "    start.next_element = list2.get_head()\n",
    "    list1.remove_duplicates()\n",
    "    return list1"
   ]
  },
  {
   "cell_type": "markdown",
   "id": "712f8950",
   "metadata": {},
   "source": [
    "# Code analysis\n",
    "\n",
    "**List1**\n",
    "1->2->3->None\n",
    "**List2**\n",
    "List2\n",
    "4->5->6->None\n",
    "\n",
    "\n",
    "we iterate to the end(tail) of the first list\n",
    "and we connect node 3 to the head of list2 and the result is \n",
    "\n",
    "1->2->3->4->5->6->None\n",
    "\n",
    "if there were any duplicate values in the final list the remove_duplicates() method would get rid of them\n",
    "\n",
    "similar to the duplicates challenge before, the duplicate method is an O(N^2) operation\n",
    "\n",
    "while the reaching the tail end of the first list is O(N) operation\n",
    "\n",
    "O(N + N^2) simplifies to O(N^2)\n",
    "\n",
    "# Time and space complexity\n",
    "\n",
    "Time complexity for this function is O(N^2) and the space complexity is O(1), the input of the lists does not affect the memory operations because they are all constant memory operations.\n",
    "\n",
    "The first list size can be viewed as M, the second list size can be N, and the combined sized list is L, the duplicate method in the end makes this function O(L^2) where l is the size of the combined linked lists O(M) + O(N)"
   ]
  },
  {
   "cell_type": "code",
   "execution_count": null,
   "id": "9f676508",
   "metadata": {},
   "outputs": [],
   "source": [
    "def intersection(list1, list2):\n",
    "    result = linkedList()\n",
    "    current_node = list1.get_head()\n",
    "    \n",
    "    while current_node is not None:\n",
    "        value = current_node.data\n",
    "        if list2.search(value) is not None:\n",
    "            result.insert_at_head(value)\n",
    "        current_node = current_node.next_element\n",
    "        \n",
    "        result.remove_duplicates()\n",
    "        return result"
   ]
  },
  {
   "cell_type": "markdown",
   "id": "b9b363aa",
   "metadata": {},
   "source": [
    "# Code anaylsis\n",
    "\n",
    "The result linked list exists to store all the intersecting nodes\n",
    "\n",
    "the current_node is the traversing pointer that will traverse through the first list\n",
    "\n",
    "while traversing the list, \n",
    "\n",
    "value of the current node will be stored\n",
    "\n",
    "list2 will search for that value, if exists\n",
    "\n",
    "result will store that value\n",
    "\n",
    "and the current_node will move forward into the list\n",
    "\n",
    "\n",
    "if there are any duplicates O(N^2) operation on result list, they will be deleted by method remove_duplicates\n",
    "\n",
    "\n",
    "result linked list is returned\n",
    "\n",
    "\n",
    "\n",
    "# Time and space complexity\n",
    "\n",
    "The time complexity of looking for equal data attributes is O(M*N) where m is the size of the first list, and n is the size of the second list\n",
    "\n",
    "the result list becomes size of min(M,N) where we perform a squared operation on it (removing duplicates) -> min(M,N)^2, so all together depdending on the sizes of the lists and the size of the combined list the time complexity becomes max(O(MN),O(min(MN)^2)), \n",
    "\n",
    "\n",
    "if the combined list is as great or greater than the input lists, the duplicating removal operation is the greater operation in the function. Making the time complexity O(min(M,N)^2), where min(M,N) represents the intersected list.\n",
    "\n",
    "if the combined list is small, relative to input lists, than the first while loop will be the greatest operation in the function making the time complexity O(MN)\n",
    "\n",
    "the space complexity is simply the size of the intersected list O(min(M,N))"
   ]
  }
 ],
 "metadata": {
  "kernelspec": {
   "display_name": "Python 3 (ipykernel)",
   "language": "python",
   "name": "python3"
  },
  "language_info": {
   "codemirror_mode": {
    "name": "ipython",
    "version": 3
   },
   "file_extension": ".py",
   "mimetype": "text/x-python",
   "name": "python",
   "nbconvert_exporter": "python",
   "pygments_lexer": "ipython3",
   "version": "3.9.12"
  }
 },
 "nbformat": 4,
 "nbformat_minor": 5
}
