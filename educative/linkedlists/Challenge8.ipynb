{
 "cells": [
  {
   "cell_type": "markdown",
   "id": "d5739a7c",
   "metadata": {},
   "source": [
    "# Challenge 8: Remove duplicates from linked list\n",
    "\n",
    "You will now be implementing the remove_duplicates() function. When a linked list is passsed to this function, it removes any node which is a duplicate of another existing node.\n",
    "\n",
    "pseudo code:\n",
    "\n",
    "p = pointer starting at head\n",
    "\n",
    "iterate through the array, node by node\n",
    "        if p.data = p.next_element.data: //we have a duplicate occurence\n",
    "            duplicate_data = p.data\n",
    "            p2 = p\n",
    "            while p2.data != duplicate_data and p2:\n",
    "                n = p2.next_element\n",
    "                p2.next_element = None\n",
    "                p2 = n\n",
    "                // get rid of the pointer chain of potential duplicate values (might be a short or long chain)\n",
    "                // after this while loop, we can assume that p2 holds a non duplicating node or None\n",
    "            if p2:\n",
    "                p.next_element = p2\n",
    "Let d be the potential duplicates for each node, and n be every node in the linked list\n",
    "the time complexity of this solution is O(N*D), because we are iterating through an n sized linked list and each node might have d, duplicates, requiring an iteration of size d\n",
    "\n",
    "\n",
    "Not so slow, but also, not very fast O(N*D) seems to not be the most efficient algorithm\n",
    "\n",
    "We can also iterate through the array linearly and keep track of a current_duplicate, and only replace it when we see unqiue elements \n",
    "\n",
    "current_duplicate = None\n",
    "\n",
    "We iterate through the linked list, with the initial current_duplicate being None\n",
    "\n",
    "we encounter 1 and set it as our current duplicate, \n",
    "current_duplicate = 1\n",
    "\n",
    "now on the next iteration we land at 2, 2 is different from the current duplicate, so we connect the current_duplicate to the unique node we encountered\n",
    "\n",
    "\n",
    "\n",
    "\n"
   ]
  },
  {
   "cell_type": "code",
   "execution_count": null,
   "id": "7a44662e",
   "metadata": {},
   "outputs": [],
   "source": [
    "def my_remove_duplicates(lst):\n",
    "    if lst.is_empty():\n",
    "        return lst\n",
    "    current_duplicate = lst.get_head()\n",
    "    current_node = lst.get_head()\n",
    "    \n",
    "    while current_node:\n",
    "        if(current_duplicate.data != current_node.data):\n",
    "            current_duplicate.next_element = current_node\n",
    "            current_duplicate = current_node\n",
    "        current_node = current_node.next_element\n",
    "    return lst\n",
    "    "
   ]
  },
  {
   "cell_type": "markdown",
   "id": "7429c37e",
   "metadata": {},
   "source": [
    "# Code analysis\n",
    "\n",
    "currently removes any leading duplicates that are ahead of the node, when unique value is found the deletion of duplicates ends\n",
    "\n",
    "1 -> 2 -> 2 -> 2 -> 3 -> 4\n",
    "\n",
    "1 -> 2 -> 3 -> 4\n",
    "\n",
    "The above solution doesn't delete any duplicates that may arrive later in the linked list\n",
    "so we cannot use this algortihm as the solution because not all inputs are satisfied"
   ]
  },
  {
   "cell_type": "markdown",
   "id": "8e33fc14",
   "metadata": {},
   "source": [
    "# Time and space complexity\n",
    "\n",
    "The time complexity is O(N) and space complexity is O(1)\n"
   ]
  },
  {
   "cell_type": "code",
   "execution_count": null,
   "id": "5d534d75",
   "metadata": {},
   "outputs": [],
   "source": [
    "def remove_duplicates(lst):\n",
    "    if lst.is_empty():\n",
    "        return lst\n",
    "    current_pointer = lst.get_head()\n",
    "    if current_pointer.next_element == None:\n",
    "        return lst\n",
    "    while current_pointer:\n",
    "        prev_pointer = current_pointer\n",
    "        pointer = current_pointer.next_element        \n",
    "        while pointer:\n",
    "            if pointer.data == current_pointer.data:\n",
    "                prev_pointer.next_element = pointer.next_element #delete\n",
    "                delete_p = pointer\n",
    "                pointer = pointer.next_element\n",
    "                delete_p = None\n",
    "            if pointer:                \n",
    "                pointer = pointer.next_element\n",
    "            prev_pointer = prev_pointer.next_element\n",
    "       \n",
    "        current_pointer = current_pointer.next_element\n",
    "    return lst"
   ]
  },
  {
   "cell_type": "markdown",
   "id": "7530317c",
   "metadata": {},
   "source": [
    "# Time and space complexity\n",
    "\n",
    "The time complexity is O(N^2) and the space complexity is O(1)\n",
    "\n",
    "there are is a while loop with a nested while loop, that in worse case iterates through the array N^2 times (no duplicates)"
   ]
  }
 ],
 "metadata": {
  "kernelspec": {
   "display_name": "Python 3 (ipykernel)",
   "language": "python",
   "name": "python3"
  },
  "language_info": {
   "codemirror_mode": {
    "name": "ipython",
    "version": 3
   },
   "file_extension": ".py",
   "mimetype": "text/x-python",
   "name": "python",
   "nbconvert_exporter": "python",
   "pygments_lexer": "ipython3",
   "version": "3.9.12"
  }
 },
 "nbformat": 4,
 "nbformat_minor": 5
}
