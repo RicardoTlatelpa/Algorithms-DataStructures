{
 "cells": [
  {
   "cell_type": "markdown",
   "id": "548587de",
   "metadata": {},
   "source": [
    "# Challenge 7: Find middle node of linked list \n",
    "\n",
    "Pseudocode:\n",
    "\n",
    "we can iterate through the entire list and find the size of the list\n",
    "mid_index = -1\n",
    "if the size of the list is even\n",
    "    mid_index = size_of_list // 2 \n",
    "if the size of the list is odd\n",
    "    mid_index = ( size_of_list //  2 ) + 1\n",
    "    \n",
    "iterate through the list again and return the node with the mid index\n",
    "\n",
    "# Time and space complexity of the pseudocode\n",
    "\n",
    "The time complexity of this code is O(N) and the space complexity is O(1)\n",
    "\n",
    "Proof:\n",
    "the time complexity is O(N) because there are 2 for loops and one of them iterates through the array once and the other for loop iterates the list N/2 times\n",
    "\n",
    "so the big O becomes O(N + N/2), combining like terms we get 3N/2, however since N is the biggest number as N goes to infinity, the big O simplifies to O(N) \n",
    "\n",
    "The space complexity is O(1) because all of them space operations in the function are constants and constants boil down to O(1)"
   ]
  },
  {
   "cell_type": "code",
   "execution_count": null,
   "id": "65400c32",
   "metadata": {},
   "outputs": [],
   "source": [
    "def find_mid(lst):\n",
    "    if lst.is_empty()\n",
    "        return -1\n",
    "    current_node = lst.get_head()\n",
    "    if current_node.next_element is None:\n",
    "        return current_node.data\n",
    "    mid_node = current_node\n",
    "    current_node = current_node.next_element.next_element\n",
    "    # Move mid_node (Slower) one step at a time\n",
    "    # Move current_node (Faster) two steps at a time\n",
    "    # When current_node reaches at end, mid_node will be at the middle of List\n",
    "    while current_node:\n",
    "        mid_node = mid_node.next_element\n",
    "        current_node = current_node.next_element\n",
    "        if current_node:\n",
    "            current_node = current_node.next_element\n",
    "    if mid_node:\n",
    "        return mid_node.data\n",
    "    return -1"
   ]
  }
 ],
 "metadata": {
  "kernelspec": {
   "display_name": "Python 3 (ipykernel)",
   "language": "python",
   "name": "python3"
  },
  "language_info": {
   "codemirror_mode": {
    "name": "ipython",
    "version": 3
   },
   "file_extension": ".py",
   "mimetype": "text/x-python",
   "name": "python",
   "nbconvert_exporter": "python",
   "pygments_lexer": "ipython3",
   "version": "3.9.12"
  }
 },
 "nbformat": 4,
 "nbformat_minor": 5
}
