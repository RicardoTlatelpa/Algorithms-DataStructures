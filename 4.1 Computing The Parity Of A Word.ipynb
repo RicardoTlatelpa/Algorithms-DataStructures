{
 "cells": [
  {
   "cell_type": "markdown",
   "id": "d0e8a4a5",
   "metadata": {},
   "source": [
    "# What is parity?\n",
    "- The parity of a binary word is 1 if the number of 1s in the word is odd; otherwise, it is 0.\n",
    "Examples:\n",
    "1011 is 1 because there are 3 '1's, and that is odd\n",
    "10001000 is 0 because there are 2 '1's and that is even"
   ]
  },
  {
   "cell_type": "code",
   "execution_count": 2,
   "id": "8f2a320e",
   "metadata": {},
   "outputs": [
    {
     "name": "stdout",
     "output_type": "stream",
     "text": [
      "0\n"
     ]
    }
   ],
   "source": [
    "# Store the number mod 2 \n",
    "'''\n",
    "Mod 2 is 10%2\n",
    "'''\n",
    "print(10%2) # because 2 fits into 10 evenly"
   ]
  },
  {
   "cell_type": "markdown",
   "id": "ff1160fa",
   "metadata": {},
   "source": [
    "Let's break this function down with an example.\n",
    "\n",
    "First let's take a look at what's going on\n",
    "The first line is a O(1) operation\n",
    "the second line is a O(n) operation\n",
    "the lines within the loop are O(1)\n",
    "and the return statement is O(1)\n",
    "so this function is: O(n)\n",
    "\n",
    "inside the loop we are shifting the binary number by 1 digit in every iteration\n",
    "\n",
    "before we shift the binary number we compare the Least significant bit to 1 then xor with 0\n",
    "meaning the least significant bit has to be 1 in order for result to change to 1 \n",
    "\n",
    "when result is 1, the least significant bit has to be zero in order to be zero again \n",
    "\n",
    "so the 1s and zeros are flags\n",
    "\n",
    "Starting with zero if we run into an even number of 1s we get zero returned from the function \n",
    "however if we run into an odd number of ones and the rest of the bits compared are zero \n",
    "then we get 1\n",
    "\n",
    "Lets do 1011 as an example\n",
    "result = 0\n",
    "1011\n",
    "   1\n",
    "1 & 1 = 1 \n",
    "0 ^= 1 = 1\n",
    "result = 1 \n",
    "shift the binary to --> 101\n",
    "1 & 1  = 1\n",
    "1 ^= 1 = 0 because XOR says the result is 1 if there is ONLY 1 '1'\n",
    "result = 0\n",
    "shift the binary to --> 10\n",
    "0 & 1 = 0\n",
    "0 ^= 0 = 0\n",
    "result = 0\n",
    "shift the binary to --> 1\n",
    "1 & 1 = 1\n",
    "0 ^= 1 = 1\n",
    "result = 1\n",
    "x can no longer be iterated so the iteration breaks\n",
    "result gets returned // O(1) operation\n",
    "\n",
    "1 is the answer, which fits the definition of a parity of a binary number"
   ]
  },
  {
   "cell_type": "code",
   "execution_count": 5,
   "id": "fec3a8d1",
   "metadata": {},
   "outputs": [],
   "source": [
    "def parity(x):\n",
    "    result = 0\n",
    "    while x:\n",
    "        result ^= x & 1 \n",
    "        x >>= 1\n",
    "    return result"
   ]
  },
  {
   "cell_type": "code",
   "execution_count": 6,
   "id": "d8ee8768",
   "metadata": {},
   "outputs": [
    {
     "name": "stdout",
     "output_type": "stream",
     "text": [
      "0b1100100\n",
      "1\n"
     ]
    }
   ],
   "source": [
    "print(bin(100))\n",
    "print(parity(100)) # example that the function works properly, 100 in binary has odd number of 1s"
   ]
  },
  {
   "cell_type": "markdown",
   "id": "ce5e616a",
   "metadata": {},
   "source": [
    "# How can we improve this O(n) algorithm?\n",
    "\n",
    "- The first improvement is based on erasing the lowest set bit in a word in a single operation\n",
    "x & (x - 1) equals x with its lowest set bit erased"
   ]
  },
  {
   "cell_type": "code",
   "execution_count": 14,
   "id": "308a819a",
   "metadata": {},
   "outputs": [
    {
     "name": "stdout",
     "output_type": "stream",
     "text": [
      "0b101100\n",
      "0b101011\n",
      "0b101000\n"
     ]
    }
   ],
   "source": [
    "print(bin(44))\n",
    "print(bin(44 - 1)) # 43 in decimal number system\n",
    "print(bin(44 & (44-1)))"
   ]
  },
  {
   "cell_type": "code",
   "execution_count": null,
   "id": "ae5c3c09",
   "metadata": {},
   "outputs": [],
   "source": [
    "def parity2(x):\n",
    "    result = 0\n",
    "    while x:\n",
    "        result ^= 1\n",
    "        x &= x - 1 # Drops the lowest set bit of x \n",
    "    return result"
   ]
  },
  {
   "cell_type": "markdown",
   "id": "846b86a5",
   "metadata": {},
   "source": []
  }
 ],
 "metadata": {
  "kernelspec": {
   "display_name": "Python 3 (ipykernel)",
   "language": "python",
   "name": "python3"
  },
  "language_info": {
   "codemirror_mode": {
    "name": "ipython",
    "version": 3
   },
   "file_extension": ".py",
   "mimetype": "text/x-python",
   "name": "python",
   "nbconvert_exporter": "python",
   "pygments_lexer": "ipython3",
   "version": "3.9.12"
  }
 },
 "nbformat": 4,
 "nbformat_minor": 5
}
