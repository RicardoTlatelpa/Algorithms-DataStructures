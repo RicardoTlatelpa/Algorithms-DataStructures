{
 "cells": [
  {
   "cell_type": "markdown",
   "id": "c280b078",
   "metadata": {},
   "source": [
    "# What is parity?\n",
    "- The parity of a binary word is 1 if the number of 1s in the word is odd; otherwise, it is 0.\n",
    "Examples:\n",
    "1011 is 1 because there are 3 '1's, and that is odd\n",
    "10001000 is 0 because there are 2 '1's and that is even"
   ]
  },
  {
   "cell_type": "code",
   "execution_count": 2,
   "id": "24708100",
   "metadata": {},
   "outputs": [
    {
     "name": "stdout",
     "output_type": "stream",
     "text": [
      "0\n"
     ]
    }
   ],
   "source": [
    "# Store the number mod 2 \n",
    "'''\n",
    "Mod 2 is 10%2\n",
    "'''\n",
    "print(10%2) # because 2 fits into 10 evenly"
   ]
  },
  {
   "cell_type": "markdown",
   "id": "9a1075cb",
   "metadata": {},
   "source": [
    "Let's break this function down with an example.\n",
    "\n",
    "First let's take a look at what's going on\n",
    "The first line is a O(1) operation\n",
    "the second line is a O(n) operation\n",
    "the lines within the loop are O(1)\n",
    "and the return statement is O(1)\n",
    "so this function is: O(n)\n",
    "\n",
    "inside the loop we are shifting the binary number by 1 digit in every iteration\n",
    "\n",
    "before we shift the binary number we compare the Least significant bit to 1 then xor with 0\n",
    "meaning the least significant bit has to be 1 in order for result to change to 1 \n",
    "\n",
    "when result is 1, the least significant bit has to be zero in order to be zero again \n",
    "\n",
    "so the 1s and zeros are flags\n",
    "\n",
    "Starting with zero if we run into an even number of 1s we get zero returned from the function \n",
    "however if we run into an odd number of ones and the rest of the bits compared are zero \n",
    "then we get 1\n",
    "\n",
    "Lets do 1011 as an example\n",
    "result = 0\n",
    "1011\n",
    "   1\n",
    "1 & 1 = 1 \n",
    "0 ^= 1 = 1\n",
    "result = 1 \n",
    "shift the binary to --> 101\n",
    "1 & 1  = 1\n",
    "1 ^= 1 = 0 because XOR says the result is 1 if there is ONLY 1 '1'\n",
    "result = 0\n",
    "shift the binary to --> 10\n",
    "0 & 1 = 0\n",
    "0 ^= 0 = 0\n",
    "result = 0\n",
    "shift the binary to --> 1\n",
    "1 & 1 = 1\n",
    "0 ^= 1 = 1\n",
    "result = 1\n",
    "x can no longer be iterated so the iteration breaks\n",
    "result gets returned // O(1) operation\n",
    "\n",
    "1 is the answer, which fits the definition of a parity of a binary number"
   ]
  },
  {
   "cell_type": "code",
   "execution_count": 5,
   "id": "a49be988",
   "metadata": {},
   "outputs": [],
   "source": [
    "def parity(x):\n",
    "    result = 0\n",
    "    while x:\n",
    "        result ^= x & 1 \n",
    "        x >>= 1\n",
    "    return result"
   ]
  },
  {
   "cell_type": "code",
   "execution_count": 6,
   "id": "7b9783f2",
   "metadata": {},
   "outputs": [
    {
     "name": "stdout",
     "output_type": "stream",
     "text": [
      "0b1100100\n",
      "1\n"
     ]
    }
   ],
   "source": [
    "print(bin(100))\n",
    "print(parity(100)) # example that the function works properly, 100 in binary has odd number of 1s"
   ]
  },
  {
   "cell_type": "markdown",
   "id": "3c2c0c0e",
   "metadata": {},
   "source": [
    "# How can we improve this O(n) algorithm?\n",
    "\n",
    "- The first improvement is based on erasing the lowest set bit in a word in a single operation\n",
    "x & (x - 1) equals x with its lowest set bit erased"
   ]
  },
  {
   "cell_type": "code",
   "execution_count": 14,
   "id": "2780871c",
   "metadata": {},
   "outputs": [
    {
     "name": "stdout",
     "output_type": "stream",
     "text": [
      "0b101100\n",
      "0b101011\n",
      "0b101000\n"
     ]
    }
   ],
   "source": [
    "print(bin(44))\n",
    "print(bin(44 - 1)) # 43 in decimal number system\n",
    "print(bin(44 & (44-1)))"
   ]
  },
  {
   "cell_type": "code",
   "execution_count": null,
   "id": "bcc00646",
   "metadata": {},
   "outputs": [],
   "source": [
    "def parity2(x):\n",
    "    result = 0\n",
    "    while x:\n",
    "        result ^= 1\n",
    "        x &= x - 1 # Drops the lowest set bit of x \n",
    "    return result"
   ]
  },
  {
   "cell_type": "markdown",
   "id": "ff55ee84",
   "metadata": {},
   "source": [
    "Let's take a glance at this function with the improvement\n",
    "We have an O(1) operation\n",
    "an O(1) operation `result ^ = 1`\n",
    "and now we're not shifting the input number anymore we are doing x & (x-1)\n",
    "What does that do to the input?\n",
    "and finally a return O(1) operation\n",
    "so the operation O(n)\n",
    "\n",
    "Let's use an example: 1011\n",
    "\n",
    "result = 0\n",
    "result ^= 1 = 1\n",
    "result = 1\n",
    "1011 &= 1011 - 1\n",
    "\n",
    "1011 - 1 = 1010\n",
    "\n",
    "1011\n",
    "1010\n",
    "becomes 1 0 1 0 \n",
    "x = 1010\n",
    "\n",
    "so result = 1 , x = 1010\n",
    "2nd loop\n",
    "result ^= 1\n",
    "\n",
    "result = 0\n",
    "\n",
    "1010 &= (1010 -1)\n",
    "1010\n",
    "1001\n",
    "\n",
    "x = 1 0 0 0\n",
    "\n",
    "result ^= 1 \n",
    "\n",
    "result = 1\n",
    "\n",
    "x &= x - 1 \n",
    "\n",
    "1000 - 1 = 111\n",
    "\n",
    "1000\n",
    " 111\n",
    "0000\n",
    "\n",
    "x = 0000\n",
    "\n",
    "the loop breaks because x is 0 \n",
    "\n",
    "and the result is 1 returns \n",
    "\n",
    "the answer is correct so let's see what is going on\n",
    "\n",
    "## The book says x & (x -1) equals x with its lowest set bit erased\n",
    "\n",
    "The pattern of x in the example is:\n",
    "\n",
    "1011\n",
    "\n",
    "1010\n",
    "\n",
    "1000\n",
    "\n",
    "0000\n",
    "\n",
    "so what that means is, the lowest set bit is literaally the lowest 1 that is activated in the binary number\n",
    "\n",
    "for the first iteration that is 1\n",
    "then it's 2\n",
    "then it's 8\n",
    "since 0000 has no lowest set bit, we can exit the loop\n",
    "\n",
    "so the new parity function Big O analysis is O(k) where k is the number of 1s in the binary number\n",
    "\n",
    "the XOR result comparison acts as a switch, and depending on if the number of ones is even or odd, the result may be\n",
    "1 or zero. \n",
    "\n",
    "if result is one and we approach a one, xor only demands one '1', so result becomes zero\n",
    "    if approached with zero, result doesn't change\n",
    "if result is zero and we approach a one, xor demands one '1' and we have that case so result becomes one\n",
    "    if approached with zero, result doesn't change\n",
    "\n",
    "\n",
    "We initialize result with zero because we can assume there may be input zero, **no lowest set bit**"
   ]
  },
  {
   "cell_type": "code",
   "execution_count": 17,
   "id": "a5b85f97",
   "metadata": {},
   "outputs": [
    {
     "name": "stdout",
     "output_type": "stream",
     "text": [
      "0b111\n"
     ]
    }
   ],
   "source": [
    "print(bin(0b1000 - 1))"
   ]
  },
  {
   "cell_type": "markdown",
   "id": "4b78acad",
   "metadata": {},
   "source": [
    "# Considering a qualitatively different approach\n",
    "\n",
    "## Two keys to performance\n",
    "- Processing multiple bits at a time and caching results in an array based lookup table\n",
    "\n",
    "## Demonstrating Caching\n",
    "- The wrong way is caching every 64 bit integer, that would require 2^64 bits of storage\n",
    "- When computing the parity of a collection of bits, it does not matter how we group those bits, the computation is associative\n",
    "\n",
    "### Associativty\n",
    "- (x+y+z) = (x + y) + z\n",
    "- (x+y+z) = x + (y + z)\n",
    "\n",
    "## Back to caching\n",
    "\n",
    "Parity of a 64 bit integer by grouping its bits into four nonoverlapping 16 bit subwords \n",
    "1. Computing the parity of each subword\n",
    "2. Computing the parity of these four subresults\n",
    "\n",
    "cache = {\n",
    "'0000': 0\n",
    "'0001': 1\n",
    "'1111': 0\n",
    "}\n"
   ]
  }
 ],
 "metadata": {
  "kernelspec": {
   "display_name": "Python 3 (ipykernel)",
   "language": "python",
   "name": "python3"
  },
  "language_info": {
   "codemirror_mode": {
    "name": "ipython",
    "version": 3
   },
   "file_extension": ".py",
   "mimetype": "text/x-python",
   "name": "python",
   "nbconvert_exporter": "python",
   "pygments_lexer": "ipython3",
   "version": "3.9.12"
  }
 },
 "nbformat": 4,
 "nbformat_minor": 5
}
