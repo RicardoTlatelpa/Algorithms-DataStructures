{
 "cells": [
  {
   "cell_type": "markdown",
   "id": "02101256",
   "metadata": {},
   "source": [
    "# Let's try to compute postfix mathematical expressions using stacks!\n",
    "\n",
    "The usual convention followed in mathematics is the infx expression. Operators like + and * appear between the two numbers involved in the calculation.\n",
    "\n",
    "6 + 3 * 8 - 4\n",
    "\n",
    "Another convention is the postfix expression where the operators appear after the two numbers inovled in the expression. In postfix the expression above will be presented as:\n",
    "\n",
    "6 3 8 * + 4 -\n",
    "\n",
    "1. From the first block of digits 6 3  8, we pick the last two which are 3 and 8\n",
    "2. Reading the operators from left to right, the first one is *. The expression now becomes 3 * 8\n",
    "3. The next number is 6 while the next operator is +, so we have 6 + 8 * 3\n",
    "4. The value of this expression is followed by 4, which is right before -. Hence we have 6 + 8 * 3 -4\n",
    "\n",
    "The algorithm is to iterate through the string and if we come across any operator symbol we pop off 2 integers from the stack and perform the operation and push the result into the stack, if we run into numbers then push them into the stack\n",
    "\n",
    "The point is to only store numbers in the stack\n",
    "\n",
    "# Time and space complexity\n",
    "\n",
    "The time complexity is O(N) and the space complexity is O(T) where T are the numbers and results that are stored into the stack. instead of using if statements for the operating symbols we can take the char of the symbol and plug it into the eval() function as seen below."
   ]
  },
  {
   "cell_type": "code",
   "execution_count": null,
   "id": "95c44cb1",
   "metadata": {},
   "outputs": [],
   "source": [
    "def evaluate_post_fix(exp):\n",
    "    stack = MyStack()\n",
    "    try:\n",
    "        for char in exp:\n",
    "            if char.isdigit():\n",
    "                # Push numbers in stack\n",
    "                stack.push(char)\n",
    "            else:\n",
    "                # use top two numbers and evaluate\n",
    "                right = stack.pop()\n",
    "                left = stack.pop()\n",
    "                ''' Using Python's eval () method that takes a str expression, \n",
    "                evaluates it and returns an integer '''  \n",
    "                stack.push(str(eval(left + char + right)))\n",
    "        # final answer should be a number\n",
    "        return int(float(stack.pop()))\n",
    "    except TypeError:\n",
    "        return \"Invalid Sequence\""
   ]
  }
 ],
 "metadata": {
  "kernelspec": {
   "display_name": "Python 3 (ipykernel)",
   "language": "python",
   "name": "python3"
  },
  "language_info": {
   "codemirror_mode": {
    "name": "ipython",
    "version": 3
   },
   "file_extension": ".py",
   "mimetype": "text/x-python",
   "name": "python",
   "nbconvert_exporter": "python",
   "pygments_lexer": "ipython3",
   "version": "3.9.12"
  }
 },
 "nbformat": 4,
 "nbformat_minor": 5
}
