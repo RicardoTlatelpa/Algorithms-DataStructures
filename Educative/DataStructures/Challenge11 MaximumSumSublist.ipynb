{
 "cells": [
  {
   "cell_type": "markdown",
   "id": "e8308995",
   "metadata": {},
   "source": [
    "# Challenge 11: Maximum Sum Sublist\n",
    "\n",
    "Given an integer list, return the maximum sublist sum. The list may contain both positive and negative integers and is unsorted\n"
   ]
  },
  {
   "cell_type": "code",
   "execution_count": 3,
   "id": "a8bd4362",
   "metadata": {},
   "outputs": [
    {
     "data": {
      "text/plain": [
       "12"
      ]
     },
     "execution_count": 3,
     "metadata": {},
     "output_type": "execute_result"
    }
   ],
   "source": [
    "def my_find_max_sum_sublist(lst):\n",
    "    mid = len(lst) // 2\n",
    "    max_sum = lst[mid]\n",
    "    left = mid - 1\n",
    "    right = mid + 1\n",
    "    \n",
    "    while((lst[right] + max_sum) > max_sum):\n",
    "        max_sum += lst[right]\n",
    "        right+=1\n",
    "    while((lst[left] + max_sum) > max_sum):\n",
    "        max_sum += lst[left]\n",
    "        left-=1\n",
    "    return max_sum\n",
    "\n",
    "my_find_max_sum_sublist([-4,2,-5,1,2,3,6,-5,1])"
   ]
  },
  {
   "cell_type": "markdown",
   "id": "9732b01c",
   "metadata": {},
   "source": [
    "# Time and space complexity\n",
    "This solution has a time complexity of O(N) and a space complexity of O(1)"
   ]
  },
  {
   "cell_type": "code",
   "execution_count": null,
   "id": "77b1c951",
   "metadata": {},
   "outputs": [],
   "source": [
    "def find_max_sum_sublist(lst):\n",
    "    if(len(lst) < 1):\n",
    "        return 0\n",
    "    curr_max = lst[0]\n",
    "    global_max = lst[0]\n",
    "    length_array = len(lst)\n",
    "    for i in range(1, length_array):\n",
    "        if curr_max < 0:\n",
    "            curr_max = lst[i]\n",
    "        else:\n",
    "            curr_max += lst[i]\n",
    "        if global_max < curr_max:\n",
    "            global_max = curr_max\n",
    "    return global_max"
   ]
  },
  {
   "cell_type": "markdown",
   "id": "428d2e4f",
   "metadata": {},
   "source": [
    "# Code Analysis\n",
    "\n",
    "The basic idea of Kadane's Algorithm is to scan the entire list and at each position find the maximum sum of the sublist ending there. This is achieved by keeping a current_max for the current list index and a global_max. The algorithm is as follows:\n",
    "\n",
    "# Time and space complexity\n",
    "\n",
    "The time complexity is O(N) and the space complexity is O(1) because all the memory operations are O(1), and as the data gets bigger, the space operations stay a constant."
   ]
  },
  {
   "cell_type": "markdown",
   "id": "ef7c1492",
   "metadata": {},
   "source": [
    "# Maximum product sublist\n",
    "\n",
    "Apply Kadane's algorithm except find the biggest product sublist"
   ]
  },
  {
   "cell_type": "code",
   "execution_count": null,
   "id": "6040d70c",
   "metadata": {},
   "outputs": [],
   "source": [
    "def maxProduct(lst):\n",
    "    if len(nums) == 0:\n",
    "        return 0\n",
    "    max_so_far = nums[0]\n",
    "    min_so_far = nums[0]\n",
    "    result = nums[0]\n",
    "    for i in range(1, len(nums)):\n",
    "        curr = nums[i]\n",
    "        temp_max = max(curr, max_so_far*curr, min_so_far*curr)\n",
    "        min_so_far = min(curr,max_so_far*curr, min_so_far*curr)\n",
    "        max_so_far = temp_max\n",
    "        result = max(max_so_far,result)\n",
    "    return result"
   ]
  }
 ],
 "metadata": {
  "kernelspec": {
   "display_name": "Python 3 (ipykernel)",
   "language": "python",
   "name": "python3"
  },
  "language_info": {
   "codemirror_mode": {
    "name": "ipython",
    "version": 3
   },
   "file_extension": ".py",
   "mimetype": "text/x-python",
   "name": "python",
   "nbconvert_exporter": "python",
   "pygments_lexer": "ipython3",
   "version": "3.9.12"
  }
 },
 "nbformat": 4,
 "nbformat_minor": 5
}
