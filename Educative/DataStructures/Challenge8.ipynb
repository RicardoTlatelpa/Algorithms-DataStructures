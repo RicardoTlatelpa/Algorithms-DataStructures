{
 "cells": [
  {
   "cell_type": "markdown",
   "id": "e8d14de0",
   "metadata": {},
   "source": [
    "# Challenge 8\n",
    "\n",
    "Implement a function right_rotate(lst, k) which will rotate the given list by k. This means that the right-most elements will appear at the left-most position in the list and so on. You only have to rotate the list by one element at a time.\n"
   ]
  },
  {
   "cell_type": "code",
   "execution_count": 13,
   "id": "33386593",
   "metadata": {},
   "outputs": [
    {
     "data": {
      "text/plain": [
       "[30, 40, 50, 10, 20]"
      ]
     },
     "execution_count": 13,
     "metadata": {},
     "output_type": "execute_result"
    }
   ],
   "source": [
    "def my_right_rotate(lst,k):\n",
    "    rotated_list = []\n",
    "    for i in range(len(lst)):\n",
    "        rotated_list.append(i)\n",
    "    for i in range(len(lst)):\n",
    "        next_idx = (i + k)%len(lst)\n",
    "        rotated_list[next_idx] = lst[i]\n",
    "    return rotated_list\n",
    "\n",
    "my_right_rotate([10,20,30,40,50], 3)\n",
    "    "
   ]
  },
  {
   "cell_type": "markdown",
   "id": "5c8a9af5",
   "metadata": {},
   "source": [
    "# Time and space complexity\n",
    "\n",
    "the time complexity for this algorithm is O(N) because there is one for loop that fills the rotated_list and iterates n times, then there is another loop that calculates the next_idx for each item in the array\n",
    "the action of insertion is O(1), and the return is an O(1) operation as well. So together the algorithm is O(2N), but constants drop in big O, so it is actually O(N) time complexity\n",
    "\n",
    "The space complexity is O(N) because N amount of items are being stored in a new list and returned to the user"
   ]
  },
  {
   "cell_type": "code",
   "execution_count": 16,
   "id": "d5cc11d4",
   "metadata": {},
   "outputs": [
    {
     "name": "stdout",
     "output_type": "stream",
     "text": [
      "3\n"
     ]
    },
    {
     "data": {
      "text/plain": [
       "[30, 40, 50, 10, 20]"
      ]
     },
     "execution_count": 16,
     "metadata": {},
     "output_type": "execute_result"
    }
   ],
   "source": [
    "# Manual rotation solution\n",
    "\n",
    "def right_rotate(lst,k):\n",
    "    if len(lst) == 0:\n",
    "        k = 0\n",
    "    else:\n",
    "        k = k % len(lst)\n",
    "        \n",
    "    rotatedList = []\n",
    "    \n",
    "    for item in range(len(lst) - k, len(lst)):\n",
    "        rotatedList.append(lst[item])\n",
    "    for item in range(0, len(lst) - k):\n",
    "        rotatedList.append(lst[item]) \n",
    "    return rotatedList\n",
    "\n",
    "right_rotate([10,20,30,40,50], 3)"
   ]
  },
  {
   "cell_type": "markdown",
   "id": "0dc4d117",
   "metadata": {},
   "source": [
    "# Anaylsis of code\n",
    "\n",
    "With n amount of elements in an array of integers [n1,n2,n3,n4,n5...n(nth)]\n",
    "and a rotation of k\n",
    "\n",
    "( the length of the array ) - k, will always rotate to the zeroth index up until the last index of the array\n",
    "and the beginning elements are going to rotated + k, starting @k\n",
    "\n",
    "### So there are two linear loops that implement this concept\n",
    "\n",
    "The first half starts with the Kth index and ends at the end of the array\n",
    "the second half starts at zero and ends at k, or rather the end of the rotated list\n",
    "\n",
    "a new list is created called rotatedList and each loop appends to this list and returned to the user\n",
    "\n",
    "# Time and space complexity \n",
    "\n",
    "The time complexity is O(N) and the space complexity is O(N) because we are storing N elements in a new array"
   ]
  },
  {
   "cell_type": "code",
   "execution_count": null,
   "id": "464c9478",
   "metadata": {},
   "outputs": [],
   "source": [
    "def right_rotate(lst,k):\n",
    "    if len(lst) == 0\n",
    "        k = 0\n",
    "    else:\n",
    "        k = k%len(lst)\n",
    "    return lst[-k:] + lst[:-k]\n",
    "\n",
    "print(right_rotate([10, 20, 30, 40, 50], abs(3)))"
   ]
  },
  {
   "cell_type": "markdown",
   "id": "a1446cb8",
   "metadata": {},
   "source": [
    "# Analysis of code\n",
    "\n",
    "This solution implements the same solution as the snippet above except it takes advantage of pythons sublisting and returning 2 concatanated sublists\n",
    "\n",
    "# Time and space complexity\n",
    "\n",
    "Time complexity is O(N) and space complexity is O(N)"
   ]
  }
 ],
 "metadata": {
  "kernelspec": {
   "display_name": "Python 3 (ipykernel)",
   "language": "python",
   "name": "python3"
  },
  "language_info": {
   "codemirror_mode": {
    "name": "ipython",
    "version": 3
   },
   "file_extension": ".py",
   "mimetype": "text/x-python",
   "name": "python",
   "nbconvert_exporter": "python",
   "pygments_lexer": "ipython3",
   "version": "3.9.12"
  }
 },
 "nbformat": 4,
 "nbformat_minor": 5
}
