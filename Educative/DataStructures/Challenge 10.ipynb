{
 "cells": [
  {
   "cell_type": "markdown",
   "id": "20240341",
   "metadata": {},
   "source": [
    "# Challenge 10: Rearrange sorted list in max/min form\n",
    "\n",
    "Implement a function called max_min(lst) which will re-arrange the elements of a sorted list such that the 0th index will have the largest number, the 1st index will have the smallest, and the 2nd index will have second-largest, and so on. In other words, all the even-numbered indices will have the largest numbers in the list in descending order and the odd-numbered indices will have the smallest numbers in ascending order."
   ]
  },
  {
   "cell_type": "code",
   "execution_count": 6,
   "id": "1f630f2e",
   "metadata": {},
   "outputs": [
    {
     "data": {
      "text/plain": [
       "[5, 1, 4, 2, 3]"
      ]
     },
     "execution_count": 6,
     "metadata": {},
     "output_type": "execute_result"
    }
   ],
   "source": [
    "def min_max(lst):\n",
    "    r = []\n",
    "    min_max_helper(lst,True,r)\n",
    "    return r\n",
    "\n",
    "def min_max_helper(lst,max,r):\n",
    "    if(len(lst) == 1):\n",
    "        r.append(lst[0])\n",
    "        return r\n",
    "    \n",
    "    if(max):\n",
    "        largest = lst[0]\n",
    "        idx = -1\n",
    "        for i in range(len(lst)):\n",
    "            if(lst[i] > largest):\n",
    "                largest = lst[i]\n",
    "                idx = i\n",
    "        if idx != 0:\n",
    "            lst[0], lst[idx] = lst[idx], lst[0]\n",
    "        r.append(largest)        \n",
    "        min_max_helper(lst[1:], False, r)\n",
    "    else:\n",
    "        smallest = lst[0]\n",
    "        idx = -1\n",
    "        for i in range(len(lst)):\n",
    "            if(lst[i] < smallest):\n",
    "                smallest = lst[i]\n",
    "                idx = i\n",
    "        if idx != 0:\n",
    "            lst[0], lst[idx] = lst[idx],lst[0]\n",
    "        r.append(smallest)\n",
    "        min_max_helper(lst[1:], True, r)    \n",
    "        \n",
    "\n",
    "min_max([1,2,3,4,5])"
   ]
  },
  {
   "cell_type": "code",
   "execution_count": 9,
   "id": "a83ee0a9",
   "metadata": {},
   "outputs": [
    {
     "data": {
      "text/plain": [
       "[5, 1, 4, 2, 3]"
      ]
     },
     "execution_count": 9,
     "metadata": {},
     "output_type": "execute_result"
    }
   ],
   "source": [
    "def max_min(lst):\n",
    "    for i in range(len(lst) - 1):\n",
    "        if(i % 2 == 0):\n",
    "            # every even number is max \n",
    "            largest = float('-inf')\n",
    "            idx = -1\n",
    "            for j in range(i, len(lst)):\n",
    "                if(lst[j] > largest):\n",
    "                    largest = lst[j]\n",
    "                    idx = j\n",
    "            lst[i], lst[idx] = lst[idx], lst[i]\n",
    "        else:\n",
    "            # ever odd is a min\n",
    "            smallest = float('inf')\n",
    "            idx = -1\n",
    "            for j in range(i, len(lst)):\n",
    "                if(lst[j] < smallest):\n",
    "                    smallest = lst[j]\n",
    "                    idx = j\n",
    "            lst[i], lst[idx] = lst[idx], lst[i]\n",
    "    return lst\n",
    "max_min([1,2,3,4,5])"
   ]
  },
  {
   "cell_type": "markdown",
   "id": "71590d98",
   "metadata": {},
   "source": [
    "# Time complexity of solutions above \n",
    "\n",
    "So, the solutions above assume there is no sorting involved, and the array contains random integers. THe time complexity is much slower than O(N) because it is O(N^2), iterating through the list N^2 times, N being the size of the list. The space complexity for the first solution is O(N) and the second solution has a space complexity of O(1) because it does the process in place, creating no new space"
   ]
  },
  {
   "cell_type": "code",
   "execution_count": 10,
   "id": "d804b81d",
   "metadata": {},
   "outputs": [
    {
     "data": {
      "text/plain": [
       "[7, 1, 6, 2, 5, 3, 4]"
      ]
     },
     "execution_count": 10,
     "metadata": {},
     "output_type": "execute_result"
    }
   ],
   "source": [
    "def max_min(lst):\n",
    "    left = 0\n",
    "    right = len(lst) -1\n",
    "    rst = []\n",
    "    while(left < right and left != right):\n",
    "        rst.append(lst[right])\n",
    "        rst.append(lst[left])\n",
    "        right -= 1\n",
    "        left += 1\n",
    "    if(len(lst)%2 != 0):\n",
    "        rst.append(lst[left])\n",
    "    return rst\n",
    "\n",
    "max_min([1,2,3,4,5,6,7])"
   ]
  },
  {
   "cell_type": "markdown",
   "id": "496df9b5",
   "metadata": {},
   "source": [
    "# Time and space complexity\n",
    "\n",
    "The time complexity of this solution is O(N) because the lst is iterated only once, and the if operation is an O(1) operation\n",
    "\n",
    "The space complexity is O(N) because we are storing the same number of elements as the input array inside of the result array, except in a different order."
   ]
  },
  {
   "cell_type": "code",
   "execution_count": null,
   "id": "b21d3b69",
   "metadata": {},
   "outputs": [],
   "source": [
    "def max_min(lst):\n",
    "    result = []    \n",
    "    for i in range(len(lst)//2):\n",
    "        result.append(lst[-(i + 1)])\n",
    "        result.append(lst[i])\n",
    "    if len(lst) % 2 == 1:\n",
    "        result.append(lst[len(lst)//2])\n",
    "    return result"
   ]
  },
  {
   "cell_type": "markdown",
   "id": "102de10d",
   "metadata": {},
   "source": [
    "# Code Analysis\n",
    "\n",
    "This solution implements a similar solution to the solution above, except instead of using 2 pointers, the lst is treated as a circle, and negative indices are used in order to get the large values at the end of the list.\n",
    "\n",
    "Ultimately, the middle value is left without being appeneded if the list has an odd length, so the if check at the end makes sure, odd lengthy lists have extra appended operation.\n",
    "\n",
    "# Time and space complexity\n",
    "\n",
    "O(N) time complexity\n",
    "O(N) space complexity"
   ]
  },
  {
   "cell_type": "code",
   "execution_count": 13,
   "id": "056904b2",
   "metadata": {},
   "outputs": [
    {
     "data": {
      "text/plain": [
       "[4, 1, 3, 2]"
      ]
     },
     "execution_count": 13,
     "metadata": {},
     "output_type": "execute_result"
    }
   ],
   "source": [
    "def max_min(lst):\n",
    "    if(len(lst) == 0):\n",
    "        return []\n",
    "    maxIdx = len(lst) - 1\n",
    "    minIdx = 0\n",
    "    maxElem = lst[-1] + 1\n",
    "    \n",
    "    for i in range(len(lst)):\n",
    "        if i % 2 == 0:\n",
    "            lst[i] += (lst[maxIdx] % maxElem) * maxElem\n",
    "            maxIdx -= 1\n",
    "        else:\n",
    "            lst[i] += (lst[minIdx] % maxElem) * maxElem\n",
    "            minIdx += 1\n",
    "\n",
    "    for i in range(len(lst)):\n",
    "        lst[i] = lst[i] // maxElem\n",
    "    return lst\n",
    "max_min([1,2,3,4])"
   ]
  },
  {
   "cell_type": "markdown",
   "id": "91b9c4f2",
   "metadata": {},
   "source": [
    "# Time and space Complexity\n",
    "\n",
    "Time complexity is O(N)\n",
    "Space complexity is (1)"
   ]
  }
 ],
 "metadata": {
  "kernelspec": {
   "display_name": "Python 3 (ipykernel)",
   "language": "python",
   "name": "python3"
  },
  "language_info": {
   "codemirror_mode": {
    "name": "ipython",
    "version": 3
   },
   "file_extension": ".py",
   "mimetype": "text/x-python",
   "name": "python",
   "nbconvert_exporter": "python",
   "pygments_lexer": "ipython3",
   "version": "3.9.12"
  }
 },
 "nbformat": 4,
 "nbformat_minor": 5
}
