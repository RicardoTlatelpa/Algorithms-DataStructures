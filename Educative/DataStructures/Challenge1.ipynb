{
 "cells": [
  {
   "cell_type": "markdown",
   "id": "4728edd1",
   "metadata": {},
   "source": [
    "# Challenge 1: remove even integers from list\n",
    "\n",
    "just remove the list items that are even\n"
   ]
  },
  {
   "cell_type": "code",
   "execution_count": 9,
   "id": "e884bfff",
   "metadata": {},
   "outputs": [
    {
     "name": "stdout",
     "output_type": "stream",
     "text": [
      "[1, 5, 3]\n",
      "[1, 5, 3]\n"
     ]
    }
   ],
   "source": [
    "def my_remove_even(lst):\n",
    "    rlst = []\n",
    "    for i in range(len(lst)):\n",
    "        if lst[i] % 2 != 0:\n",
    "            rlst.append(lst[i])\n",
    "    return rlst\n",
    "\n",
    "# solution\n",
    "def remove_even(lst):\n",
    "    return [item for item in lst if item % 2 != 0]\n",
    "\n",
    "list = [1,2,4,5,10,6,3]\n",
    "\n",
    "print(remove_even(list));\n",
    "\n",
    "print(my_remove_even(list));"
   ]
  },
  {
   "cell_type": "markdown",
   "id": "2db4508a",
   "metadata": {},
   "source": [
    "# Solution code\n",
    "\n",
    "## List comprehension:\n",
    "is used to iterate over the initial array. With list comprehension, checking a condition and appending to the new list can all be done in one line. The code for it starts and ends with a opening and close bracket"
   ]
  },
  {
   "cell_type": "code",
   "execution_count": null,
   "id": "d698e46a",
   "metadata": {},
   "outputs": [],
   "source": [
    "# basic syntax of list comprehension\n",
    "newList = [expression(i) for i in oldList if filter(i)]"
   ]
  },
  {
   "cell_type": "code",
   "execution_count": null,
   "id": "0e61e910",
   "metadata": {},
   "outputs": [],
   "source": [
    "# The time complexity is O(n) because we're iterating over n amount of elements in array\n",
    "# The space complexity is O(o) o being the odd numbers stored in the new array "
   ]
  }
 ],
 "metadata": {
  "kernelspec": {
   "display_name": "Python 3 (ipykernel)",
   "language": "python",
   "name": "python3"
  },
  "language_info": {
   "codemirror_mode": {
    "name": "ipython",
    "version": 3
   },
   "file_extension": ".py",
   "mimetype": "text/x-python",
   "name": "python",
   "nbconvert_exporter": "python",
   "pygments_lexer": "ipython3",
   "version": "3.9.12"
  }
 },
 "nbformat": 4,
 "nbformat_minor": 5
}
