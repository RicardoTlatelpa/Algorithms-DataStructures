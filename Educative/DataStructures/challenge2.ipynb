{
 "cells": [
  {
   "cell_type": "markdown",
   "id": "3947dd09",
   "metadata": {},
   "source": [
    "**Implement a function that merges two sorted lists of m and n elements repsectively, into another sorted list. Name it merge_lists(lst1,lst2)**"
   ]
  },
  {
   "cell_type": "code",
   "execution_count": 15,
   "id": "eaca01c5",
   "metadata": {},
   "outputs": [
    {
     "name": "stdout",
     "output_type": "stream",
     "text": [
      "[-2, -1, 0, 4, 5, 6, 7]\n"
     ]
    }
   ],
   "source": [
    "def my_merged_lists(lst1,lst2):\n",
    "    pointer1 = 0\n",
    "    pointer2 = 0\n",
    "    ridx = 0\n",
    "    merged = []\n",
    "    \n",
    "    for i in range(len(lst1)+len(lst2)):\n",
    "        # create the size of the merged array\n",
    "        merged.append(i)\n",
    "        \n",
    "    while (pointer1 < len(lst1)) and (pointer2 < len(lst2)):\n",
    "        if(lst1[pointer1] < lst2[pointer2]):\n",
    "            merged[ridx] = lst1[pointer1]\n",
    "            ridx += 1\n",
    "            pointer1 += 1  \n",
    "\n",
    "        else:\n",
    "            merged[ridx] = lst2[pointer2]\n",
    "            ridx += 1\n",
    "            pointer2 += 1    \n",
    "\n",
    "    while(pointer1 < len(lst1)):\n",
    "        merged[ridx] = lst1[pointer1]\n",
    "        ridx += 1\n",
    "        pointer1 += 1\n",
    "\n",
    "    while(pointer2 < len(lst2)):\n",
    "        merged[ridx] = lst2[pointer2]\n",
    "        ridx += 1\n",
    "        pointer2 += 1\n",
    "            \n",
    "    return merged\n",
    "\n",
    "print(my_merged_lists([4,5,6],[-2,-1,0,7]))"
   ]
  },
  {
   "cell_type": "code",
   "execution_count": 14,
   "id": "1c060069",
   "metadata": {},
   "outputs": [
    {
     "name": "stdout",
     "output_type": "stream",
     "text": [
      "[-2, -1, 0, 4, 5, 6, 7]\n"
     ]
    }
   ],
   "source": [
    "def merge_lists(lst1, lst2):\n",
    "    index_arr1 = 0\n",
    "    index_arr2 = 0\n",
    "    index_result = 0\n",
    "    result = []\n",
    "\n",
    "    for i in range(len(lst1)+len(lst2)):\n",
    "        result.append(i)\n",
    "    while (index_arr1 < len(lst1)) and (index_arr2 < len(lst2)):\n",
    "        if (lst1[index_arr1] < lst2[index_arr2]):\n",
    "            result[index_result] = lst1[index_arr1]\n",
    "            index_result += 1\n",
    "            index_arr1 += 1\n",
    "        else:\n",
    "            result[index_result] = lst2[index_arr2]\n",
    "            index_result += 1\n",
    "            index_arr2 += 1\n",
    "    while (index_arr1 < len(lst1)):\n",
    "        result[index_result] = lst1[index_arr1]\n",
    "        index_result += 1\n",
    "        index_arr1 += 1\n",
    "    while (index_arr2 < len(lst2)):\n",
    "        result[index_result] = lst2[index_arr2]\n",
    "        index_result += 1\n",
    "        index_arr2 += 1\n",
    "    return result\n",
    "\n",
    "\n",
    "print(merge_lists([4, 5, 6], [-2, -1, 0, 7]))"
   ]
  },
  {
   "cell_type": "markdown",
   "id": "24946b3d",
   "metadata": {},
   "source": [
    "# Time complexity and space complexity \n",
    "\n",
    "The time complexity of this algorithm is O(n+m) because we're iterating through both lists at least once\n",
    "The space complexity of this algorithm is O(n+m) because we're storing the length of lists n + m \n"
   ]
  },
  {
   "cell_type": "code",
   "execution_count": 20,
   "id": "44a53e99",
   "metadata": {},
   "outputs": [
    {
     "name": "stdout",
     "output_type": "stream",
     "text": [
      "[-2, -1, 0, 4, 5, 6, 7]\n"
     ]
    }
   ],
   "source": [
    "def in_place_merge_lists(lst1, lst2):\n",
    "    idx1 = 0\n",
    "    idx2 = 0\n",
    "    # if list1 is smaller, list1 pointer moves forward\n",
    "    # if list2 is smaller, both pointers move forward\n",
    "    while (idx1 < len(lst1)) and (idx2 < len(lst2)):\n",
    "        if(lst1[idx1] > lst2[idx2]):\n",
    "            lst1.insert(idx1, lst2[idx2])\n",
    "            idx1 += 1\n",
    "            idx2 += 1\n",
    "        else:\n",
    "            idx1 += 1\n",
    "    if(idx2 < len(lst2)):\n",
    "        lst1.extend(lst2[idx2:])\n",
    "    \n",
    "    return lst1\n",
    "\n",
    "print(in_place_merge_lists([4, 5, 6], [-2, -1, 0, 7]))"
   ]
  },
  {
   "cell_type": "markdown",
   "id": "79234597",
   "metadata": {},
   "source": [
    "# Time and space complexity\n",
    "The time complexity of this algorithm is O(MN)because in the worst case scenario, the second list has all the smaller values and each insertion is an O(N) operation, since we're already iterating through the shorter of the two lists, we can call this O(M), the time complexity is O(MN)\n",
    "\n",
    "To simplify even further, if N is the greater list, then the time complexity is O(N^2)\n",
    "if M is the greater list, then the time complexity is O(M^2), and the space complexity \n",
    "is O(|M-N|)"
   ]
  }
 ],
 "metadata": {
  "kernelspec": {
   "display_name": "Python 3 (ipykernel)",
   "language": "python",
   "name": "python3"
  },
  "language_info": {
   "codemirror_mode": {
    "name": "ipython",
    "version": 3
   },
   "file_extension": ".py",
   "mimetype": "text/x-python",
   "name": "python",
   "nbconvert_exporter": "python",
   "pygments_lexer": "ipython3",
   "version": "3.9.12"
  }
 },
 "nbformat": 4,
 "nbformat_minor": 5
}
