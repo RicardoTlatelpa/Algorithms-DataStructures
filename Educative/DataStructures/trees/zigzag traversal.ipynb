{
 "cells": [
  {
   "cell_type": "markdown",
   "id": "332dd18e",
   "metadata": {},
   "source": [
    "# Problem statement\n",
    "\n",
    "Give a binary tree, populate an array to represent its zigzag order traversal. You should populate the values of all nodes nodes of the first level from left to right, then right to left for the next level and keep alternating in the same manner for the following levels"
   ]
  },
  {
   "cell_type": "code",
   "execution_count": 2,
   "id": "fee496bd",
   "metadata": {},
   "outputs": [],
   "source": [
    "from collections import deque\n",
    "\n",
    "class TreeNode:\n",
    "    def __init__(self,val):\n",
    "        self.val = val\n",
    "        self.left, self.right = None, None\n",
    "\n",
    "def traverse(root):\n",
    "    result = []\n",
    "    queue = deque()\n",
    "    queue.append(root)\n",
    "    level = 0\n",
    "    # alternatig sequence, every even level has a reversed list\n",
    "    while queue:\n",
    "        level_array = []\n",
    "        level += 1\n",
    "        current_length_of_queue = len(queue)\n",
    "        for _ in range(current_length_of_queue):\n",
    "            current_node = queue.popleft()\n",
    "            level_array.append(current_node.val)\n",
    "            if current_node.left:\n",
    "                queue.append(current_node.left)\n",
    "            if current_node.right:\n",
    "                queue.append(current_node.right)\n",
    "        if level % 2 == 0:\n",
    "            reverse = []\n",
    "            while level_array:\n",
    "                reverse.append(level_array.pop())\n",
    "            result.append(reverse)\n",
    "        else:\n",
    "            result.append(level_array)\n",
    "    return result\n",
    "    "
   ]
  },
  {
   "cell_type": "code",
   "execution_count": 3,
   "id": "05fb06e0",
   "metadata": {},
   "outputs": [],
   "source": [
    "from collections import deque\n",
    "\n",
    "\n",
    "class TreeNode:\n",
    "    def __init__(self, val):\n",
    "        self.val = val\n",
    "        self.left, self.right = None, None\n",
    "        \n",
    "def traverse(root):\n",
    "    result = []\n",
    "    if root is None:\n",
    "        return result\n",
    "    queue = deque()\n",
    "    queue.append(root)\n",
    "    leftToRight = True\n",
    "    \n",
    "    while queue:\n",
    "        levelSize = len(queue)\n",
    "        currentLevel = deque()\n",
    "        for _ in range(levelSize):\n",
    "            currentNode = queue.popleft()\n",
    "            \n",
    "            if leftToRight:\n",
    "                currentLevel.append(currentNode.val)\n",
    "            else:\n",
    "                currentLevel.appendLeft(currentNode.val)\n",
    "            \n",
    "            if currentNode.left:\n",
    "                queue.append(currentNode.left)\n",
    "            if currentNode.right:\n",
    "                queue.append(currentNode.right)\n",
    "\n",
    "        result.append(list(currentLevel)) # O(N) operation similar to my reverse operation\n",
    "        \n",
    "        leftToRight = not leftToRight\n",
    "    return result"
   ]
  },
  {
   "cell_type": "markdown",
   "id": "55d0c10d",
   "metadata": {},
   "source": [
    "# Time and space complexity\n",
    "\n",
    "The time complexity of the above algorithm is O(N) where 'N' is the total number of nodes in the tree. This is due to the fact that we traverse each node once.\n",
    "\n",
    "Space complexity of the above algorithm is O(N) as we need to return a list containing the level order traversal. We will also need O(N) space for the queue. Since we can have a maximum N/2 nodes at any level (this could happy only at the lowest level), therefore we will need O(N) space to store them in the queue."
   ]
  }
 ],
 "metadata": {
  "kernelspec": {
   "display_name": "Python 3 (ipykernel)",
   "language": "python",
   "name": "python3"
  },
  "language_info": {
   "codemirror_mode": {
    "name": "ipython",
    "version": 3
   },
   "file_extension": ".py",
   "mimetype": "text/x-python",
   "name": "python",
   "nbconvert_exporter": "python",
   "pygments_lexer": "ipython3",
   "version": "3.9.12"
  }
 },
 "nbformat": 4,
 "nbformat_minor": 5
}
