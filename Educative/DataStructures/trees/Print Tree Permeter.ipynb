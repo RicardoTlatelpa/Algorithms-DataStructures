{
 "cells": [
  {
   "cell_type": "markdown",
   "id": "b949ed04",
   "metadata": {},
   "source": [
    "# Print Tree Perimeter\n",
    "\n",
    "Given a binary tree, print its perimeter nodes.\n",
    "\n",
    "## Statement\n",
    "\n",
    "Given the root node of a binary tree, print the nodes that form its perimeter(boundary). We must print the perimeter of the binary tree in three phases (order is important):\n",
    "- left boundary\n",
    "- leaf nodes\n",
    "- right boundary\n",
    "Traverse through the left side of the binary tree and put all of its left nodes inside of the stack\n",
    "Traverse through the "
   ]
  },
  {
   "cell_type": "markdown",
   "id": "0820c9fe",
   "metadata": {},
   "source": [
    "# Solution 1 / Educative\n",
    "\n",
    "We print the perimeter of the binary tree in three phases, the left boundary, leaf nodes, and the right boundary. The left and right boundaries will be printed iteratively while the leaf nodes will be printed recursively. Here is how the algorithm works:\n",
    "\n",
    "- print the root node.\n",
    "- print the left boundary in top-down order.\n",
    "- print the leaf nodes in left-right order. We'll be traversing from one leaf node to the next using post-order traversal\n",
    "- print the right boundary in bottom up order.\n",
    " - We push the node values in a stack here.\n",
    " - Once we hit the leaf node, we pop all stack elements while printing them."
   ]
  },
  {
   "cell_type": "code",
   "execution_count": null,
   "id": "72392074",
   "metadata": {},
   "outputs": [],
   "source": [
    "def print_left_perimeter(root,result):\n",
    "    while root:\n",
    "        curr_val = root.data\n",
    "        if root.left:\n",
    "            root = root.left\n",
    "        elif root.right\n",
    "            root = root.right\n",
    "        else:\n",
    "            break # leaf node case\n",
    "        result.append(str(curr_val) + \", \") # concatanting to string\n",
    "        \n",
    "def print_right_perimeter(root,result):\n",
    "    r_values = []\n",
    "    \n",
    "    while root:\n",
    "        curr_val = root.data\n",
    "        if root.right:\n",
    "            root = root.right\n",
    "        elif root.left:\n",
    "            root = root\n",
    "        else:\n",
    "            break\n",
    "        r_values.append(curr_val)\n",
    "    \n",
    "    while r_values:\n",
    "        result.append(str(r_values.pop()) + \", \")\n",
    "\n",
    "# Recursive function that traverses tree looking for all leaf nodes\n",
    "def print_leaf_nodes(root,result):\n",
    "    if root:\n",
    "        print_leaf_nodes(root.left, result)\n",
    "        print_leaf_nodes(root.right,result)\n",
    "        \n",
    "        if not root.left and not root.right:\n",
    "            result.append(str(root.data) + \", \")\n",
    "\n",
    "# Main function of printing binary tree perimieter \n",
    "def display_tree_perimeter(root)L\n",
    "    result = []\n",
    "    if root:\n",
    "        result.append(str(root.data) + \", \")\n",
    "    print_left_perimeter(root.left, result)\n",
    "    \n",
    "    if root.left or root.right:\n",
    "        print_leaf_nodes(root,result)\n",
    "    print_right_perimeter(root.right, result)"
   ]
  }
 ],
 "metadata": {
  "kernelspec": {
   "display_name": "Python 3 (ipykernel)",
   "language": "python",
   "name": "python3"
  },
  "language_info": {
   "codemirror_mode": {
    "name": "ipython",
    "version": 3
   },
   "file_extension": ".py",
   "mimetype": "text/x-python",
   "name": "python",
   "nbconvert_exporter": "python",
   "pygments_lexer": "ipython3",
   "version": "3.9.13"
  }
 },
 "nbformat": 4,
 "nbformat_minor": 5
}
