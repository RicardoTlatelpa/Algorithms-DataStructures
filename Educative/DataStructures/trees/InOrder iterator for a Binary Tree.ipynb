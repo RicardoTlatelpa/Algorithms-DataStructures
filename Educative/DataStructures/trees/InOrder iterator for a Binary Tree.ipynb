{
 "cells": [
  {
   "cell_type": "markdown",
   "id": "04ccb32f",
   "metadata": {},
   "source": [
    "# Iterator for a binary Tree\n",
    "\n",
    "Given a binary tree, write an iterator that takes in the root of a binary tree and iterate through its nodes in an in-order fashion\n",
    "\n",
    "Our implementation should include two crtical methods of any iterator type:\n",
    "\n",
    "hasNext(): This function returns whether an in-order node exists next in line\n",
    "getNext(): This function returns the next in-order node of the binary tree\n",
    "\n",
    "\n",
    "When I first given this problem I remembered what it meant to iterate or traverse through a binary tree in post order or pre order or in order, it depended on where you printed the binary tree data\n",
    "\n",
    "For example:"
   ]
  },
  {
   "cell_type": "code",
   "execution_count": null,
   "id": "8bc9ae8a",
   "metadata": {},
   "outputs": [],
   "source": [
    "def preOrderTraversal(root):\n",
    "    if(root == None):\n",
    "        return\n",
    "    print(root.data)\n",
    "    preOrderTraversal(root.left)\n",
    "    preOrderTraversal(root.right)\n",
    "\n",
    "def inOrderTraversal(root):\n",
    "    if(root == None):\n",
    "        return\n",
    "    inOrderTraversal(root.left)\n",
    "    print(root.data)\n",
    "    inOrderTraversal(root.right)\n",
    "\n",
    "def postOrderTraversal(root):\n",
    "    if(root == None):\n",
    "        return\n",
    "    postOrderTraversal(root.left)\n",
    "    postOrderTraversal(root.right)\n",
    "    print(root.data)"
   ]
  },
  {
   "cell_type": "markdown",
   "id": "09eabf9e",
   "metadata": {},
   "source": [
    "# iterator for binary tree (continued)\n",
    "\n",
    "However, I had no idea how I wanted to tackle this problem using this knowledge, I knew what in order traversal was, but how was I supposed to get a hasNext() or getNext() method from this ?\n",
    "\n",
    "Well, the solution is half way there, instead of implementing the in order traversal recursively\n",
    "\n",
    "I would have to implement it with a stack, I would populate the stack initially with all the left values of the tree\n",
    "\n",
    "that would leave me at the left most node with every left node recorded(including the root), from that point, at each stack pop I would check for any right children, if there were any of them I would populate the stack from that point as if that right node were the root node of an entire new binary tree, and continue this until the stack was empty\n",
    "\n"
   ]
  },
  {
   "cell_type": "code",
   "execution_count": null,
   "id": "2bb20a81",
   "metadata": {},
   "outputs": [],
   "source": [
    "def InOrderIterator:\n",
    "    def __init__(self,root):\n",
    "        self.stack = []\n",
    "        \n",
    "        self.populateIterator(root)\n",
    "    \n",
    "    def populateIterator(self,root):\n",
    "        while(root):\n",
    "            self.stack.append(root)\n",
    "            root = root.left\n",
    "    \n",
    "    def hasNext(self):\n",
    "        if not self.stack:\n",
    "            return False\n",
    "        else\n",
    "            return True\n",
    "        \n",
    "    def getNext(self):\n",
    "        if(not self.hasNext()):\n",
    "            return None\n",
    "        popped_element = self.stack.pop()\n",
    "        self.populateIterator(popped_element.right)        \n",
    "        return popped_element\n",
    "        "
   ]
  },
  {
   "cell_type": "markdown",
   "id": "fd3a92d0",
   "metadata": {},
   "source": [
    "# Time and space complexity\n",
    "\n",
    "The time complexity of creating the iterator is linear O(N). The iterator method hasNext() has a time complexity of O(1), whereas the cumulative time complexity of calling getNext() till we traverse the whole tree is O(N).\n",
    "\n",
    "Space complexity of this iterative solution is O(H) because our algorithm uses a stack that stores data up to the height of the binary tree, h. The complexity will be O(logN) for a balanced tree and O(N) for a degenerate tree.\n",
    "\n",
    "\n",
    "# Analysis\n",
    "\n",
    "Soaking up the algorithm a little more I'm realizing that the pattern of this algorithm is very linear with some jumps here and there, the jump from left to right is what I'm referring to. The first iterator of a binary tree of height h is a great example of this (assuming the tree is balanced), we populate the stack with just left values, if viewed in a diagram, that iteration is linear, as elements pop off the stack, we make jumps from the left child to the right child if it exists, again at that right child position(referred to as a root in the populateIterator parameter) we again do a linear traversal of only left nodes and append these nodes to the stack.\n",
    "\n",
    "since we're already at the end of the binary tree(all the way to the left), there isn't much traversal(populate iteration) to be done if we run into a right child that belongs to a popped off left node in the stack. It is until we get to the real root of the binary tree where the right child holds h left nodes(assuming again a balanced tree) and the same steps will follow, the linearly left child path will be added to the stack, and then jumps to right children, that don't have many left nodes because we always end up at the end of the binary tree when we get close to the root of the node, or when we first populate the stack with all the left children of the binary tree."
   ]
  }
 ],
 "metadata": {
  "kernelspec": {
   "display_name": "Python 3 (ipykernel)",
   "language": "python",
   "name": "python3"
  },
  "language_info": {
   "codemirror_mode": {
    "name": "ipython",
    "version": 3
   },
   "file_extension": ".py",
   "mimetype": "text/x-python",
   "name": "python",
   "nbconvert_exporter": "python",
   "pygments_lexer": "ipython3",
   "version": "3.9.13"
  }
 },
 "nbformat": 4,
 "nbformat_minor": 5
}
