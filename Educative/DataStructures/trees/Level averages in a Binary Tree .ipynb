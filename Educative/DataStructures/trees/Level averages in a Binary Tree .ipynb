{
 "cells": [
  {
   "cell_type": "markdown",
   "id": "cca9d996",
   "metadata": {},
   "source": [
    "# Problem statement \n",
    "\n",
    "Given a binary tree, populate an array to represent the average of all of its levels.\n",
    "\n",
    "Pseudocode:\n",
    "\n",
    "We need to understand what the average is. The average is the sum of n numbers divided by n.\n",
    "\n",
    "Each level has a certain number of node, the deeper we go into the binary tree, the more nodes can occur inside of the nth level\n",
    "\n",
    "at the first level, we have the root, which is always just one element \n",
    "\n",
    "So we can create a queue that has the root inside of it \n",
    "\n",
    "while the queue has elements we will have 2 constant variables, length of the level, and the sum of each node's value\n",
    "\n",
    "we will also initialize sum as 0 and the length of the list as zero\n",
    "\n",
    "we will then dequeue each element in the queue = deleted_el\n",
    "\n",
    "on each iteration we will add the deleted_el's children to the queue\n",
    "\n",
    "then compute average = level_sum // length_of_level\n",
    "\n",
    "after computing both values we will append the average into the result list\n",
    "\n",
    "and append average to the result list"
   ]
  },
  {
   "cell_type": "code",
   "execution_count": 3,
   "id": "91b38b5d",
   "metadata": {},
   "outputs": [],
   "source": [
    "from collections import deque\n",
    "def find_level_averages(root):\n",
    "    stack = deque()\n",
    "    result = []\n",
    "    if(root is None):\n",
    "        return result\n",
    "    stack.append(root)\n",
    "    while stack:\n",
    "        level_sum = 0.0\n",
    "        length_of_level = 0\n",
    "        current_queue_size = len(stack)\n",
    "        for _ in range(current_queue_size):\n",
    "            length_of_level += 1\n",
    "            del_el = stack.popleft()\n",
    "            level_sum += del_el.val\n",
    "            if(del_el.right):\n",
    "                stack.append(del_el.right)\n",
    "            if(del_el.left):\n",
    "                stack.append(del_el.left)            \n",
    "        result.append(level_sum / length_of_level)\n",
    "    return result\n",
    "    "
   ]
  },
  {
   "cell_type": "markdown",
   "id": "0003085f",
   "metadata": {},
   "source": [
    "# Time and space complexity\n",
    "\n",
    "Time complexity is O(N) because we are visiting every node in the binary tree.\n",
    "\n",
    "Space complexity is O(N) because as we keep track of each level, each level may contain at most N/2 nodes inside of the queue, so we will need O(N) space to store them in the queue.\n",
    "\n",
    "# Similar problem\n",
    "\n",
    "Find the largest value on each level of a binary tree.\n",
    "\n",
    "We can use a queue to keep track of all the elements of each level and then run a loop inside the queue loop that dequeues all elements in a level\n",
    "\n",
    "after we sum all the nodes in the level we compare it to a max_level variable, at first it will be initailized as float('-inf'), negative infinity, but quickly the root node's value will replace this value, and we move further down the levels, we will find which level has the largest value and return that value. If it's the level that the function wants in return, then we can keep track of each level and each sum of each level and replace the not just the max value but also the level at which we found the max value. All in all, traversing and keeping track of elements in level order for a binary tree uses a queue, and traversing through a binary tree in-order requires a stack."
   ]
  }
 ],
 "metadata": {
  "kernelspec": {
   "display_name": "Python 3 (ipykernel)",
   "language": "python",
   "name": "python3"
  },
  "language_info": {
   "codemirror_mode": {
    "name": "ipython",
    "version": 3
   },
   "file_extension": ".py",
   "mimetype": "text/x-python",
   "name": "python",
   "nbconvert_exporter": "python",
   "pygments_lexer": "ipython3",
   "version": "3.9.12"
  }
 },
 "nbformat": 4,
 "nbformat_minor": 5
}
