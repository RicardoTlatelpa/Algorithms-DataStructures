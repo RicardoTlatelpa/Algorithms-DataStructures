{
 "cells": [
  {
   "cell_type": "markdown",
   "id": "587e958f",
   "metadata": {},
   "source": [
    "# Statement\n",
    "\n",
    "Given a binary tree, write an iterative algorithm for the in order traversal of a binary tree. The algorithm should print out the value of each node such that it conforms to the in-order travesal of the input binary tree. The function is not expected to return a value, only to print it out on the console.\n",
    "\n",
    "# Solution \n",
    "\n",
    "The in-order traversal of a binary tree starts from the root. As we traverse the binary tree in-order iteratively, a stack is helpful to track the nodes.\n",
    "\n",
    "In the case of a BST, our in-order traversal solution prints nodes in sorted ascending order.\n",
    "\n",
    "To traverse the tree-in-order, we first visit the left node \"L\" followed by the current node \"N\", and finally the right node \"R\". We repeat this process for every node during the traversal. \n",
    "\n",
    "In short, we print out node in the 'L N R' sequence, where the current node \"N\" comes in the middle.\n",
    "\n",
    "Here are we the steps you need to folow:\n",
    "\n",
    "1. We must initailize a stack data structure and point the current node pointer to the root.\n",
    "2. Now, push the current node onto the stack and point the current node to its left child.\n",
    "3. Repeat step 2 until the current node points to a null value.\n",
    "4. If the current node is nuill and the stack is not empty, perform the following operations:\n",
    "    - Print the top stack element\n",
    "    - pop the top stack element and point the current node to the right child of the popped element\n",
    "5. If the current node is null and the stack is empty, we terminate our algorithm. let's run the above algorithm on a sample tree.\n",
    "\n",
    "**Note**\n",
    "Deque is from the python language and is a list that has a dequeue and pop method"
   ]
  },
  {
   "cell_type": "code",
   "execution_count": null,
   "id": "f8c8f72c",
   "metadata": {},
   "outputs": [],
   "source": [
    "def inorder_iterative(root):\n",
    "    result = \"\"\n",
    "    if not root:\n",
    "        print(\"None\", end = \"\")\n",
    "    else:\n",
    "        stk = deque()\n",
    "        curr_node = root\n",
    "        \n",
    "        while stk or curr_node:\n",
    "            if curr_node:\n",
    "                stk.append(curr_node):\n",
    "                curr_node = curr_node.left\n",
    "                continue\n",
    "            result += str(stk[-1].data) + \", \"\n",
    "            curr_node = stk[-1].right\n",
    "            stk.pop()\n",
    "        result_ = result[:-2]\n",
    "        print(str(result_), end = \"\")"
   ]
  },
  {
   "cell_type": "markdown",
   "id": "11abc102",
   "metadata": {},
   "source": [
    "# Code analysis\n",
    "\n",
    "so we initiate an empty string\n",
    "and we do a quick check if the root exists\n",
    "if it doesn't then can print just None\n",
    "This just means that we an empty BinaryTree\n",
    "\n",
    "else:\n",
    "\n",
    "we initialize an empty stack\n",
    "and a pointer to the root with the variable curr_node\n",
    "\n",
    "\n",
    "while the stack has elements within it and curr_node is pointing to something\n",
    "\n",
    "    we first check if curr_node exists\n",
    "    if it does we append the curr_node to the stack, and of course the first value is the root of the tree\n",
    "    then we update the curr node to the left child\n",
    "    and use the continue keyword, which skips the rest of the script\n",
    "    \n",
    "    once we reach a curr_node that points to None\n",
    "    we append the string of the last element of the stack's data with a comma and a space to the result string\n",
    "    we also set curr_node equal to the last element of the stacks right child\n",
    "    and then we pop from the stack\n",
    "    \n",
    "    By doing these operations we esentially are visiting every node in the tree in order\n",
    "When the while is finished and we have visited every node in the binary tree\n",
    "we update the result string and remove the last comma and space from the result string\n",
    "\n",
    "then we print the final result string which contains every element in the binary tree in order\n",
    "\n",
    "# Time and space complexity\n",
    "\n",
    "The time complexity aof iteratively traversing a binary tree in-order is linear, O(N)\n",
    "\n",
    "the space complexity of this iterative solution O(h) as our algorithm uses a stack that stores data up to the height (h) of the binary tree. The space complexity will be O(logn) for a balanced tree and O(N) for a degenerate tree."
   ]
  }
 ],
 "metadata": {
  "kernelspec": {
   "display_name": "Python 3 (ipykernel)",
   "language": "python",
   "name": "python3"
  },
  "language_info": {
   "codemirror_mode": {
    "name": "ipython",
    "version": 3
   },
   "file_extension": ".py",
   "mimetype": "text/x-python",
   "name": "python",
   "nbconvert_exporter": "python",
   "pygments_lexer": "ipython3",
   "version": "3.9.12"
  }
 },
 "nbformat": 4,
 "nbformat_minor": 5
}
