{
 "cells": [
  {
   "cell_type": "markdown",
   "id": "a043e5f1",
   "metadata": {},
   "source": [
    "# Convery Binary Tree to Doubly Linked List\n",
    "Convert a given binary tree to a double-linked list.\n",
    "\n",
    "## Statement\n",
    "Convert a given binary tree to a doubly-linked list, such that the order of the doubly-linked list is the same as the in-order of the binary tree.\n",
    "\n",
    "After conversion, the left point of the node should point to the previous node in the doubly linked list, and the right pointer should point to the next node in the doubly linked list. The head node of the linked list must be the first node in the in order-traversal of the original binary tree."
   ]
  },
  {
   "cell_type": "markdown",
   "id": "703317c2",
   "metadata": {},
   "source": [
    "# My Solution\n",
    "My train of thought for this solution was to traverse the binary tree by level order using a stack. At each iteration I would talk advantage of its left and right child pointers and treat them as a doubly linked lists prev and next pointers.\n",
    "\n",
    "The next step was to figure out how to manage that with each popping of the stack\n",
    "\n",
    "So I kept track of the last_node that was added to the \"doubly linked list\" and I made sure to remember the head of the dll. The head would be determined and only assigned if it's current variable is None, then the head would be assigned and that would always be the first node that got popped from the stack.\n",
    "\n",
    "So if the current node we're dealing with isn't a head of the dll, then I would take advantage of the memory of the last_node and attach it to the popped element from the stack, and set the popped element from the stack's left pointer to the last_node and its right pointer to None. Then update the last_node to be the popped element from the stack. The right pointer will be updated on the next iteration if the stack contains any elements. "
   ]
  },
  {
   "cell_type": "code",
   "execution_count": null,
   "id": "2045508b",
   "metadata": {},
   "outputs": [],
   "source": [
    "def convert_to_linked_list(root):\n",
    "    stack = []\n",
    "    head_of_dll = None\n",
    "    current_node = root\n",
    "    last_node = None\n",
    "    \n",
    "    while stack or current_node:\n",
    "        if current_node:\n",
    "            stack.append(current_node)\n",
    "            current_node = current_node.left\n",
    "            continue\n",
    "            popped_node = stack.pop()\n",
    "            if popped_node.right:\n",
    "                current_node = popped_node.right\n",
    "            if head_of_dll == None:\n",
    "                head_of_dll = popped_node\n",
    "                last_node = popped_node\n",
    "            else:\n",
    "                last_node.right = popped_node\n",
    "                popped_node.left = last_node\n",
    "                popped_node.right = None\n",
    "                last_node = popped_node\n",
    "    return head_of_dll"
   ]
  },
  {
   "cell_type": "code",
   "execution_count": null,
   "id": "48f9aad4",
   "metadata": {},
   "outputs": [],
   "source": [
    "# Educative solution\n",
    "\n",
    "first = None\n",
    "last = None\n",
    "\n",
    "def convert_to_linked_list_rec(curr_node):\n",
    "    global first\n",
    "    global last\n",
    "    \n",
    "    if not curr_node:\n",
    "        return\n",
    "    else:\n",
    "        convert_to_linked_list_rec(curr_node.left)\n",
    "        if last:\n",
    "            last.right = curr_node\n",
    "            curr_node.left = last\n",
    "        else:\n",
    "            first = curr_node\n",
    "        last = curr_node\n",
    "        convert_to_linked_list_rec(curr_node.right)\n",
    "        \n",
    "def convert_to_linked_list(root):\n",
    "    global first\n",
    "    global last\n",
    "    \n",
    "    if not root:\n",
    "        return None\n",
    "    else:\n",
    "        first = None\n",
    "        last = None\n",
    "        convert_to_linked_list_rec(root)\n",
    "        \n",
    "        last.right = None\n",
    "        first.left = None\n",
    "        return first"
   ]
  },
  {
   "cell_type": "markdown",
   "id": "2862bb11",
   "metadata": {},
   "source": [
    "# Space and Time complexity\n",
    "\n",
    "The time complexity of the solution is linear, O(N) , where N is the number of nodes in the tree.\n",
    "\n",
    "## Space complexity\n",
    "\n",
    "The space complexity of this solution is O(H) because our recursive algorithms uses up space on the call stack, which can grow to the height H of the binary tree. The complexity will be O(LogN) for a balanced tree and O(N) for a degenerate tree."
   ]
  }
 ],
 "metadata": {
  "kernelspec": {
   "display_name": "Python 3 (ipykernel)",
   "language": "python",
   "name": "python3"
  },
  "language_info": {
   "codemirror_mode": {
    "name": "ipython",
    "version": 3
   },
   "file_extension": ".py",
   "mimetype": "text/x-python",
   "name": "python",
   "nbconvert_exporter": "python",
   "pygments_lexer": "ipython3",
   "version": "3.9.13"
  }
 },
 "nbformat": 4,
 "nbformat_minor": 5
}
