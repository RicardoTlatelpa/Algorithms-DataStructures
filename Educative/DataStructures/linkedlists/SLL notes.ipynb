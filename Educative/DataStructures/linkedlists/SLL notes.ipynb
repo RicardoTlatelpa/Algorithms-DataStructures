{
 "cells": [
  {
   "cell_type": "markdown",
   "id": "c0281401",
   "metadata": {},
   "source": [
    "# Singly Linked Lists\n",
    "\n",
    "Each node holds data along with a forward pointer to the next node in the list. The abscence of a backwards pointer implies that there is a uni-directional link, i.e., the whole list points in one direction and cannot point backwards. This is why it is called a singly linked list.\n",
    "\n",
    "2 Important classes to implement \n",
    "Node class\n",
    "LinkedList class"
   ]
  },
  {
   "cell_type": "code",
   "execution_count": null,
   "id": "b45c0efe",
   "metadata": {},
   "outputs": [],
   "source": [
    "# Node class\n",
    "class Node:\n",
    "    def __init__(self,data):\n",
    "        self.data = data # Data field\n",
    "        self.next_element = None # pointer to next node\n",
    "        \n",
    "# Linked List class\n",
    "\n",
    "# The linked list itself is a collection of node objects which we defined above. To keep track of the list:\n",
    "# We need a pointer to the first node in the list\n",
    "\n",
    "class LinkedList:\n",
    "    def __init__(self):\n",
    "        self.head.node = None # Pointer to first node"
   ]
  },
  {
   "cell_type": "markdown",
   "id": "61ba2508",
   "metadata": {},
   "source": [
    "# Linked Lists vs Lists\n",
    "The main difference between the two are the way the elements are inserted and deleted. As for linked lists, insertion and deletion at the head happen in a constant amount of time, whereas at tail, it takes O(N) time. In the case of lists, it takes O(N) time to insert or delete a value. This is because of the different memory layouts of both data strucutres. Lists are arranged contiguously in the memory, while nodes of a linked lists may be disperesed in the memory. This memory layout also affects access operation; contiguous layout of lists allows us to index the list; thus, access operation in the list is O(1), wheras, for a linked list, we need to perform a traversal thus, it becomes O(N). The following table sums up the performance tradeoff between list and linked list.\n",
    "\n",
    "Operation\n",
    "Access; linkedList = O(N), list = O(1)\n",
    "Insert(at head); linkedList = O(1), list = O(N)\n",
    "delete(at head); LinkedList = O(1), list = O(N)\n",
    "insert(at tail); linkedList = O(N), list = O(1)/O(N)\n",
    "delete(at tail); linkedList = O(N), list = O(1)/O(N)\n",
    "\n",
    "The access operation in lists, is much faster as you can simply use the index of a list to access the value you need. In linked lists, there is no concept of indexing. To reach a certain element in the list, we must traverse it from the beginning. "
   ]
  },
  {
   "cell_type": "markdown",
   "id": "b604803b",
   "metadata": {},
   "source": [
    "# Basic linked list operations\n",
    "\n",
    "get_head() - returns the head of the list\n",
    "insert_at_tail(data) - inserts an element at the end of the linked list\n",
    "insert_at_head(data) - inserts an element at the start/head of the linked list\n",
    "delete(data) - deletes an element with your specified value from the linked list\n",
    "delete_at_head() - deletes the first element of the list\n",
    "search(data) - searches for an element with the specified value in the linked list\n",
    "is_empty() - returns true if the linked list is empty\n"
   ]
  },
  {
   "cell_type": "code",
   "execution_count": 1,
   "id": "d7fe8b19",
   "metadata": {},
   "outputs": [
    {
     "name": "stdout",
     "output_type": "stream",
     "text": [
      "None\n",
      "True\n",
      "List is empty!\n"
     ]
    },
    {
     "data": {
      "text/plain": [
       "False"
      ]
     },
     "execution_count": 1,
     "metadata": {},
     "output_type": "execute_result"
    }
   ],
   "source": [
    "class Node:\n",
    "    def __init__(self,data):\n",
    "        self.data = data # Data field\n",
    "        self.next_element = None # pointer to next node\n",
    "class LinkedList:\n",
    "    \n",
    "    def __init__(self):\n",
    "        self.head_node = None\n",
    "\n",
    "    def insert_at_head(self,data):\n",
    "        temp_node = Node(data)\n",
    "        temp_node.next_element = self.head_node\n",
    "        self.head_node = temp_node\n",
    "        return self.head_node\n",
    "        \n",
    "    def get_head(self):\n",
    "        return self.head_node\n",
    "    \n",
    "    def is_empty(self):\n",
    "        if self.head_node is None:\n",
    "            return True\n",
    "        else:\n",
    "            return False\n",
    "    def print_list(self):\n",
    "        if(self.is_empty()):\n",
    "            print(\"List is empty!\")\n",
    "            return False\n",
    "        temp = self.head_node\n",
    "        while temp.next_element != None:\n",
    "            print(temp.data, end=\" -> \")\n",
    "            temp = temp.next_element\n",
    "        print(temp.data, \"->None\")\n",
    "        return True\n",
    "    \n",
    "\n",
    "lst = LinkedList() # LinkedList created\n",
    "print(lst.get_head()) # returns None since headNode does not contain any data\n",
    "print(lst.is_empty()) # returns True because we have a head node in the linked list\n",
    "lst.print_list()"
   ]
  }
 ],
 "metadata": {
  "kernelspec": {
   "display_name": "Python 3 (ipykernel)",
   "language": "python",
   "name": "python3"
  },
  "language_info": {
   "codemirror_mode": {
    "name": "ipython",
    "version": 3
   },
   "file_extension": ".py",
   "mimetype": "text/x-python",
   "name": "python",
   "nbconvert_exporter": "python",
   "pygments_lexer": "ipython3",
   "version": "3.9.12"
  }
 },
 "nbformat": 4,
 "nbformat_minor": 5
}
