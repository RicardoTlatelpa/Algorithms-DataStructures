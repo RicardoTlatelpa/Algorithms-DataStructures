{
 "cells": [
  {
   "cell_type": "markdown",
   "id": "60ee91bb",
   "metadata": {},
   "source": [
    "# Challenge 2: search in a singly linked list\n",
    "\n",
    "A linked list and an integer to be searched\n",
    "\n",
    "True if the integer is found, false if the integer is not found"
   ]
  },
  {
   "cell_type": "code",
   "execution_count": null,
   "id": "d1b8d26d",
   "metadata": {},
   "outputs": [],
   "source": [
    "def search(lst,value):\n",
    "    root = lst.get_head()\n",
    "    while root:\n",
    "        if root.data == value:\n",
    "            return True\n",
    "        root = root.next_element\n",
    "    return False"
   ]
  },
  {
   "cell_type": "markdown",
   "id": "ca3316df",
   "metadata": {},
   "source": [
    "# Time and space complexity\n",
    "\n",
    "This solution has a O(N) time complexity and an O(1) space complexity\n",
    "\n",
    "O(N) time complexity because we have to iterate through the entire list in order to finish the algorithm, worse case scenario is the integer is not in the linked list so we iterated through a linked list of size N in order to get a return of the function."
   ]
  },
  {
   "cell_type": "code",
   "execution_count": null,
   "id": "15fddd5a",
   "metadata": {},
   "outputs": [],
   "source": [
    "# recursive solution\n",
    "def search(node,value):\n",
    "    if(not node):\n",
    "        return False\n",
    "    if(node.data is value):\n",
    "        return True\n",
    "    return search(node.next_element,value)"
   ]
  },
  {
   "cell_type": "markdown",
   "id": "a31d1788",
   "metadata": {},
   "source": [
    "# Time and space complexity\n",
    "\n",
    "The time complexity is O(N) and the space complexity is O(N)\n",
    "\n",
    "The reason the space complexity is O(N) is because the recursive solution is storing N elements in the call stack"
   ]
  }
 ],
 "metadata": {
  "kernelspec": {
   "display_name": "Python 3 (ipykernel)",
   "language": "python",
   "name": "python3"
  },
  "language_info": {
   "codemirror_mode": {
    "name": "ipython",
    "version": 3
   },
   "file_extension": ".py",
   "mimetype": "text/x-python",
   "name": "python",
   "nbconvert_exporter": "python",
   "pygments_lexer": "ipython3",
   "version": "3.9.12"
  }
 },
 "nbformat": 4,
 "nbformat_minor": 5
}
