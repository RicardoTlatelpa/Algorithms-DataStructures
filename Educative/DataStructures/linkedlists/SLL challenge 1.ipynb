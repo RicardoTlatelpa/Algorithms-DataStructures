{
 "cells": [
  {
   "cell_type": "markdown",
   "id": "4924ae63",
   "metadata": {},
   "source": [
    "# Challenge 1: Insertion at Tail\n",
    "\n",
    "WE need to insert at new object at the end of the linked list. You can naturally guess, taht this newly added node will point to None as it is at the tail.\n",
    "\n",
    "Input: a linked list and an integer value\n",
    "\n",
    "output: the updated linked list with the value inserted"
   ]
  },
  {
   "cell_type": "code",
   "execution_count": null,
   "id": "efda295d",
   "metadata": {},
   "outputs": [],
   "source": [
    "class Node:\n",
    "    def __init__(self,data):\n",
    "        self.data = data # Data field\n",
    "        self.next_element = None # pointer to next node\n",
    "\n",
    "class LinkedList:\n",
    "    \n",
    "    def __init__(self):\n",
    "        self.head_node = None\n",
    "\n",
    "    def insert_at_head(self,data):\n",
    "        temp_node = Node(data)\n",
    "        temp_node.next_element = self.head_node\n",
    "        self.head_node = temp_node\n",
    "        return self.head_node\n",
    "        \n",
    "    def get_head(self):\n",
    "        return self.head_node\n",
    "    \n",
    "    def is_empty(self):\n",
    "        if self.head_node is None:\n",
    "            return True\n",
    "        else:\n",
    "            return False\n",
    "    def print_list(self):\n",
    "        if(self.is_empty()):\n",
    "            print(\"List is empty!\")\n",
    "            return False\n",
    "        temp = self.head_node\n",
    "        while temp.next_element != None:\n",
    "            print(temp.data, end=\" -> \")\n",
    "            temp = temp.next_element\n",
    "        print(temp.data, \"->None\")\n",
    "        return True"
   ]
  },
  {
   "cell_type": "code",
   "execution_count": 2,
   "id": "0c2c0869",
   "metadata": {},
   "outputs": [],
   "source": [
    "def insert_at_tail(lst,value):\n",
    "    root = lst.get_head()\n",
    "    new_node = Node(value)\n",
    "    temp = lst.get_head()\n",
    "    while(temp):\n",
    "        temp = temp.next_element\n",
    "    temp.next_element = new_node\n",
    "    return root"
   ]
  },
  {
   "cell_type": "code",
   "execution_count": null,
   "id": "f47d2eaf",
   "metadata": {},
   "outputs": [],
   "source": []
  }
 ],
 "metadata": {
  "kernelspec": {
   "display_name": "Python 3 (ipykernel)",
   "language": "python",
   "name": "python3"
  },
  "language_info": {
   "codemirror_mode": {
    "name": "ipython",
    "version": 3
   },
   "file_extension": ".py",
   "mimetype": "text/x-python",
   "name": "python",
   "nbconvert_exporter": "python",
   "pygments_lexer": "ipython3",
   "version": "3.9.12"
  }
 },
 "nbformat": 4,
 "nbformat_minor": 5
}
