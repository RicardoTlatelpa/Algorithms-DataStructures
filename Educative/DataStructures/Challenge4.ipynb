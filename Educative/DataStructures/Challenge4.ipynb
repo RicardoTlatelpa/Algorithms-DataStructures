{
 "cells": [
  {
   "cell_type": "markdown",
   "id": "4d9d1331",
   "metadata": {},
   "source": [
    "# Challenge 4: list of products of all elements\n",
    "\n",
    "Implement a function, find_product(lst), which modifies a list so that each index has a product of all the numbers present in the list except the number stored at that index."
   ]
  },
  {
   "cell_type": "code",
   "execution_count": null,
   "id": "c3b07672",
   "metadata": {},
   "outputs": [],
   "source": [
    "def my_find_product(lst):\n",
    "    r = []\n",
    "    for i in range(len(lst)):\n",
    "        pointer = 0\n",
    "        product = 1\n",
    "        while(pointer < len(lst)):\n",
    "            if(pointer != i):\n",
    "                product *= lst[pointer]\n",
    "            pointer += 1        \n",
    "        r.append(product)\n",
    "    return r"
   ]
  },
  {
   "cell_type": "code",
   "execution_count": 1,
   "id": "07cb8515",
   "metadata": {},
   "outputs": [
    {
     "name": "stdout",
     "output_type": "stream",
     "text": [
      "[24, 12, 8, 6]\n"
     ]
    }
   ],
   "source": [
    "def find_product(lst):\n",
    "    result = []\n",
    "    left = 1\n",
    "    for i in range(len(lst)):\n",
    "        current_product = 1\n",
    "        for j in range(i + 1, len(lst)):\n",
    "            current_product *= lst[j]\n",
    "        result.append(current_product * left)\n",
    "        left *= lst[i]\n",
    "    return result\n",
    "\n",
    "print(find_product([1,2,3,4]))"
   ]
  },
  {
   "cell_type": "markdown",
   "id": "dcc7bb09",
   "metadata": {},
   "source": [
    "# Time complexity and space complexity\n",
    "\n",
    "Time complexity is n((n-1))/2 = (n^2 - n)/2, and since n^2 is the greatest factor, O(N^2) is the time complexity, with O(N) space complexity because we are storing n amount of elements in the result array."
   ]
  },
  {
   "cell_type": "code",
   "execution_count": 2,
   "id": "f4b618dd",
   "metadata": {},
   "outputs": [
    {
     "name": "stdout",
     "output_type": "stream",
     "text": [
      "[24, 12, 8, 6]\n"
     ]
    }
   ],
   "source": [
    "def find_product_linear_solution(lst):\n",
    "    result = []\n",
    "    left = 1\n",
    "    \n",
    "    for i in range(len(lst)):\n",
    "        result.append(left)\n",
    "        left *= lst[i]\n",
    "\n",
    "    right = 1\n",
    "    # start at end of list, end at -1(meaning we view index 0), increment by -1(meaning go reverse)\n",
    "    for i in range(len(lst) - 1, -1, -1):\n",
    "        result[i] = result[i] * right\n",
    "        right = right * lst[i]\n",
    "        \n",
    "    return result\n",
    "print(find_product_linear_solution([1,2,3,4]))"
   ]
  },
  {
   "cell_type": "markdown",
   "id": "612193fd",
   "metadata": {},
   "source": [
    "# Time complexity and space complexity\n",
    "\n",
    "This solution is in O(N), because we are iterating through the array twice, O(2N), the limit of 2N as N goes to infinity is N, the constant 2 does not affect the overall time complexity\n",
    "\n",
    "the space complexity is O(N) because we are storing the same length of the input of the array 'lst'"
   ]
  }
 ],
 "metadata": {
  "kernelspec": {
   "display_name": "Python 3 (ipykernel)",
   "language": "python",
   "name": "python3"
  },
  "language_info": {
   "codemirror_mode": {
    "name": "ipython",
    "version": 3
   },
   "file_extension": ".py",
   "mimetype": "text/x-python",
   "name": "python",
   "nbconvert_exporter": "python",
   "pygments_lexer": "ipython3",
   "version": "3.9.12"
  }
 },
 "nbformat": 4,
 "nbformat_minor": 5
}
