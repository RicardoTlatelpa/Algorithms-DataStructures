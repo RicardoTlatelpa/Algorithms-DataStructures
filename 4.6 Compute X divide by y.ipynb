{
 "cells": [
  {
   "cell_type": "markdown",
   "id": "51ff9953",
   "metadata": {},
   "source": [
    "# Computer X/Y \n",
    "\n",
    "Given two positive integers, compute their quotient, using only the addition, subtraction, and shifting operators.\n",
    "\n"
   ]
  },
  {
   "cell_type": "code",
   "execution_count": 3,
   "id": "898fd722",
   "metadata": {},
   "outputs": [
    {
     "name": "stdout",
     "output_type": "stream",
     "text": [
      "3\n"
     ]
    }
   ],
   "source": [
    "# brute force solution, subtract \n",
    "def quotient_bits(x,y):\n",
    "    count = 0\n",
    "    while(x >= y):\n",
    "        x -= y\n",
    "        count+=1\n",
    "    if(x):\n",
    "        return 10/3 => 7 => 4 => 1 / 3 \n",
    "    return count\n",
    "\n",
    "print(quotient_bits(9,3))"
   ]
  },
  {
   "cell_type": "markdown",
   "id": "d6638ce0",
   "metadata": {},
   "source": [
    "# Complexity of this solution\n",
    "The complexity of the brute force solution is very high when y = 1 and x = 2^31 - 1, it will take 2^31 - 1 iterations\n",
    "\n",
    "## A better approach\n",
    "Get more work done in each iteration"
   ]
  },
  {
   "cell_type": "code",
   "execution_count": 18,
   "id": "dfaeeb73",
   "metadata": {},
   "outputs": [
    {
     "name": "stdout",
     "output_type": "stream",
     "text": [
      "0b101100000000000000000000000000000000\n",
      "0\n",
      "1\n"
     ]
    }
   ],
   "source": [
    "def divide(x, y):\n",
    "    result, power = 0, 32\n",
    "    y_power = y << power\n",
    "    print(bin(y_power))\n",
    "    while x >= y:\n",
    "        while y_power > x:\n",
    "            print(power)\n",
    "            y_power >>= 1\n",
    "            power -= 1 \n",
    "        print(bin(y_power))\n",
    "        print('Power = ',power)\n",
    "        result += 1 << power\n",
    "        print(\"Result is =\", result)\n",
    "        x -= y_power\n",
    "    return result\n",
    "print(divide(10,11))\n",
    "print(1 << 0)"
   ]
  },
  {
   "cell_type": "markdown",
   "id": "02a35052",
   "metadata": {},
   "source": [
    "# Let's break down the code\n",
    "Inputs(in binary): \n",
    "\n",
    "x = (1010)\n",
    "y = (0101)\n",
    "1st iteration \n",
    "result = 0\n",
    "power = 32\n",
    "y_power = 0101 << 32 = 10100000000000000000000000000000000\n",
    "\n",
    "while 1010 >= 0101\n",
    "//while 10 is greater than or equal to 5 \n",
    "    while y_power(10100000000000000000000000000000000) > x \n",
    "        y_power >>= 1 // so with each iteration in the second loop we are chopping down the y_power number\n",
    "        power -= 1 // so with each iteration in the second loop we are subtracting power(32)\n",
    "        \n",
    "    result += 1 << power\n",
    "    x -= y_power\n",
    "\n",
    "So the idea of shifting to the right of 32 bits in y_power is to find out what power of 2 x divider will fit into X, once that number is found, we can subtract x from that number and restart that process until x less than y, then our result is stored in the result += 1 << power\n"
   ]
  },
  {
   "cell_type": "code",
   "execution_count": 15,
   "id": "75f0f435",
   "metadata": {},
   "outputs": [
    {
     "name": "stdout",
     "output_type": "stream",
     "text": [
      "0b10100000000000000000000000000000000\n"
     ]
    }
   ],
   "source": [
    "print(bin(0b0101 << 32))"
   ]
  },
  {
   "cell_type": "code",
   "execution_count": null,
   "id": "d229c1e9",
   "metadata": {},
   "outputs": [],
   "source": []
  }
 ],
 "metadata": {
  "kernelspec": {
   "display_name": "Python 3 (ipykernel)",
   "language": "python",
   "name": "python3"
  },
  "language_info": {
   "codemirror_mode": {
    "name": "ipython",
    "version": 3
   },
   "file_extension": ".py",
   "mimetype": "text/x-python",
   "name": "python",
   "nbconvert_exporter": "python",
   "pygments_lexer": "ipython3",
   "version": "3.9.12"
  }
 },
 "nbformat": 4,
 "nbformat_minor": 5
}
