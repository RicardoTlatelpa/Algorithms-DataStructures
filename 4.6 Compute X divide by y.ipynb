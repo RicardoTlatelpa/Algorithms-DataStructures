{
 "cells": [
  {
   "cell_type": "markdown",
   "id": "51ff9953",
   "metadata": {},
   "source": [
    "# Computer X/Y \n",
    "\n",
    "Given two positive integers, compute their quotient, using only the addition, subtraction, and shifting operators.\n",
    "\n"
   ]
  },
  {
   "cell_type": "code",
   "execution_count": 3,
   "id": "898fd722",
   "metadata": {},
   "outputs": [
    {
     "name": "stdout",
     "output_type": "stream",
     "text": [
      "3\n"
     ]
    }
   ],
   "source": [
    "# brute force solution, subtract \n",
    "def quotient_bits(x,y):\n",
    "    count = 0\n",
    "    while(x >= y):\n",
    "        x -= y\n",
    "        count+=1\n",
    "    if(x):\n",
    "        return 10/3 => 7 => 4 => 1 / 3 \n",
    "    return count\n",
    "\n",
    "print(quotient_bits(9,3))"
   ]
  },
  {
   "cell_type": "code",
   "execution_count": null,
   "id": "2f23e875",
   "metadata": {},
   "outputs": [],
   "source": []
  }
 ],
 "metadata": {
  "kernelspec": {
   "display_name": "Python 3 (ipykernel)",
   "language": "python",
   "name": "python3"
  },
  "language_info": {
   "codemirror_mode": {
    "name": "ipython",
    "version": 3
   },
   "file_extension": ".py",
   "mimetype": "text/x-python",
   "name": "python",
   "nbconvert_exporter": "python",
   "pygments_lexer": "ipython3",
   "version": "3.9.12"
  }
 },
 "nbformat": 4,
 "nbformat_minor": 5
}
