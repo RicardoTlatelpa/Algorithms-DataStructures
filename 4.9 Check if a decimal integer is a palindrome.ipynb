{
 "cells": [
  {
   "cell_type": "markdown",
   "id": "f8a08566",
   "metadata": {},
   "source": [
    "# Check if a Decimal integer is a palindrome\n",
    "\n",
    "A palindromic string is one which reads the same forwards and backwards \"redivider\". In this problem, you are to write a program which determines if the decimal representation of an integer is a palindromic string. For example, your program should return true for the inputs 0,1,7,11 121, 333, and 2147447412 and false for the inputs -1, 12, 100 and 2147483647"
   ]
  },
  {
   "cell_type": "code",
   "execution_count": null,
   "id": "61661bbe",
   "metadata": {},
   "outputs": [],
   "source": [
    "# Brute Force solution, turn into string and use two pointers to find any difference, if so return false"
   ]
  },
  {
   "cell_type": "code",
   "execution_count": null,
   "id": "a0bf946e",
   "metadata": {},
   "outputs": [],
   "source": [
    "# Solution\n",
    "# First note that if the input is negative, then its representation as a decimal string cannot be palindromic\n",
    "# Avoiding O(N) space complexity by directly extracting digits from the input."
   ]
  },
  {
   "cell_type": "code",
   "execution_count": null,
   "id": "d2136bfa",
   "metadata": {},
   "outputs": [],
   "source": [
    "def is_palindrome_number(x):\n",
    "    if x <= 0:\n",
    "        return x == 0\n",
    "    num_digits = math.floor(math.log10(x)) + 1 \n",
    "    msd_mask = 10**(num_digits - 1)\n",
    "    for i in range(num_digits // 2):\n",
    "        if x // msd_mask != x % 10:\n",
    "            return False\n",
    "        x %= msd_mask\n",
    "        x //= 10\n",
    "        msd_mask //= 100\n",
    "    return True"
   ]
  },
  {
   "cell_type": "markdown",
   "id": "a17e5c0e",
   "metadata": {},
   "source": [
    "# Code Analysis"
   ]
  }
 ],
 "metadata": {
  "kernelspec": {
   "display_name": "Python 3 (ipykernel)",
   "language": "python",
   "name": "python3"
  },
  "language_info": {
   "codemirror_mode": {
    "name": "ipython",
    "version": 3
   },
   "file_extension": ".py",
   "mimetype": "text/x-python",
   "name": "python",
   "nbconvert_exporter": "python",
   "pygments_lexer": "ipython3",
   "version": "3.9.12"
  }
 },
 "nbformat": 4,
 "nbformat_minor": 5
}
