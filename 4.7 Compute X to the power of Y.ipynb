{
 "cells": [
  {
   "cell_type": "markdown",
   "id": "b7c2e093",
   "metadata": {},
   "source": [
    "# 4.7  Compute x^y\n",
    "Write a program that takes a double x and an integer y and returns x^y. Ignoring overflow and underflow.\n",
    "\n",
    "Key to efficiency is to try to get more work done with each iteration\n",
    "Break apart the exponents into smaller exponents and breaking the problem down into smaller steps for faster computation\n",
    "x^8 seems to be a big number but can be boiled down to (x^2)^4 => (x^2+x^2)^2\n",
    "\n",
    "\"To develop an algorithm that works for general y, it is instructive to look at the binary representation of y, as well as properties of exponentiation, specifically x^y0 + y1 = x^y0 + x^y1\"\n",
    "\n",
    "Generalizing, if the least significant bit of y is 0, the result is (x^y/2)^2; otherwise, it is x * (x^y/2)^2"
   ]
  },
  {
   "cell_type": "code",
   "execution_count": null,
   "id": "0e69a139",
   "metadata": {},
   "outputs": [],
   "source": [
    "def power(x,y):\n",
    "    result, power = 1.0, y\n",
    "    if y < 0:\n",
    "        power, x = -power, 1.0 / x \n",
    "    while power:\n",
    "        if power & 1:\n",
    "            result *= x \n",
    "        x,power = x * x, power >> 1\n",
    "    return result"
   ]
  }
 ],
 "metadata": {
  "kernelspec": {
   "display_name": "Python 3 (ipykernel)",
   "language": "python",
   "name": "python3"
  },
  "language_info": {
   "codemirror_mode": {
    "name": "ipython",
    "version": 3
   },
   "file_extension": ".py",
   "mimetype": "text/x-python",
   "name": "python",
   "nbconvert_exporter": "python",
   "pygments_lexer": "ipython3",
   "version": "3.9.12"
  }
 },
 "nbformat": 4,
 "nbformat_minor": 5
}
