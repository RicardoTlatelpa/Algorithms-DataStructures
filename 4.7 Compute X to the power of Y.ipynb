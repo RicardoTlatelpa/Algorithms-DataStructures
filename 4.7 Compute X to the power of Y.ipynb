{
 "cells": [
  {
   "cell_type": "markdown",
   "id": "b7c2e093",
   "metadata": {},
   "source": [
    "# 4.7  Compute x^y\n",
    "Write a program that takes a double x and an integer y and returns x^y. Ignoring overflow and underflow.\n",
    "\n",
    "Key to efficiency is to try to get more work done with each iteration\n",
    "Break apart the exponents into smaller exponents and breaking the problem down into smaller steps for faster computation\n",
    "x^8 seems to be a big number but can be boiled down to (x^2)^4 => (x^2+x^2)^2\n",
    "\n",
    "\"To develop an algorithm that works for general y, it is instructive to look at the binary representation of y, as well as properties of exponentiation, specifically x^y0 + y1 = x^y0 + x^y1\"\n",
    "\n",
    "Generalizing, if the least significant bit of y is 0, the result is (x^y/2)^2; otherwise, it is x * (x^y/2)^2\n",
    "\n",
    "because if the least significant bit is 1, then the entire number will be odd\n",
    "otherwise the number is a multiple of 2 and can be broken down by halves\n"
   ]
  },
  {
   "cell_type": "code",
   "execution_count": 7,
   "id": "0e69a139",
   "metadata": {},
   "outputs": [
    {
     "name": "stdout",
     "output_type": "stream",
     "text": [
      "1.0\n",
      "100.0\n",
      "1000000.0\n",
      "100000000000000.0\n",
      "7\n"
     ]
    }
   ],
   "source": [
    "def power(x,y):\n",
    "    result, power = 1.0, y\n",
    "    if y < 0:\n",
    "        power, x = -power, 1.0 / x \n",
    "    while power:\n",
    "#         print(bin(power))\n",
    "        if power & 1:\n",
    "            print(result)\n",
    "            result *= x \n",
    "        x,power = x * x, power >> 1\n",
    "    return result\n",
    "\n",
    "print(power(10,14))\n",
    "print(14 >> 1)"
   ]
  },
  {
   "cell_type": "markdown",
   "id": "cda3ed00",
   "metadata": {},
   "source": [
    "# Example of how the function would work\n",
    "\n",
    "input \n",
    "x = 10\n",
    "y = 14\n",
    "\n",
    "result = 1.0\n",
    "power = 14\n",
    "if 14 < 0 (not true)\n",
    "\n",
    "while power\n",
    "    if 1110 & 1 //  (NOT TRUE) checking the least significant bit, if 1 is true, then \n",
    "        result *= x \n",
    "    x = x * x // 10 * 10 = 100\n",
    "    power >> 1 // 111\n",
    "\n",
    "while power:\n",
    "    if 111 & 1:\n",
    "        result *= x // true = 1 * 100 = 100\n",
    "    x = 100 * 100 = 10000\n",
    "    power = 111 > 1 = 11\n",
    "\n",
    "while power\n",
    "    if 11 & 1: \n",
    "        result *= x // true = 10 * 10 = 100\n",
    "    x = 10000 * 10000 = 100000000\n",
    "    power = 11 > 1\n",
    "    \n",
    "while power:\n",
    "    if 1 & 1:\n",
    "        result *= x // 100 * 10 \n",
    "\n",
    "Notes:\n",
    "    the loop will only last the amount of digits in power(y)\n",
    "        if the least significant bit is 1 then result is updated by being multiplied by the current x \n",
    "        x is going to multiply by itself n number of digits in the power number\n",
    "        on each iteration power is being shifted by 1 digit\n",
    "\n",
    "So say for example we have a long stretch of 0 digits in the power binary number\n",
    "Let's grab a short number to keep this simple\n",
    "\n",
    "result = 1\n",
    "x = 2\n",
    "y = 100 = 4 \n",
    "\n",
    "if power = 100, x is going to multiply itself 2 times before it reaches the least significant bit of 1 \n",
    "by then, the function will shift the power by 1 and the loop will stop running and return the result\n",
    "\n",
    "x = 2 * 2 = 4\n",
    "x = 4 * 4 = 16\n",
    "\n",
    "Finally when 1 & 1 \n",
    "\n",
    "result *= x = 1 * 16 = 16 \n",
    "\n",
    "Normally we perform 2^4 by doing 2*2*2*2\n",
    "\n",
    "x only multiplies 2 times\n",
    "\n",
    "on the first iteration it is 2^2\n",
    "\n",
    "on the second iteration it is (2^2)^2\n",
    "\n",
    "if there were a third iteration it is ((2^2)^2)^2\n",
    "\n",
    "And if the number were odd, then the first least significant bit would be one \n",
    "and so the expression would look like this\n",
    "\n",
    "2 * ((2^2)^2)^2...\n"
   ]
  },
  {
   "cell_type": "code",
   "execution_count": null,
   "id": "070eabbd",
   "metadata": {},
   "outputs": [],
   "source": []
  }
 ],
 "metadata": {
  "kernelspec": {
   "display_name": "Python 3 (ipykernel)",
   "language": "python",
   "name": "python3"
  },
  "language_info": {
   "codemirror_mode": {
    "name": "ipython",
    "version": 3
   },
   "file_extension": ".py",
   "mimetype": "text/x-python",
   "name": "python",
   "nbconvert_exporter": "python",
   "pygments_lexer": "ipython3",
   "version": "3.9.12"
  }
 },
 "nbformat": 4,
 "nbformat_minor": 5
}
