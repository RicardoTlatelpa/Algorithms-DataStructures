{
 "cells": [
  {
   "cell_type": "markdown",
   "id": "31dc684d",
   "metadata": {},
   "source": [
    "# 4.4 Find a closest Integer with the same weight\n",
    "\n",
    "Define the weight of nonnegative integer x to be the number of bits that are set to 1 in its binary representation. \n",
    "\n",
    "Example:\n",
    " - Since 92 in base 2 equals(1011100) the weight of 92 is 4 \n",
    " \n",
    " Write a program which takes as input a nonnegative integer x and returns a number y which is not equal to x, but has the same weight as x and their difference, |y-x|, is as small as possible. You can assume x is not 0, or all 1s"
   ]
  },
  {
   "cell_type": "code",
   "execution_count": 4,
   "id": "938e8f72",
   "metadata": {},
   "outputs": [
    {
     "name": "stdout",
     "output_type": "stream",
     "text": [
      "3 3\n"
     ]
    }
   ],
   "source": [
    "# Brute force solution\n",
    "def count_one_bits(x):\n",
    "    count = 0\n",
    "    while(x):\n",
    "       count += 1\n",
    "       x = x & (x-1)\n",
    "    return count\n",
    "\n",
    "def closest_int_same_bit_c(x):\n",
    "    closest = 1\n",
    "    nOfBitsThatAreOne = count_one_bits(x)\n",
    "    while(x):\n",
    "        if(x - closest > 0):\n",
    "            if(nOfBitsThatAreOne == count_one_bits(x - closest)):\n",
    "                return x - closest            \n",
    "        else:\n",
    "            if(nOfBitsThatAreOne == count_one_bits(x + closest)):\n",
    "                return x + closest            \n",
    "        closest += 1\n",
    "\n",
    "answer = closest_int_same_bit_c(100)\n",
    "print(count_one_bits(100),count_one_bits(answer))"
   ]
  },
  {
   "cell_type": "code",
   "execution_count": null,
   "id": "6b98e8e4",
   "metadata": {},
   "outputs": [],
   "source": []
  },
  {
   "cell_type": "code",
   "execution_count": null,
   "id": "e319965a",
   "metadata": {},
   "outputs": [],
   "source": []
  }
 ],
 "metadata": {
  "kernelspec": {
   "display_name": "Python 3 (ipykernel)",
   "language": "python",
   "name": "python3"
  },
  "language_info": {
   "codemirror_mode": {
    "name": "ipython",
    "version": 3
   },
   "file_extension": ".py",
   "mimetype": "text/x-python",
   "name": "python",
   "nbconvert_exporter": "python",
   "pygments_lexer": "ipython3",
   "version": "3.9.12"
  }
 },
 "nbformat": 4,
 "nbformat_minor": 5
}
