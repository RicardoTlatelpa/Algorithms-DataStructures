{
 "cells": [
  {
   "cell_type": "markdown",
   "id": "95fea209",
   "metadata": {},
   "source": [
    "# 5.10 Permute the elements of an array\n",
    "\n",
    "A permutatation is a rearrangement of members of a sequence into a new sequence. For example, there are 24 permutation of <a,b,c,d>; some of these are <b,a,d,c> <d,a,b,c> and <a,d,b,c>\n",
    "\n",
    "A permutation can be specified by an array P, where P[i] represents the location of the element at i in the permuation. For example, the array <2,0,1,3> represents the permutation that maps the elements at location 0 to location 2, the element at location 1 to location 0, the element at location 2 to location 1, and keep the element at location 3 unchanged. A permutation can be applied to an array to reorder the array. For example, the permutation <2,0,1,3> applied to A"
   ]
  },
  {
   "cell_type": "code",
   "execution_count": 9,
   "id": "41af2da2",
   "metadata": {},
   "outputs": [
    {
     "data": {
      "text/plain": [
       "[[1, 2, 3], [2, 1, 3], [3, 2, 1], [1, 3, 2]]"
      ]
     },
     "execution_count": 9,
     "metadata": {},
     "output_type": "execute_result"
    }
   ],
   "source": [
    "def permute_array(a):\n",
    "    result = [a]\n",
    "    for i in range(len(a)):\n",
    "        combinations = []\n",
    "        copy = a\n",
    "        for j in range(len(copy)):\n",
    "            if j != i and j > i:\n",
    "                # swap values\n",
    "                copy[i], copy[j] = copy[j], copy[i]\n",
    "                d_c = copy.copy()\n",
    "                combinations.append(d_c)\n",
    "                copy[i], copy[j] = copy[j], copy[i]\n",
    "        for combination in range(len(combinations)):\n",
    "            result.append(combinations[combination])\n",
    "    return result\n",
    "\n",
    "permute_array([1,2,3])"
   ]
  },
  {
   "cell_type": "code",
   "execution_count": null,
   "id": "6b4c144d",
   "metadata": {},
   "outputs": [],
   "source": []
  }
 ],
 "metadata": {
  "kernelspec": {
   "display_name": "Python 3 (ipykernel)",
   "language": "python",
   "name": "python3"
  },
  "language_info": {
   "codemirror_mode": {
    "name": "ipython",
    "version": 3
   },
   "file_extension": ".py",
   "mimetype": "text/x-python",
   "name": "python",
   "nbconvert_exporter": "python",
   "pygments_lexer": "ipython3",
   "version": "3.9.12"
  }
 },
 "nbformat": 4,
 "nbformat_minor": 5
}
