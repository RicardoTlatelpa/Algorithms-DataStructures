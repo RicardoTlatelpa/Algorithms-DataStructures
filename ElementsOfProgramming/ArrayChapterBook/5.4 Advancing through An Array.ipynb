{
 "cells": [
  {
   "cell_type": "markdown",
   "id": "9d634483",
   "metadata": {},
   "source": [
    "5.4 Advancing through an array\n",
    "In a particular board game, a player has to try to advance through a sequence of positions. Each position has a nonnegative integer associated with it, representing the maximum you can advance from that position in one move. You begin at the first position, and win by getting to the last position. For example, let A = [3,3,1,0,2,0,1] represent the board game. The ith entry in A is the maximum we can advance from i. Then the game can be won by the following sequence of advances through A: take 1 step from A[0] to A[1] then 3 steps from A[1] to A[4] then 2 steps from A[4] to A[6] which is the last position. Note that A[0] = 3>=1, A[1] = 3 >=3 and A[4] = 2 >= 2 so all moves are valid. If A instead was [3,2,0,0,2,0,1] it would not be possible to advance past position 3 so the game cannot be won.\n",
    "\n",
    "Write a program which takes an array of n integers, where A[i] denotes the maximum you can advance from index i, and returns whether it is possible to advance to the last index starting from the beginning of the array."
   ]
  },
  {
   "cell_type": "code",
   "execution_count": null,
   "id": "038bda4a",
   "metadata": {},
   "outputs": [],
   "source": [
    "def can_reach_end(A):\n",
    "    furthest_reach_so_far, last_index = 0, len(A) - 1\n",
    "    i = 0\n",
    "    while i <= furthest_reach_so_far and furthest_reach_so_far < last_index:\n",
    "        print(i, A[i] + i)\n",
    "        furthest_reach_so_far = max(furthest_reach_so_far, A[i] + i)\n",
    "        i += 1\n",
    "    return furthest_reach_so_far >= last_index\n",
    "\n",
    "can_reach_end([3,2,0,0,2,0,1])"
   ]
  },
  {
   "cell_type": "markdown",
   "id": "be9fc99f",
   "metadata": {},
   "source": [
    "# Big O analysis \n",
    "\n",
    "O(N) time complexity and O(1) space complexity\n"
   ]
  }
 ],
 "metadata": {
  "kernelspec": {
   "display_name": "Python 3 (ipykernel)",
   "language": "python",
   "name": "python3"
  },
  "language_info": {
   "codemirror_mode": {
    "name": "ipython",
    "version": 3
   },
   "file_extension": ".py",
   "mimetype": "text/x-python",
   "name": "python",
   "nbconvert_exporter": "python",
   "pygments_lexer": "ipython3",
   "version": "3.9.12"
  }
 },
 "nbformat": 4,
 "nbformat_minor": 5
}
