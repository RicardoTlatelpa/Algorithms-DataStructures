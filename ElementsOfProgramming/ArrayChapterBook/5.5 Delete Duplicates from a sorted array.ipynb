{
 "cells": [
  {
   "cell_type": "markdown",
   "id": "ffb6f351",
   "metadata": {},
   "source": [
    "This problem is concerned with deleting repeated elements from a sorted array. For example, for the array (2,3,5,5,7,11,11,11,13) then after deletiion, the array (2,3,5,7,11,13,0,0,0). After deleting repeated elements, there are 6 valid entries. There are no requirements as to the values stored beyond the last valid element.\n",
    "\n",
    "Write a program which takes as input a sorted array and updates it so that all duplicates have been removed and the remanining elements have been shifted left to fill the emptied indices. Return the number of valid elements. Many languages have library functions for performing this operation - you cannot use these functions\n",
    "\n",
    "Hint: There is an O(N) time and O(1) space solution\n"
   ]
  },
  {
   "cell_type": "code",
   "execution_count": null,
   "id": "65c4703e",
   "metadata": {},
   "outputs": [],
   "source": [
    "def delete_duplicates(A):\n",
    "    if not A:\n",
    "        return 0\n",
    "    write_index = 1\n",
    "    for i in range(1, len(A)):\n",
    "        if A[write_index - 1] != A[i]:\n",
    "            A[write_index] = A[i]\n",
    "            write_index += 1\n",
    "    return write_index"
   ]
  },
  {
   "cell_type": "markdown",
   "id": "822eaa8a",
   "metadata": {},
   "source": [
    "So basically only update the write_index if the last value does not equal the current value\n",
    "which will give the correct number of how many unique integers are in the array"
   ]
  }
 ],
 "metadata": {
  "kernelspec": {
   "display_name": "Python 3 (ipykernel)",
   "language": "python",
   "name": "python3"
  },
  "language_info": {
   "codemirror_mode": {
    "name": "ipython",
    "version": 3
   },
   "file_extension": ".py",
   "mimetype": "text/x-python",
   "name": "python",
   "nbconvert_exporter": "python",
   "pygments_lexer": "ipython3",
   "version": "3.9.12"
  }
 },
 "nbformat": 4,
 "nbformat_minor": 5
}
