{
 "cells": [
  {
   "cell_type": "code",
   "execution_count": null,
   "id": "ba3fcef1",
   "metadata": {},
   "outputs": [],
   "source": [
    "def even_odd(A):\n",
    "    next_even, next_odd = 0, len(A) - 1\n",
    "    while(next_even < next_odd):\n",
    "        if A[next_even] % 2 == 0:\n",
    "            next_even += 1\n",
    "        else:\n",
    "            A[next_even], A[next_odd] = A[next_odd], A[next_even]\n",
    "            next_odd -= 1"
   ]
  },
  {
   "cell_type": "markdown",
   "id": "5663b8d4",
   "metadata": {},
   "source": [
    "# Code analysis\n",
    "The next_even pointer starts at the zero index \n",
    "the next_odd pointer begins at the last index of the array\n",
    "we have no idea what integer we're pointing at,\n",
    "but we have to make sure the even pointer is pointing at an even number before it can move forward\n",
    "\n",
    "the loop next_even < next_odd is a flag stating that the entire array was read, and all the swaps that needed to be made have been made\n",
    "\n",
    "We use the next odd pointer for switching, and only move on to the next even if the next_even is pointing \n",
    "to an even integer, \n",
    "if next_even is not even, we swap with the next_odd pointer's value\n",
    "since we know next_even was odd and it's replacing the next_odd's value, that's one less odd number to worry about, meaning we can move on to the next unknown integer by moving the next_odd pointer towards the \n",
    "next_even pointer\n",
    "\n",
    "This operation is O(N) time complexity because we iterate through an entire array of N items\n",
    "the space time complexity is a constant O(1) because the space is not growing, it's temporary space \n",
    "for swapping and for indices\n"
   ]
  },
  {
   "cell_type": "markdown",
   "id": "27fed136",
   "metadata": {},
   "source": [
    "# Array problem tips:\n",
    "\n",
    "Instead of deleting an entry ( which requires moving all entries to the left) consider overwriting it.\n",
    "\n",
    "Be comfortable writing code that operates on subarrays\n",
    "\n",
    "## Know your array libraries\n",
    "\n",
    "Arrays in python are provided by the list type (tuble type is similar to array but unchangeable)\n",
    "\n",
    "Key properties: \n",
    "dynamically resized, no bound for values added\n",
    "Values can deleted and inserted at arbitarary locations\n",
    "\n",
    "len(A), A.append(42), A.remove(2), and A.insert(3,28)\n",
    "\n",
    "Instantiating a 2D array: [[1,2,4], [3,5,7,9], [13]]\n",
    "\n",
    "Reading from array or checking if a value is present in array is an O(N) operation where N is the length \n",
    "of the array\n",
    "\n",
    "Key methods for list:\n",
    "\n",
    "min(A), max(A)\n",
    "\n",
    "Binary search for sorted lists \n",
    "bisect.bisect(A,6), bisect.bisect_left(A,6), and bisect.bisect_right(A,6)\n",
    "\n",
    "A.reverse(), reversed(A) (returns an iterator)\n",
    "\n",
    "Slicing is a very succient way of manipulationg arrays. It can be viewed as a generalization of indexing: the most general form of slice is A[i:j:k] with all of i, j, and k being optional. \n",
    "\n",
    "Slicing can also be used to rotate and list: A[k:] + A[:k] rotates A by K to the left.\n",
    "It can also be used to create a copy: B = A[:] does a shallow copy of A into B"
   ]
  }
 ],
 "metadata": {
  "kernelspec": {
   "display_name": "Python 3 (ipykernel)",
   "language": "python",
   "name": "python3"
  },
  "language_info": {
   "codemirror_mode": {
    "name": "ipython",
    "version": 3
   },
   "file_extension": ".py",
   "mimetype": "text/x-python",
   "name": "python",
   "nbconvert_exporter": "python",
   "pygments_lexer": "ipython3",
   "version": "3.9.12"
  }
 },
 "nbformat": 4,
 "nbformat_minor": 5
}
