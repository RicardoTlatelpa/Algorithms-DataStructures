{
 "cells": [
  {
   "cell_type": "markdown",
   "id": "8e0a2080",
   "metadata": {},
   "source": [
    "Certain applications require arbitrary precision arithmetic. One way to achieve this is to use arrays to represent integers, e.g., with one digit per array entry, with the most significant digit appearing first, and a negative leading digit denoting a negative integer. For example [1,9,3,7,0,7,7,2,1] represent 193707721 and [-7,6,1,8,3,8,2,5,7,2,8,7] represents -761838257287\n",
    "\n",
    "Write a program that takes two arrays representing integers, and returns an integer representing their product. For example, since 193707721 x -761838257287 = -1475739525896776412927\n",
    "\n",
    "A brute force solution may be to convert these large numbers to strings and then parse them as numbers and multiply them but that defeats the whole purpose of arbitrary precision integers because we may deal with overflow or underflow because we have both negative and positve numbers.\n",
    "\n",
    "SO let's give the computer instructions on how to multiply \n",
    "\n",
    "let's start with a much smaller example\n",
    "(1,2,7) and (6,9)\n",
    "\n",
    "(1,2,7)\n",
    "  (6,9)\n",
    "First we notice that they don't have the same amount of digits so we can't iterate through them with one loop\n",
    "We would have to reverse the loop and start with the array with the smallest length\n",
    "\n",
    "then iterate through the entire longer array multiplying our way through like so\n",
    "\n",
    "9 * 7 = 63\n",
    "9 * 2 = 18\n",
    "9 * 1 = 9\n",
    "6 * 7 = 42 \n",
    "6 * 2 = 12 \n",
    "6 * 1 = 6\n",
    "\n",
    "unfortunately math isn't so easy and we can't add up all these numbers together and get thea answer plus we have to deal with the arrays\n",
    "\n",
    "the highest number we achieve is 9 * 9  which is 81, so that means we can extract the least signifcant digit and most significant digit with 10\n",
    "\n",
    "81 // 10 = 1 = sum A[i].append(81//10)\n",
    "81 % 10 = 8 = sum for next digit or A[i - 1].append(81%10)\n",
    "we can create a storage of arrays correspoding to their indices\n",
    "\n",
    "and later iterate through this array and sum them, any carries move on to the index index, and so forth until we reach\n",
    "the 0th index, and we can write a recursive function that checks if needs to insert any carries onto the front\n",
    "\n",
    "9 * 7 = 63, index 2 \n",
    "9 * 2 = 18, index 1\n",
    "9 * 1 = 9, index 0 \n",
    "6 * 7 = 42 , index 2\n",
    "6 * 2 = 12 , index 1 \n",
    "6 * 1 = 6 , index 0\n",
    "\n",
    "\n"
   ]
  },
  {
   "cell_type": "code",
   "execution_count": 22,
   "id": "3302ff90",
   "metadata": {},
   "outputs": [
    {
     "name": "stdout",
     "output_type": "stream",
     "text": [
      "[1, 2, 1, 4, 0, 1]\n"
     ]
    },
    {
     "data": {
      "text/plain": [
       "[1, 2, 1, 4, 0, 1]"
      ]
     },
     "execution_count": 22,
     "metadata": {},
     "output_type": "execute_result"
    }
   ],
   "source": [
    "def multiply_solution(num1, num2):\n",
    "    sign = -1 if (num1[0] < 0) ^ (num2[0] < 0) else 1 # xor operation, checks if either is negative to apply to result\n",
    "    num1[0], num2[0] = abs(num1[0]), abs(num2[0])\n",
    "    \n",
    "    result = [0] * (len(num1) + len(num2)) # preallocated array result, depending on how many digits each array has\n",
    "    for i in reversed(range(len(num1))):\n",
    "        for j in reversed(range(len(num2))):\n",
    "            result[i + j + 1] += num1[i] * num2[j]\n",
    "            result[i + j] += result[i + j + 1] // 10\n",
    "            result[i + j + 1] %= 10\n",
    "\n",
    "    #remove the leading zeroes.\n",
    "    result = result[next((i for i, x in enumerate(result) \n",
    "                          if x!=0), len(result)):] or [0]\n",
    "\n",
    "    return [sign * result[0]] + result[1:]\n",
    "\n",
    "multiply([1,2,3],[9,8,7])\n",
    "    "
   ]
  },
  {
   "cell_type": "code",
   "execution_count": 11,
   "id": "d0c49fbe",
   "metadata": {},
   "outputs": [
    {
     "data": {
      "text/plain": [
       "[-8, 4, 8, 7]"
      ]
     },
     "execution_count": 11,
     "metadata": {},
     "output_type": "execute_result"
    }
   ],
   "source": [
    "def multiply(num1, num2):    \n",
    "    # extract the sign with xor \n",
    "    sign = -1 if (num1[0] < 0) ^ (num2[0] < 0) else 1 \n",
    "    num1[0], num2[0] = abs(num1[0]), abs(num2[0])\n",
    "    # In layman's terms, if any number is negative the sign will be negative\n",
    "    # I want to create a result array of num1.length + num2.length filled with zeros\n",
    "    result = [0] * (len(num1) + len(num2))\n",
    "    # iterate through num1 and then inside of the iteration, iterate through num2\n",
    "    for i in reversed(range(len(num1))):\n",
    "        for j in reversed(range(len(num2))):\n",
    "            # Add the product to i+j+1, \n",
    "            result[i + j + 1] += num1[i] * num2[j]\n",
    "            # Then extract the most significant digit of the product with dividing and flooring i + j + 1 into i + j\n",
    "            result[i + j] += result[i + j + 1] // 10 # divide and floor to get most significant digit of a decimal #\n",
    "            # then leave the sum(least signifcant digit) into i + j + 1 with result[i + j + 1] %= 10\n",
    "            result[i + j + 1] %= 10\n",
    "\n",
    "    # then I want to remove zeros and multiply the sign to the first item in the result array\n",
    "    leading = 0\n",
    "    while(result[leading] == 0):\n",
    "        leading +=1\n",
    "    result = result[leading:]\n",
    "    return [sign * result[0]] + result[1:]\n",
    "\n",
    "multiply([-1,2,3],[6,9])"
   ]
  },
  {
   "cell_type": "code",
   "execution_count": null,
   "id": "3ab88e86",
   "metadata": {},
   "outputs": [],
   "source": []
  }
 ],
 "metadata": {
  "kernelspec": {
   "display_name": "Python 3 (ipykernel)",
   "language": "python",
   "name": "python3"
  },
  "language_info": {
   "codemirror_mode": {
    "name": "ipython",
    "version": 3
   },
   "file_extension": ".py",
   "mimetype": "text/x-python",
   "name": "python",
   "nbconvert_exporter": "python",
   "pygments_lexer": "ipython3",
   "version": "3.9.12"
  }
 },
 "nbformat": 4,
 "nbformat_minor": 5
}
