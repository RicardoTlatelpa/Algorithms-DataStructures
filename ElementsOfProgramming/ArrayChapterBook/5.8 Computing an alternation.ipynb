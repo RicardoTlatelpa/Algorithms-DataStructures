{
 "cells": [
  {
   "cell_type": "markdown",
   "id": "cb604d02",
   "metadata": {},
   "source": [
    "# 5.8 Computing an alternation\n",
    "Write a program that takes an array A of n numbers, and rearranges A's elements to get a new array B having the property that B[0] <= B[1] >= B[2] <= B[3] >= B[4] <= B[5] >= .....\n",
    "\n",
    "An example:\n",
    "\n",
    "0 1 2 3 4 5 \n",
    "3 5 8 9 10 11\n"
   ]
  },
  {
   "cell_type": "code",
   "execution_count": 7,
   "id": "e8de672e",
   "metadata": {},
   "outputs": [
    {
     "data": {
      "text/plain": [
       "[1, 3, 2]"
      ]
     },
     "execution_count": 7,
     "metadata": {},
     "output_type": "execute_result"
    }
   ],
   "source": [
    "def rearrange(A):\n",
    "    for i in range(len(A) - 1):\n",
    "        if i % 2 and A[i] > A[i + 1]:\n",
    "            A[i], A[i + 1] = A[i + 1], A[i]\n",
    "    return A\n",
    "a = [1,2,3]\n",
    "rearrange(a)"
   ]
  },
  {
   "cell_type": "code",
   "execution_count": 8,
   "id": "4c604f49",
   "metadata": {},
   "outputs": [],
   "source": [
    "def rearrange_solution(A):\n",
    "    for i in range(len(A)):\n",
    "        A[i:i + 2] = sorted(A[i: i + 2], reverse=i%2)\n",
    "    return A"
   ]
  },
  {
   "cell_type": "markdown",
   "id": "d45d574d",
   "metadata": {},
   "source": [
    "Looking at this:\n",
    "B[0] <= B[1] >= B[2] <= B[3] >= B[4] <= B[5] >= .....\n",
    "\n",
    "As a mathematical sequence, it is clear that even numbered indices are less than the next number\n",
    "\n",
    "So we can do only one loop of the array and check every even index and make sure it is less than the next index value\n",
    "\n",
    "Or we can pay attention to the odd numbers and see that the odd index has to be greater than the next index value"
   ]
  }
 ],
 "metadata": {
  "kernelspec": {
   "display_name": "Python 3 (ipykernel)",
   "language": "python",
   "name": "python3"
  },
  "language_info": {
   "codemirror_mode": {
    "name": "ipython",
    "version": 3
   },
   "file_extension": ".py",
   "mimetype": "text/x-python",
   "name": "python",
   "nbconvert_exporter": "python",
   "pygments_lexer": "ipython3",
   "version": "3.9.12"
  }
 },
 "nbformat": 4,
 "nbformat_minor": 5
}
