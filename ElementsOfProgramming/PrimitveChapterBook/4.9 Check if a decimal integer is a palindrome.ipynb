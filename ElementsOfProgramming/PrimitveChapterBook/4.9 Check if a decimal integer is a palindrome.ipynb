{
 "cells": [
  {
   "cell_type": "markdown",
   "id": "f8a08566",
   "metadata": {},
   "source": [
    "# Check if a Decimal integer is a palindrome\n",
    "\n",
    "A palindromic string is one which reads the same forwards and backwards \"redivider\". In this problem, you are to write a program which determines if the decimal representation of an integer is a palindromic string. For example, your program should return true for the inputs 0,1,7,11 121, 333, and 2147447412 and false for the inputs -1, 12, 100 and 2147483647"
   ]
  },
  {
   "cell_type": "code",
   "execution_count": null,
   "id": "61661bbe",
   "metadata": {},
   "outputs": [],
   "source": [
    "# Brute Force solution, turn into string and use two pointers to find any difference, if so return false"
   ]
  },
  {
   "cell_type": "code",
   "execution_count": null,
   "id": "a0bf946e",
   "metadata": {},
   "outputs": [],
   "source": [
    "# Solution\n",
    "# First note that if the input is negative, then its representation as a decimal string cannot be palindromic\n",
    "# Avoiding O(N) space complexity by directly extracting digits from the input."
   ]
  },
  {
   "cell_type": "code",
   "execution_count": 10,
   "id": "d2136bfa",
   "metadata": {},
   "outputs": [
    {
     "name": "stdout",
     "output_type": "stream",
     "text": [
      "100\n",
      "1\n"
     ]
    },
    {
     "data": {
      "text/plain": [
       "True"
      ]
     },
     "execution_count": 10,
     "metadata": {},
     "output_type": "execute_result"
    }
   ],
   "source": [
    "import math\n",
    "def is_palindrome_number(x):\n",
    "    if x <= 0: # edge case, if negative = false, if 0 = true\n",
    "        return x == 0\n",
    "    num_digits = math.floor(math.log10(x)) + 1 # We're checking 2 digits at a time so we're chipping away at the number slowly\n",
    "    msd_mask = 10**(num_digits - 1) # mask for the LSB\n",
    "    for i in range(num_digits // 2):\n",
    "        if x // msd_mask != x % 10: # comparing most significant bit to least significant bit\n",
    "            return False\n",
    "        x %= msd_mask # get rid of least significant bit\n",
    "        x //= 10 # get rid of most significant bit\n",
    "        msd_mask //= 100 \n",
    "        # since we're removing 2 digits at a time, \n",
    "        # we remove 2 digits from the mask to get correct least significant bit\n",
    "\n",
    "    return True\n",
    "\n",
    "is_palindrome_number(121)"
   ]
  },
  {
   "cell_type": "markdown",
   "id": "a17e5c0e",
   "metadata": {},
   "source": [
    "# Code Analysis\n",
    "\n",
    "Edge case: negative numbers or number equal to zero\n",
    "\n",
    "check if number is less or equal to zero, just in case it might be zero and then compare it to zero\n",
    "if the number is negative the function will return false\n",
    "if the number is positive the function will return true\n",
    "\n",
    "7345 // 10**3 - dividing and flooring a number by it's highest power returns most significant digit\n",
    "7345 % 10 - mod 10 returns the least significant digit\n",
    "\n",
    "knowing that we can find the most significant digit and the least significant digit, \n",
    "we can use this to our advantage and compare the MSD and the LSD \n",
    "if they are equal \n",
    "we chop down the number num_digits // 2 times, so we perform 2 O(1) operations in a O(logN) loop\n",
    "we find out how many digits are in the input number \n",
    "create the most significant digit mask, if the number is 7345, num digits is going to be 3 + 1 = 4\n",
    "and the \n",
    "most significant digit mask is going to be num_digits - 1 = 3 \n",
    "msd_mask = 10^3 = 1000\n",
    "\n",
    "\"The least significant digit is x mod 10, and the most significant digit is x/10^n-1\"\n",
    "\n",
    "\n"
   ]
  },
  {
   "cell_type": "markdown",
   "id": "3580860b",
   "metadata": {},
   "source": [
    "# Testing formulas of MSD and LSD below:"
   ]
  },
  {
   "cell_type": "code",
   "execution_count": 2,
   "id": "10b31ab1",
   "metadata": {},
   "outputs": [
    {
     "data": {
      "text/plain": [
       "7"
      ]
     },
     "execution_count": 2,
     "metadata": {},
     "output_type": "execute_result"
    }
   ],
   "source": [
    "7345 // 10**3"
   ]
  },
  {
   "cell_type": "code",
   "execution_count": 3,
   "id": "28a7a03a",
   "metadata": {},
   "outputs": [
    {
     "data": {
      "text/plain": [
       "5"
      ]
     },
     "execution_count": 3,
     "metadata": {},
     "output_type": "execute_result"
    }
   ],
   "source": [
    "7345 % 10"
   ]
  },
  {
   "cell_type": "code",
   "execution_count": 8,
   "id": "72a7456c",
   "metadata": {},
   "outputs": [
    {
     "data": {
      "text/plain": [
       "21"
      ]
     },
     "execution_count": 8,
     "metadata": {},
     "output_type": "execute_result"
    }
   ],
   "source": [
    "121 % 100"
   ]
  }
 ],
 "metadata": {
  "kernelspec": {
   "display_name": "Python 3 (ipykernel)",
   "language": "python",
   "name": "python3"
  },
  "language_info": {
   "codemirror_mode": {
    "name": "ipython",
    "version": 3
   },
   "file_extension": ".py",
   "mimetype": "text/x-python",
   "name": "python",
   "nbconvert_exporter": "python",
   "pygments_lexer": "ipython3",
   "version": "3.9.12"
  }
 },
 "nbformat": 4,
 "nbformat_minor": 5
}
