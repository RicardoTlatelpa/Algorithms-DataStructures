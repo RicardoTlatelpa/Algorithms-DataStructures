{
 "cells": [
  {
   "cell_type": "markdown",
   "id": "5035b7ae",
   "metadata": {},
   "source": [
    "# 4.4 Find a closest Integer with the same weight\n",
    "\n",
    "Define the weight of nonnegative integer x to be the number of bits that are set to 1 in its binary representation. \n",
    "\n",
    "Example:\n",
    " - Since 92 in base 2 equals(1011100) the weight of 92 is 4 \n",
    " \n",
    " Write a program which takes as input a nonnegative integer x and returns a number y which is not equal to x, but has the same weight as x and their difference, |y-x|, is as small as possible. You can assume x is not 0, or all 1s"
   ]
  },
  {
   "cell_type": "code",
   "execution_count": 6,
   "id": "313b9357",
   "metadata": {},
   "outputs": [
    {
     "name": "stdout",
     "output_type": "stream",
     "text": [
      "4 1 1\n"
     ]
    }
   ],
   "source": [
    "# Brute force solution\n",
    "def count_one_bits(x):\n",
    "    count = 0\n",
    "    while(x):\n",
    "       count += 1\n",
    "       x = x & (x-1)\n",
    "    return count\n",
    "\n",
    "def closest_int_same_bit_c(x):\n",
    "    closest = 1\n",
    "    nOfBitsThatAreOne = count_one_bits(x)\n",
    "    while(x):\n",
    "        if(x - closest > 0):\n",
    "            if(nOfBitsThatAreOne == count_one_bits(x - closest)):\n",
    "                return x - closest            \n",
    "        else:\n",
    "            if(nOfBitsThatAreOne == count_one_bits(x + closest)):\n",
    "                return x + closest            \n",
    "        closest += 1\n",
    "\n",
    "answer = closest_int_same_bit_c(8)\n",
    "print(answer,count_one_bits(8),count_one_bits(answer))"
   ]
  },
  {
   "cell_type": "code",
   "execution_count": 12,
   "id": "41b40702",
   "metadata": {},
   "outputs": [
    {
     "name": "stdout",
     "output_type": "stream",
     "text": [
      "0b101 0b10\n",
      "3\n"
     ]
    }
   ],
   "source": [
    "# The correct approach is to swap the two rightmost consecutive bits that differ\n",
    "def closest_int_same_bit_count(x):\n",
    "    NUM_UNSIGNED_BITS = 64\n",
    "    for i in range(NUM_UNSIGNED_BITS - 1):\n",
    "        if(x >> i) & 1 != (x >> (i + 1)) & 1:\n",
    "            print(bin(x >> i), bin(x >> i +1))\n",
    "            x^= (1 << i) | (i << (i + 1)) # swaps bit i and bit (i+1)\n",
    "            return x\n",
    "    raise ValueError('All bits are 0 or 1')\n",
    "    \n",
    "print(closest_int_same_bit_count(0b10111))"
   ]
  },
  {
   "cell_type": "markdown",
   "id": "6df7310a",
   "metadata": {},
   "source": [
    "# Anaylzing function\n",
    "we are comparing 2 digits starting from the least significant bit \n",
    "If they are equal then we don't care\n",
    "if they are not equal then \n",
    "    we care, since we're starting from the least significant bit, we're swapping two digits of the least amount of value, meaning we satisfy the condition of smallest difference as possible\n",
    "    We're not adding or deleting any 1 digits so the weight is the same\n",
    "    AFTER THE SWAP\n",
    "    \n",
    "    \n",
    "# Time complexity\n",
    "O(N) because we're iterating through the max amount of bits the input can be\n",
    "\n",
    "# Space complexity \n",
    "O(1) because we're holding the value of NUM_UNSIGNED_BITS and i that is iterating O(n) times and performing O(1) operations, the space does not grow it is a constant therefore O(1)\n",
    "\n"
   ]
  },
  {
   "cell_type": "markdown",
   "id": "dff7a7d8",
   "metadata": {},
   "source": [
    "# How does the swap work?"
   ]
  }
 ],
 "metadata": {
  "kernelspec": {
   "display_name": "Python 3 (ipykernel)",
   "language": "python",
   "name": "python3"
  },
  "language_info": {
   "codemirror_mode": {
    "name": "ipython",
    "version": 3
   },
   "file_extension": ".py",
   "mimetype": "text/x-python",
   "name": "python",
   "nbconvert_exporter": "python",
   "pygments_lexer": "ipython3",
   "version": "3.9.12"
  }
 },
 "nbformat": 4,
 "nbformat_minor": 5
}
