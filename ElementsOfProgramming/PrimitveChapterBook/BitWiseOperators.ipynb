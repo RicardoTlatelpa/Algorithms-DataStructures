{
 "cells": [
  {
   "cell_type": "code",
   "execution_count": 1,
   "id": "b3a17d3e",
   "metadata": {},
   "outputs": [
    {
     "data": {
      "text/plain": [
       "1234"
      ]
     },
     "execution_count": 1,
     "metadata": {},
     "output_type": "execute_result"
    }
   ],
   "source": [
    "1234"
   ]
  },
  {
   "cell_type": "code",
   "execution_count": null,
   "id": "5de38074",
   "metadata": {},
   "outputs": [],
   "source": [
    "# 4 ones and 3 tens and 2 hundreds and 1 thousand\n",
    "\n",
    "4*1 + 3 * 10 + 2 * 100 + 1*1000"
   ]
  },
  {
   "cell_type": "code",
   "execution_count": 4,
   "id": "de257eb2",
   "metadata": {},
   "outputs": [
    {
     "data": {
      "text/plain": [
       "1234"
      ]
     },
     "execution_count": 4,
     "metadata": {},
     "output_type": "execute_result"
    }
   ],
   "source": [
    "# Expressing the same number with powers of 10\n",
    "\n",
    "4*10**0 + 3*10**1 + 2*10**2 + 1*10**3"
   ]
  },
  {
   "cell_type": "code",
   "execution_count": 8,
   "id": "9118147e",
   "metadata": {},
   "outputs": [
    {
     "name": "stdout",
     "output_type": "stream",
     "text": [
      "203\n",
      "173\n"
     ]
    }
   ],
   "source": [
    "x = 0b11001011\n",
    "y = 0b10101101\n",
    "print(x)\n",
    "print(y)"
   ]
  },
  {
   "cell_type": "code",
   "execution_count": 11,
   "id": "17197fd1",
   "metadata": {},
   "outputs": [
    {
     "data": {
      "text/plain": [
       "137"
      ]
     },
     "execution_count": 11,
     "metadata": {},
     "output_type": "execute_result"
    }
   ],
   "source": [
    "# bitwise AND -- use &\n",
    "\n",
    "# comparing both integers with & you get 0b10001001 or in decimal 137 \n",
    "\n",
    "x&y\n"
   ]
  },
  {
   "cell_type": "code",
   "execution_count": 12,
   "id": "8a98d96e",
   "metadata": {},
   "outputs": [
    {
     "data": {
      "text/plain": [
       "239"
      ]
     },
     "execution_count": 12,
     "metadata": {},
     "output_type": "execute_result"
    }
   ],
   "source": [
    "# bitwise OR -- use |\n",
    "# if one of them is 1, then we get 1 \n",
    "\n",
    "# x = 0b11001011\n",
    "# y = 0\n",
    "\n",
    "x | y "
   ]
  },
  {
   "cell_type": "code",
   "execution_count": 14,
   "id": "69ee8793",
   "metadata": {},
   "outputs": [
    {
     "data": {
      "text/plain": [
       "102"
      ]
     },
     "execution_count": 14,
     "metadata": {},
     "output_type": "execute_result"
    }
   ],
   "source": [
    "# bitwiose XOR -- use ^\n",
    "# if one of them is 1, but not both, then we get 1\n",
    "\n",
    "0b01100110"
   ]
  },
  {
   "cell_type": "code",
   "execution_count": 13,
   "id": "a750e4fa",
   "metadata": {},
   "outputs": [
    {
     "data": {
      "text/plain": [
       "102"
      ]
     },
     "execution_count": 13,
     "metadata": {},
     "output_type": "execute_result"
    }
   ],
   "source": [
    "x ^ y"
   ]
  },
  {
   "cell_type": "code",
   "execution_count": null,
   "id": "6a5f1cf7",
   "metadata": {},
   "outputs": [],
   "source": [
    "first_choice = True\n",
    "second_choice = False\n",
    "third_choice = True"
   ]
  },
  {
   "cell_type": "code",
   "execution_count": 18,
   "id": "312fb126",
   "metadata": {},
   "outputs": [
    {
     "data": {
      "text/plain": [
       "1"
      ]
     },
     "execution_count": 18,
     "metadata": {},
     "output_type": "execute_result"
    }
   ],
   "source": [
    "choices = 0b101\n",
    "choices & 0b100 # mask -- only let the first_choice bit through, if it's there at all\n",
    "choices & 0b001 # is third_choice set? 1 if so, 0 if not "
   ]
  },
  {
   "cell_type": "code",
   "execution_count": 19,
   "id": "d7c062d4",
   "metadata": {},
   "outputs": [],
   "source": [
    "def foo():\n",
    "    print(\"Hello\")"
   ]
  },
  {
   "cell_type": "code",
   "execution_count": 20,
   "id": "6c6f110f",
   "metadata": {},
   "outputs": [
    {
     "data": {
      "text/plain": [
       "'0b1000011'"
      ]
     },
     "execution_count": 20,
     "metadata": {},
     "output_type": "execute_result"
    }
   ],
   "source": [
    "bin(foo.__code__.co_flags)"
   ]
  },
  {
   "cell_type": "code",
   "execution_count": 21,
   "id": "a05f888a",
   "metadata": {},
   "outputs": [
    {
     "data": {
      "text/plain": [
       "203"
      ]
     },
     "execution_count": 21,
     "metadata": {},
     "output_type": "execute_result"
    }
   ],
   "source": [
    "x"
   ]
  },
  {
   "cell_type": "code",
   "execution_count": 22,
   "id": "3e47ba3a",
   "metadata": {},
   "outputs": [
    {
     "data": {
      "text/plain": [
       "-204"
      ]
     },
     "execution_count": 22,
     "metadata": {},
     "output_type": "execute_result"
    }
   ],
   "source": [
    "# bitwise NOT is (we think) ~ (tilde)\n",
    "~x"
   ]
  },
  {
   "cell_type": "code",
   "execution_count": 25,
   "id": "fa3cc443",
   "metadata": {},
   "outputs": [
    {
     "name": "stdout",
     "output_type": "stream",
     "text": [
      "0b11001011\n",
      "0b110010110\n"
     ]
    }
   ],
   "source": [
    "x << 1 # add a zero to the end of a number\n",
    "print(bin(x))\n",
    "print(bin(406))\n",
    "\n"
   ]
  },
  {
   "cell_type": "code",
   "execution_count": 27,
   "id": "d5adc6f4",
   "metadata": {},
   "outputs": [
    {
     "name": "stdout",
     "output_type": "stream",
     "text": [
      "0b11001011\n",
      "0b110010110000\n"
     ]
    }
   ],
   "source": [
    "# Now we are shifting 4 zeros at the end of the orignal binary of x, getting an exponentially larger number of base 2\n",
    "print(bin(x))\n",
    "print(bin(x << 4))"
   ]
  },
  {
   "cell_type": "code",
   "execution_count": 28,
   "id": "5a3fc39e",
   "metadata": {},
   "outputs": [
    {
     "name": "stdout",
     "output_type": "stream",
     "text": [
      "0b11001011\n",
      "0b110010\n"
     ]
    }
   ],
   "source": [
    "print(bin(x))\n",
    "print(bin(x >> 2))"
   ]
  }
 ],
 "metadata": {
  "kernelspec": {
   "display_name": "Python 3 (ipykernel)",
   "language": "python",
   "name": "python3"
  },
  "language_info": {
   "codemirror_mode": {
    "name": "ipython",
    "version": 3
   },
   "file_extension": ".py",
   "mimetype": "text/x-python",
   "name": "python",
   "nbconvert_exporter": "python",
   "pygments_lexer": "ipython3",
   "version": "3.9.12"
  }
 },
 "nbformat": 4,
 "nbformat_minor": 5
}
