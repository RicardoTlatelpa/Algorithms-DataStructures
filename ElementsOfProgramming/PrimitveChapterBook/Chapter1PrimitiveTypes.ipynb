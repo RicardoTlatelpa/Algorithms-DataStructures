{
 "cells": [
  {
   "cell_type": "markdown",
   "id": "7fd92d95",
   "metadata": {},
   "source": [
    "# Chapter 1 Primitive Types\n",
    "\n",
    "What the hell is a type?\n",
    "- Variables come in types\n",
    "- classification of data(possible values and operations)\n",
    "NOTE: In Python everything is an object(Booleans, integers, characters, etc)\n",
    "ANOTHER NOTE: Masking is a way to target a specific bit in a binary number a quick example:\n",
    "10001\n",
    "if I want the first bit I can do\n",
    "10000 & 10001 and python will return 16 because  "
   ]
  },
  {
   "cell_type": "code",
   "execution_count": 13,
   "id": "fcac0422",
   "metadata": {},
   "outputs": [
    {
     "name": "stdout",
     "output_type": "stream",
     "text": [
      "16\n",
      "16\n"
     ]
    }
   ],
   "source": [
    "print(1 * 2**4)\n",
    "print(0b10000 & 0b10001)"
   ]
  },
  {
   "cell_type": "code",
   "execution_count": 16,
   "id": "01101089",
   "metadata": {},
   "outputs": [
    {
     "name": "stdout",
     "output_type": "stream",
     "text": [
      "12\n",
      "6\n",
      "3\n",
      "1\n",
      "*************\n",
      "0\n",
      "0b1100\n",
      "0\n",
      "0b110\n",
      "1\n",
      "0b11\n",
      "1\n",
      "0b1\n"
     ]
    }
   ],
   "source": [
    "def count_bits(x):\n",
    "    num_bits = 0\n",
    "    while x: \n",
    "        num_bits += x & 1\n",
    "        x >>= 1 \n",
    "    return num_bits\n",
    "\n",
    "'''\n",
    "So if we take a glance we can see that there is a while loop of 'x is true'\n",
    "\n",
    "x is slowly being shifting away with every iteration with the command `x >>= 1`\n",
    "\n",
    "Let's take a look at how that looks like\n",
    "\n",
    "'''\n",
    "\n",
    "def chopping_down(x):\n",
    "    while x:\n",
    "        print(x)\n",
    "        x >>= 1\n",
    "    return\n",
    "\n",
    "# So the number is losing one bit on each iteration, what's with the comparison?\n",
    "\n",
    "chopping_down(12)\n",
    "print('*************')\n",
    "print(12 & 1)\n",
    "'''\n",
    "1100\n",
    "   1\n",
    "The comparison is being made in this manner\n",
    "We can only compare the least significant digit, 0 & 1 = 0 and so on\n",
    "'''\n",
    "print(bin(12))\n",
    "print(6 & 1)\n",
    "'''\n",
    "110\n",
    "  1\n",
    "The comparison is being made in this manner\n",
    "0 & 1 = 0\n",
    "'''\n",
    "print(bin(6))\n",
    "print(3 & 1)\n",
    "'''\n",
    "11\n",
    " 1\n",
    "The comparison is being made in this manner\n",
    "1 & 1 = 1\n",
    "'''\n",
    "print(bin(3))\n",
    "print(1 & 1)\n",
    "'''\n",
    "1\n",
    "1\n",
    "The comparison is being made in this manner\n",
    "1 & 1 = 1\n",
    "'''\n",
    "print(bin(1))\n"
   ]
  },
  {
   "cell_type": "markdown",
   "id": "fe4499f7",
   "metadata": {},
   "source": [
    "# Big O Analysis\n",
    "- Each computation per bit is O(1), constants don't make a big change in the overrall algorithm\n",
    "- The while loop represents the number of bits representing the input integer x \n",
    "- All in all this function is O(n) because of the while loop"
   ]
  },
  {
   "cell_type": "code",
   "execution_count": 24,
   "id": "5f3d793a",
   "metadata": {},
   "outputs": [
    {
     "data": {
      "text/plain": [
       "10"
      ]
     },
     "execution_count": 24,
     "metadata": {},
     "output_type": "execute_result"
    }
   ],
   "source": [
    "import math\n",
    "import random\n",
    "# Tips for future coding problems with python language\n",
    "abs(-34.5)\n",
    "math.ceil(2.17)\n",
    "math.floor(3.14)\n",
    "min(2,-4)\n",
    "max(3.14,4)\n",
    "pow(2.71, 3.14) # alternatively 2.71 ** 3.14\n",
    "math.sqrt(225)\n",
    "\n",
    "# For setting max bounds or min bounds we can use infinity as such\n",
    "\n",
    "float('inf')\n",
    "float('-inf')\n",
    "\n",
    "# When comparing very large values, and can handle both absolute and relative differences\n",
    "# math.isclose()\n",
    "\n",
    "# Key methods in random \n",
    "\n",
    "random.randrange(28)\n",
    "random.randint(8,16)\n",
    "#random.random()\n",
    "#random.shuffle()\n",
    "#random.choice()"
   ]
  },
  {
   "cell_type": "code",
   "execution_count": null,
   "id": "7b333751",
   "metadata": {},
   "outputs": [],
   "source": [
    "# Computing the partity of a word\n",
    "'''\n",
    "If the number of 1s in the word is odd = 1\n",
    "if the number of 1s in the word is even = 0\n",
    "1011 = 1\n",
    "10001000 = 0\n",
    "'''"
   ]
  }
 ],
 "metadata": {
  "kernelspec": {
   "display_name": "Python 3 (ipykernel)",
   "language": "python",
   "name": "python3"
  },
  "language_info": {
   "codemirror_mode": {
    "name": "ipython",
    "version": 3
   },
   "file_extension": ".py",
   "mimetype": "text/x-python",
   "name": "python",
   "nbconvert_exporter": "python",
   "pygments_lexer": "ipython3",
   "version": "3.9.12"
  }
 },
 "nbformat": 4,
 "nbformat_minor": 5
}
