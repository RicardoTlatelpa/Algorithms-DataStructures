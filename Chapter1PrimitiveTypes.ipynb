{
 "cells": [
  {
   "cell_type": "markdown",
   "id": "29c739c7",
   "metadata": {},
   "source": [
    "# Chapter 1 Primitive Types\n",
    "\n",
    "What the hell is a type?\n",
    "- Variables come in types\n",
    "- classification of data(possible values and operations)\n",
    "NOTE: In Python everything is an object(Booleans, integers, characters, etc)\n",
    "\n",
    "\n"
   ]
  },
  {
   "cell_type": "code",
   "execution_count": 3,
   "id": "01101089",
   "metadata": {},
   "outputs": [
    {
     "name": "stdout",
     "output_type": "stream",
     "text": [
      "0b1111101001\n",
      "0b111110100\n",
      "0b11111010\n",
      "0b1111101\n",
      "0b111110\n",
      "0b11111\n",
      "0b1111\n",
      "0b111\n",
      "0b11\n",
      "0b1\n"
     ]
    }
   ],
   "source": [
    "def count_bits(x):\n",
    "    num_bits = 0\n",
    "    while x: \n",
    "        num_bits += x & 1\n",
    "        x >>= 1 \n",
    "    return num_bits\n",
    "\n",
    "'''\n",
    "So if we take a glance we can see that there is a while loop of 'x is true'\n",
    "\n",
    "x is slowly being shifting away with every iteration with the command `x >>= 1`\n",
    "\n",
    "Let's take a look at how that looks like\n",
    "\n",
    "'''\n",
    "\n",
    "def chopping_down(x):\n",
    "    while x:\n",
    "        print(bin(x))\n",
    "        x >>= 1\n",
    "    return\n",
    "\n",
    "chopping_down(1001)"
   ]
  },
  {
   "cell_type": "code",
   "execution_count": null,
   "id": "12eaf5a9",
   "metadata": {},
   "outputs": [],
   "source": []
  }
 ],
 "metadata": {
  "kernelspec": {
   "display_name": "Python 3 (ipykernel)",
   "language": "python",
   "name": "python3"
  },
  "language_info": {
   "codemirror_mode": {
    "name": "ipython",
    "version": 3
   },
   "file_extension": ".py",
   "mimetype": "text/x-python",
   "name": "python",
   "nbconvert_exporter": "python",
   "pygments_lexer": "ipython3",
   "version": "3.9.12"
  }
 },
 "nbformat": 4,
 "nbformat_minor": 5
}
