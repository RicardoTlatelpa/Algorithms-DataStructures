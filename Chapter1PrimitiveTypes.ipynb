{
 "cells": [
  {
   "cell_type": "markdown",
   "id": "29c739c7",
   "metadata": {},
   "source": [
    "# Chapter 1 Primitive Types\n",
    "\n",
    "What the hell is a type?\n",
    "- Variables come in types\n",
    "- classification of data(possible values and operations)\n",
    "NOTE: In Python everything is an object(Booleans, integers, characters, etc)\n",
    "\n",
    "\n"
   ]
  },
  {
   "cell_type": "code",
   "execution_count": null,
   "id": "01101089",
   "metadata": {},
   "outputs": [],
   "source": [
    "def count_bits(x)"
   ]
  }
 ],
 "metadata": {
  "kernelspec": {
   "display_name": "Python 3 (ipykernel)",
   "language": "python",
   "name": "python3"
  },
  "language_info": {
   "codemirror_mode": {
    "name": "ipython",
    "version": 3
   },
   "file_extension": ".py",
   "mimetype": "text/x-python",
   "name": "python",
   "nbconvert_exporter": "python",
   "pygments_lexer": "ipython3",
   "version": "3.9.12"
  }
 },
 "nbformat": 4,
 "nbformat_minor": 5
}
