{
 "cells": [
  {
   "cell_type": "markdown",
   "id": "2f7c0c85",
   "metadata": {},
   "source": [
    "Certain applications require arbitrary precision arithmetic. One way to achieve this is to use arrays to represent integers, e.g., with one digit per array entry, with the most significant digit appearing first, and a negative leading digit denoting a negative integer. For example [1,9,3,7,0,7,7,2,1] represent 193707721 and [-7,6,1,8,3,8,2,5,7,2,8,7] represents -761838257287\n",
    "\n",
    "Write a program that takes two arrays representing integers, and returns an integer representing their product. For example, since 193707721 x -761838257287 = -1475739525896776412927\n",
    "\n",
    "A brute force solution may be to convert these large numbers to strings and then parse them as numbers and multiply them but that defeats the whole purpose of arbitrary precision integers because we may deal with overflow or underflow because we have both negative and positve numbers.\n",
    "\n",
    "SO let's give the computer instructions on how to multiply \n",
    "\n",
    "let's start with a much smaller example\n",
    "(1,2,7) and (6,9)\n",
    "\n",
    "(1,2,7)\n",
    "  (6,9)\n",
    "First we notice that they don't have the same amount of digits so we can't iterate through them with one loop\n",
    "We would have to reverse the loop and start with the array with the smallest length\n",
    "\n",
    "then iterate through the entire longer array multiplying our way through like so\n",
    "\n",
    "9 * 7 = 63\n",
    "9 * 2 = 18\n",
    "9 * 1 = 9\n",
    "6 * 7 = 42 \n",
    "6 * 2 = 12 \n",
    "6 * 1 = 6\n",
    "\n",
    "unfortunately math isn't so easy and we can't add up all these numbers together and get thea answer plus we have to deal with the arrays\n",
    "\n",
    "the highest number we achieve is 9 * 9  which is 81, so that means we can extract the least signifcant digit and most significant digit with 10\n",
    "\n",
    "81 // 10 = 1 = sum A[i].append(81//10)\n",
    "81 % 10 = 8 = sum for next digit or A[i - 1].append(81%10)\n",
    "we can create a storage of arrays correspoding to their indices\n",
    "\n",
    "and later iterate through this array and sum them, any carries move on to the index index, and so forth until we reach\n",
    "the 0th index, and we can write a recursive function that checks if needs to insert any carries onto the front\n",
    "\n",
    "9 * 7 = 63, index 2 \n",
    "9 * 2 = 18, index 1\n",
    "9 * 1 = 9, index 0 \n",
    "6 * 7 = 42 , index 2\n",
    "6 * 2 = 12 , index 1 \n",
    "6 * 1 = 6 , index 0\n",
    "\n",
    "\n"
   ]
  },
  {
   "cell_type": "code",
   "execution_count": 3,
   "id": "2e7c3e3c",
   "metadata": {},
   "outputs": [
    {
     "ename": "TypeError",
     "evalue": "'builtin_function_or_method' object is not subscriptable",
     "output_type": "error",
     "traceback": [
      "\u001b[0;31m---------------------------------------------------------------------------\u001b[0m",
      "\u001b[0;31mTypeError\u001b[0m                                 Traceback (most recent call last)",
      "Input \u001b[0;32mIn [3]\u001b[0m, in \u001b[0;36m<cell line: 18>\u001b[0;34m()\u001b[0m\n\u001b[1;32m     13\u001b[0m     result \u001b[38;5;241m=\u001b[39m result[\u001b[38;5;28mnext\u001b[39m((i \u001b[38;5;28;01mfor\u001b[39;00m i, x \u001b[38;5;129;01min\u001b[39;00m \u001b[38;5;28menumerate\u001b[39m(result) \n\u001b[1;32m     14\u001b[0m                           \u001b[38;5;28;01mif\u001b[39;00m x\u001b[38;5;241m!=\u001b[39m\u001b[38;5;241m0\u001b[39m), \u001b[38;5;28mlen\u001b[39m(result)):] \u001b[38;5;129;01mor\u001b[39;00m [\u001b[38;5;241m0\u001b[39m]\n\u001b[1;32m     16\u001b[0m     \u001b[38;5;28;01mreturn\u001b[39;00m [sign \u001b[38;5;241m*\u001b[39m result[\u001b[38;5;241m0\u001b[39m]] \u001b[38;5;241m+\u001b[39m result[\u001b[38;5;241m1\u001b[39m:]\n\u001b[0;32m---> 18\u001b[0m \u001b[43mmultiply\u001b[49m\u001b[43m(\u001b[49m\u001b[43m[\u001b[49m\u001b[38;5;241;43m1\u001b[39;49m\u001b[43m,\u001b[49m\u001b[38;5;241;43m2\u001b[39;49m\u001b[43m,\u001b[49m\u001b[38;5;241;43m3\u001b[39;49m\u001b[43m]\u001b[49m\u001b[43m,\u001b[49m\u001b[43m[\u001b[49m\u001b[38;5;241;43m9\u001b[39;49m\u001b[43m,\u001b[49m\u001b[38;5;241;43m8\u001b[39;49m\u001b[43m,\u001b[49m\u001b[38;5;241;43m7\u001b[39;49m\u001b[43m]\u001b[49m\u001b[43m)\u001b[49m\n",
      "Input \u001b[0;32mIn [3]\u001b[0m, in \u001b[0;36mmultiply\u001b[0;34m(num1, num2)\u001b[0m\n\u001b[1;32m      1\u001b[0m \u001b[38;5;28;01mdef\u001b[39;00m \u001b[38;5;21mmultiply\u001b[39m(num1, num2):\n\u001b[1;32m      2\u001b[0m     sign \u001b[38;5;241m=\u001b[39m \u001b[38;5;241m-\u001b[39m\u001b[38;5;241m1\u001b[39m \u001b[38;5;28;01mif\u001b[39;00m (num1[\u001b[38;5;241m0\u001b[39m] \u001b[38;5;241m<\u001b[39m \u001b[38;5;241m0\u001b[39m) \u001b[38;5;241m^\u001b[39m (num2[\u001b[38;5;241m0\u001b[39m] \u001b[38;5;241m<\u001b[39m \u001b[38;5;241m0\u001b[39m) \u001b[38;5;28;01melse\u001b[39;00m \u001b[38;5;241m1\u001b[39m \u001b[38;5;66;03m# xor operation, checks if either is negative to apply to result\u001b[39;00m\n\u001b[0;32m----> 3\u001b[0m     num1[\u001b[38;5;241m0\u001b[39m], num2[\u001b[38;5;241m0\u001b[39m] \u001b[38;5;241m=\u001b[39m \u001b[38;5;28mabs\u001b[39m(num1[\u001b[38;5;241m0\u001b[39m]), \u001b[38;5;28;43mabs\u001b[39;49m\u001b[43m[\u001b[49m\u001b[43mnum2\u001b[49m\u001b[43m[\u001b[49m\u001b[38;5;241;43m0\u001b[39;49m\u001b[43m]\u001b[49m\u001b[43m]\u001b[49m\n\u001b[1;32m      5\u001b[0m     result \u001b[38;5;241m=\u001b[39m [\u001b[38;5;241m0\u001b[39m] \u001b[38;5;241m*\u001b[39m (\u001b[38;5;28mlen\u001b[39m(num1) \u001b[38;5;241m+\u001b[39m \u001b[38;5;28mlen\u001b[39m(num2)) \u001b[38;5;66;03m# preallocated array result, depending on how many digits each array has\u001b[39;00m\n\u001b[1;32m      6\u001b[0m     \u001b[38;5;28;01mfor\u001b[39;00m i \u001b[38;5;129;01min\u001b[39;00m \u001b[38;5;28mreversed\u001b[39m(\u001b[38;5;28mrange\u001b[39m(\u001b[38;5;28mlen\u001b[39m(num1))):\n",
      "\u001b[0;31mTypeError\u001b[0m: 'builtin_function_or_method' object is not subscriptable"
     ]
    }
   ],
   "source": [
    "def multiply(num1, num2):\n",
    "    sign = -1 if (num1[0] < 0) ^ (num2[0] < 0) else 1 # xor operation, checks if either is negative to apply to result\n",
    "    num1[0], num2[0] = abs(num1[0]), abs[num2[0]]\n",
    "    \n",
    "    result = [0] * (len(num1) + len(num2)) # preallocated array result, depending on how many digits each array has\n",
    "    for i in reversed(range(len(num1))):\n",
    "        for j in reversed(range(len(num2))):\n",
    "            result[i + j + 1] += num1[i] * num2[j]\n",
    "            result[i + j] += result[i + j + 1] // 10\n",
    "            result[i + j + 1] %= 10\n",
    "\n",
    "    #remove the leading zeroes.\n",
    "    result = result[next((i for i, x in enumerate(result) \n",
    "                          if x!=0), len(result)):] or [0]\n",
    "\n",
    "    return [sign * result[0]] + result[1:]\n",
    "\n",
    "multiply([1,2,3],[9,8,7])\n",
    "    "
   ]
  },
  {
   "cell_type": "code",
   "execution_count": null,
   "id": "efd3fcf2",
   "metadata": {},
   "outputs": [],
   "source": []
  }
 ],
 "metadata": {
  "kernelspec": {
   "display_name": "Python 3 (ipykernel)",
   "language": "python",
   "name": "python3"
  },
  "language_info": {
   "codemirror_mode": {
    "name": "ipython",
    "version": 3
   },
   "file_extension": ".py",
   "mimetype": "text/x-python",
   "name": "python",
   "nbconvert_exporter": "python",
   "pygments_lexer": "ipython3",
   "version": "3.9.12"
  }
 },
 "nbformat": 4,
 "nbformat_minor": 5
}
