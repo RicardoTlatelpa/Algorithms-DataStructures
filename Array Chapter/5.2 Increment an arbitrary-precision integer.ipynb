{
 "cells": [
  {
   "cell_type": "markdown",
   "id": "04154a75",
   "metadata": {},
   "source": [
    "Write a program which takes as input an array of digits encoding a nonnegative decimal integer D and updates the array to represent the integer D + 1. For example, if the input is (1,2,9) then you should update the array to (1,3,0). Your algorithm should work even if it is implemented in a language that has finite-precision arithmetic. \n",
    "\n",
    "We can do a brute force solution of \n",
    "\n",
    "iterating through the array and concataning each integer into a string\n",
    "string = \"129\"\n",
    "\n",
    "then turn the string into a number and adding 1 and turning the number into a string again so we can have access to \n",
    "indices\n",
    "temp_num Number(string) = 129 + 1\n",
    "string = temp_num.toString\n",
    "\n",
    "we iterate through the string and update the original array's index with the correct digits\n",
    "for i in range(len(string)):\n",
    "        original_array[i] = Num(string[i])\n",
    "\n",
    "and the original array will be (1,3,0)\n",
    "\n",
    "There are two (N) loops in this algoritms for a time complexity of O(N) and a space complexity of O(1)\n",
    "\n",
    "Solution #2 we can have 2 variables sum and carry\n",
    "\n",
    "sum = 1 \n",
    "carry = 0\n",
    "We can iterate through the array in reverse order and perform the addition while keeping track of the sum and carry\n",
    "def plus_one(array):\n",
    "    while true:\n",
    "        if sum == 0 and carry = 0: # addition has happened and there are no more updates\n",
    "            break\n",
    "        if sum: # meaning if sum > 0 because 0 is read as false\n",
    "            array[current_digit] += sum\n",
    "            sum -= 1\n",
    "        if carry: \n",
    "            array[current_digit] += carry\n",
    "            carry -= 1\n",
    "        if array[current_digit] > 9 # since this is the only case where there is a carry\n",
    "            carry += 1\n",
    "    if carry:\n",
    "        array.insert(0, 1)\n",
    "    return array\n",
    "\n",
    "The time complexity depends on the carry so O(C) where C is carry, worse case, every digit has a carry so that is O(N), average case will be O(C)\n",
    "\n",
    "The space complexity is O(1) where sum and carry are O(1) memory and the current_digit being a temporary variable O(1)"
   ]
  },
  {
   "cell_type": "code",
   "execution_count": 7,
   "id": "afecb1f7",
   "metadata": {},
   "outputs": [
    {
     "name": "stdout",
     "output_type": "stream",
     "text": [
      "[9, 9, 9]\n"
     ]
    }
   ],
   "source": [
    "def plus_one(array):\n",
    "    sum = 1\n",
    "    carry = 0\n",
    "    current_digit = len(array) - 1\n",
    "    while current_digit >= 0: # respect bounds of array\n",
    "        if sum == 0 and carry == 0: # there is no point in iterating anymore because sum and carry don't exist\n",
    "            break\n",
    "        if sum:\n",
    "            array[current_digit] += sum\n",
    "            sum -= 1\n",
    "        if carry:\n",
    "            array[current_digit] += carry\n",
    "            carry -= 1\n",
    "        if array[current_digit] > 9:\n",
    "            carry += 1\n",
    "            array[current_digit] = 0\n",
    "        current_digit -= 1\n",
    "    if carry:\n",
    "        array.insert(0,1)\n",
    "    return array\n",
    "\n",
    "print(plus_one([9,9,8]))"
   ]
  },
  {
   "cell_type": "code",
   "execution_count": 6,
   "id": "90511cb4",
   "metadata": {},
   "outputs": [
    {
     "name": "stdout",
     "output_type": "stream",
     "text": [
      "4\n",
      "2\n"
     ]
    }
   ],
   "source": [
    "# Textbook Solution\n",
    "\n",
    "def plus_one(A):\n",
    "    A[-1] += 1\n",
    "    for i in reversed(range(1, len(A))):\n",
    "        if A[i] != 10: \n",
    "            break\n",
    "        A[i] = 0\n",
    "        A[i - 1]\n",
    "        \n",
    "plus_one([1,2,3])"
   ]
  },
  {
   "cell_type": "code",
   "execution_count": null,
   "id": "b5a31eed",
   "metadata": {},
   "outputs": [],
   "source": []
  }
 ],
 "metadata": {
  "kernelspec": {
   "display_name": "Python 3 (ipykernel)",
   "language": "python",
   "name": "python3"
  },
  "language_info": {
   "codemirror_mode": {
    "name": "ipython",
    "version": 3
   },
   "file_extension": ".py",
   "mimetype": "text/x-python",
   "name": "python",
   "nbconvert_exporter": "python",
   "pygments_lexer": "ipython3",
   "version": "3.9.12"
  }
 },
 "nbformat": 4,
 "nbformat_minor": 5
}
