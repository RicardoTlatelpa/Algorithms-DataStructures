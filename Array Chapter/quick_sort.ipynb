{
 "cells": [
  {
   "cell_type": "code",
   "execution_count": null,
   "id": "4736c43a",
   "metadata": {},
   "outputs": [],
   "source": [
    "def partition(array, lower, higher): \n",
    "    p = higher #we are choosing the last element as the pivot \n",
    "    i = lower # looking for n > p\n",
    "    j = higher - 1 # looking for n < p\n",
    "    print(array)\n",
    "    while i < j: #if they have not crossed each other \n",
    "        while i < higher and array[i] < array[p]:\n",
    "            i += 1\n",
    "    \n",
    "        while j > lower and array[j] >= array[p]:\n",
    "            j -= 1\n",
    "            \n",
    "        if i < j:\n",
    "            array[i], array[j] = array[j], array[i]\n",
    "\n",
    "    if array[i] > array[pivot]\n",
    "        array[i],array[p] = array[p], array[i] # once loop is satisfied, we swap with pointer i \n",
    "\n",
    "    return i\n",
    "\n",
    "def quickSort(array):\n",
    "    if len(array) <= 1:\n",
    "        return\n",
    "    partition = partition(array, 0, len(array) - 1)\n",
    "\n",
    "    quickSort(array, 0, partition - 1)\n",
    "    quickSort(array, partition + 1, len(array) - 1)\n",
    "    \n",
    "    return array\n",
    "\n",
    "quickSort([3,2,1])"
   ]
  },
  {
   "cell_type": "code",
   "execution_count": null,
   "id": "17fc1a31",
   "metadata": {},
   "outputs": [],
   "source": []
  }
 ],
 "metadata": {
  "kernelspec": {
   "display_name": "Python 3 (ipykernel)",
   "language": "python",
   "name": "python3"
  },
  "language_info": {
   "codemirror_mode": {
    "name": "ipython",
    "version": 3
   },
   "file_extension": ".py",
   "mimetype": "text/x-python",
   "name": "python",
   "nbconvert_exporter": "python",
   "pygments_lexer": "ipython3",
   "version": "3.9.12"
  }
 },
 "nbformat": 4,
 "nbformat_minor": 5
}
