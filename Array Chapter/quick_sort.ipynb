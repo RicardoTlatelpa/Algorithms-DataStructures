{
 "cells": [
  {
   "cell_type": "code",
   "execution_count": null,
   "id": "4736c43a",
   "metadata": {},
   "outputs": [],
   "source": [
    "def partition(array, lower, higher): \n",
    "    p = higher #we are choosing the last element as the pivot \n",
    "    i = lower # looking for n > p\n",
    "    j = higher - 1 # looking for n < p\n",
    "    while(j > i): #if they have not crossed each other \n",
    "        \n",
    "        \n",
    "    "
   ]
  }
 ],
 "metadata": {
  "kernelspec": {
   "display_name": "Python 3 (ipykernel)",
   "language": "python",
   "name": "python3"
  },
  "language_info": {
   "codemirror_mode": {
    "name": "ipython",
    "version": 3
   },
   "file_extension": ".py",
   "mimetype": "text/x-python",
   "name": "python",
   "nbconvert_exporter": "python",
   "pygments_lexer": "ipython3",
   "version": "3.9.12"
  }
 },
 "nbformat": 4,
 "nbformat_minor": 5
}
