{
 "cells": [
  {
   "cell_type": "markdown",
   "id": "cbf48d19",
   "metadata": {},
   "source": [
    "# 5.9 Enumerate all primes to N\n",
    "\n",
    "A natural number is called a prime if it is bigger than 1 and has no divisors other than one and itself\n",
    "\n",
    "Write a program that takes an argument and returns all the primes between 1 and that integer. For example, if the input is 18, you should return <2,3,5,7,11,13,17>"
   ]
  },
  {
   "cell_type": "code",
   "execution_count": 24,
   "id": "a8f28c9c",
   "metadata": {},
   "outputs": [
    {
     "name": "stdout",
     "output_type": "stream",
     "text": [
      "[2, 3, 5, 7, 11, 13, 17]\n"
     ]
    }
   ],
   "source": [
    "# First thing I want to do is define a prime number\n",
    "\n",
    "def is_prime(n):\n",
    "    if(n > 1):\n",
    "        for i in range(2,int(n/2)+1):\n",
    "            if (n % i == 0):\n",
    "                return False\n",
    "        return True\n",
    "    else:\n",
    "        return False\n",
    "\n",
    "def enumerate_primes(n):\n",
    "    array = [2]\n",
    "    for i in range(3,n):\n",
    "        if is_prime(i):\n",
    "            array.append(i)\n",
    "    return array\n",
    "print(enumerate_primes(18))"
   ]
  },
  {
   "cell_type": "code",
   "execution_count": 27,
   "id": "1f14b4b1",
   "metadata": {},
   "outputs": [
    {
     "name": "stdout",
     "output_type": "stream",
     "text": [
      "[False, False, True, True, True, True, True, True, True, True, True]\n",
      "[2, 3, 5, 7]\n"
     ]
    }
   ],
   "source": [
    "def generate_primes(n):\n",
    "    primes = []\n",
    "    is_prime = [False, False] + [True] * (n - 1)\n",
    "    print(is_prime)\n",
    "    for p in range(2, n + 1):\n",
    "        if is_prime[p]:\n",
    "            primes.append(p)\n",
    "        for i in range(p, n + 1, p):\n",
    "            is_prime[i] = False\n",
    "    return primes\n",
    "\n",
    "print(generate_primes(10))"
   ]
  },
  {
   "cell_type": "code",
   "execution_count": 34,
   "id": "7a93130e",
   "metadata": {},
   "outputs": [
    {
     "name": "stdout",
     "output_type": "stream",
     "text": [
      "3\n",
      "6\n"
     ]
    },
    {
     "data": {
      "text/plain": [
       "[2, 3, 5, 7, 11, 13, 17, 19]"
      ]
     },
     "execution_count": 34,
     "metadata": {},
     "output_type": "execute_result"
    }
   ],
   "source": [
    "def generate_primes(n):\n",
    "    if n < 2:\n",
    "        return []\n",
    "    size = (n-3) // 2 + 1\n",
    "    primes = [2]\n",
    "    is_prime = [True] * size\n",
    "    #print(is_prime)\n",
    "    for i in range(size):\n",
    "        if is_prime[i]:\n",
    "            p = i * 2 + 3 # odd number increment\n",
    "            primes.append(p)\n",
    "        for j in range(2 * i**2 + 6 * i + 3, size, p): # Note: understand this line more thoroughly\n",
    "            print(j)\n",
    "            is_prime[j] = False\n",
    "    return primes\n",
    "\n",
    "generate_primes(20)\n",
    "# [2]\n",
    "# 3 5 7 11 13 15 17 19"
   ]
  },
  {
   "cell_type": "code",
   "execution_count": null,
   "id": "c06faf38",
   "metadata": {},
   "outputs": [],
   "source": []
  }
 ],
 "metadata": {
  "kernelspec": {
   "display_name": "Python 3 (ipykernel)",
   "language": "python",
   "name": "python3"
  },
  "language_info": {
   "codemirror_mode": {
    "name": "ipython",
    "version": 3
   },
   "file_extension": ".py",
   "mimetype": "text/x-python",
   "name": "python",
   "nbconvert_exporter": "python",
   "pygments_lexer": "ipython3",
   "version": "3.9.12"
  }
 },
 "nbformat": 4,
 "nbformat_minor": 5
}
