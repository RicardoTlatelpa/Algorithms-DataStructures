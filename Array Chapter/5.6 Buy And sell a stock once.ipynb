{
 "cells": [
  {
   "cell_type": "markdown",
   "id": "a5f2f7b2",
   "metadata": {},
   "source": [
    "# 5.6 Buy and Sell a Stock once\n",
    "\n",
    "This problem is concerned with the problem of optimally buying and selling a stock once, as described on Page 2. As an example, consider the following sequence of stock prices: \n",
    "(310, 315, 275, 295, 260, 270, 290, 230, 255, 250)\n",
    "The maximum profit that can be made with one buy and one sell is 30, buy at 260 and sell at 290. Note that 260 is not the lowest price, nor 290 the highest price.\n",
    "\n",
    "Write a program that takes an array denoting the daily stock price, and returns the maximum profit that could be made by buying and then selling one share of that stock. There is no need to buy if no profit is possible\n",
    "\n",
    "Hint: identifying the minimum and maximum is not enough since the minimum may appear after the maximum height. Focus on valid differences."
   ]
  },
  {
   "cell_type": "code",
   "execution_count": 7,
   "id": "74090530",
   "metadata": {},
   "outputs": [
    {
     "data": {
      "text/plain": [
       "30"
      ]
     },
     "execution_count": 7,
     "metadata": {},
     "output_type": "execute_result"
    }
   ],
   "source": [
    "# Brutce force solution\n",
    "\n",
    "def buy_and_sell(A):\n",
    "    max_profit = -1\n",
    "    for i in range(len(A) - 1):\n",
    "        for j in range(i + 1, len(A) - 1):\n",
    "            profit = A[j] - A[i]\n",
    "            if profit > max_profit:\n",
    "                max_profit = profit\n",
    "    return max_profit\n",
    "buy_and_sell([310, 315, 275, 295, 260, 270, 290, 230, 255, 250])\n",
    "\n",
    "# Time complexity is O(n^2) and space complexity is O(1)"
   ]
  },
  {
   "cell_type": "code",
   "execution_count": 11,
   "id": "59c70c2d",
   "metadata": {},
   "outputs": [
    {
     "name": "stdout",
     "output_type": "stream",
     "text": [
      "310 310 -inf\n",
      "315 310 5\n",
      "275 275 -35\n",
      "295 275 20\n",
      "260 260 -15\n",
      "270 260 10\n",
      "290 260 30\n",
      "230 230 -30\n",
      "255 230 25\n",
      "250 230 20\n"
     ]
    },
    {
     "data": {
      "text/plain": [
       "30"
      ]
     },
     "execution_count": 11,
     "metadata": {},
     "output_type": "execute_result"
    }
   ],
   "source": [
    "def buy_and_sell_stock_once(prices):\n",
    "    min_price_so_far, max_profit = float('inf'), 0.0\n",
    "    for price in prices:\n",
    "        max_profit_sell_today = price - min_price_so_far\n",
    "        max_profit = max(max_profit, max_profit_sell_today)\n",
    "        min_price_so_far = min(min_price_so_far, price)\n",
    "        print(price, min_price_so_far, max_profit_sell_today)\n",
    "    return max_profit\n",
    "\n",
    "buy_and_sell_stock_once([310, 315, 275, 295, 260, 270, 290, 230, 255, 250])\n",
    "    "
   ]
  },
  {
   "cell_type": "markdown",
   "id": "94fd187b",
   "metadata": {},
   "source": [
    "As we iterate through the array, we care about the min price. What is the minimum price we found so far?\n",
    "At the current price the stock is at, if we sell could we get the biggest profit? Not sure until iterated through entire array, but max_profit can be tracked\n",
    "\n",
    "initailized at zero, max_profit is recorded, the first profit > 0 will be what the future profits are compared to, the biggest number as seen from the print statement is 30, so 30 will not change and will be returned from the function"
   ]
  }
 ],
 "metadata": {
  "kernelspec": {
   "display_name": "Python 3 (ipykernel)",
   "language": "python",
   "name": "python3"
  },
  "language_info": {
   "codemirror_mode": {
    "name": "ipython",
    "version": 3
   },
   "file_extension": ".py",
   "mimetype": "text/x-python",
   "name": "python",
   "nbconvert_exporter": "python",
   "pygments_lexer": "ipython3",
   "version": "3.9.12"
  }
 },
 "nbformat": 4,
 "nbformat_minor": 5
}
