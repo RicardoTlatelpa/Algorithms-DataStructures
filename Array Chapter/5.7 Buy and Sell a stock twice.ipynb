{
 "cells": [
  {
   "cell_type": "markdown",
   "id": "b3e4d031",
   "metadata": {},
   "source": [
    "# Buy and sell a stock twice\n",
    "\n",
    "The max difference problem, introduced on Page 1, formalizes the maximum profit that can be made by buying and then selling a single share over a given day range.\n",
    "\n",
    "Write a program that computes the maximum profit that can be made by buying and selling a share at most twice. The second buy must be made on another date after the first sale.\n",
    "\n",
    "Hint: What do you need to know about the first i elements when processing the (i + 1)th element?"
   ]
  },
  {
   "cell_type": "code",
   "execution_count": 1,
   "id": "83a8b238",
   "metadata": {},
   "outputs": [
    {
     "data": {
      "text/plain": [
       "-inf"
      ]
     },
     "execution_count": 1,
     "metadata": {},
     "output_type": "execute_result"
    }
   ],
   "source": [
    "315 - float('inf')"
   ]
  },
  {
   "cell_type": "code",
   "execution_count": null,
   "id": "ffe923b2",
   "metadata": {},
   "outputs": [],
   "source": []
  }
 ],
 "metadata": {
  "kernelspec": {
   "display_name": "Python 3 (ipykernel)",
   "language": "python",
   "name": "python3"
  },
  "language_info": {
   "codemirror_mode": {
    "name": "ipython",
    "version": 3
   },
   "file_extension": ".py",
   "mimetype": "text/x-python",
   "name": "python",
   "nbconvert_exporter": "python",
   "pygments_lexer": "ipython3",
   "version": "3.9.12"
  }
 },
 "nbformat": 4,
 "nbformat_minor": 5
}
