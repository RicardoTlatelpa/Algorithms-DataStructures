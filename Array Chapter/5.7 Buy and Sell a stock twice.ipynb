{
 "cells": [
  {
   "cell_type": "markdown",
   "id": "5372ad4d",
   "metadata": {},
   "source": [
    "# Buy and sell a stock twice\n",
    "\n",
    "The max difference problem, introduced on Page 1, formalizes the maximum profit that can be made by buying and then selling a single share over a given day range.\n",
    "\n",
    "Write a program that computes the maximum profit that can be made by buying and selling a share at most twice. The second buy must be made on another date after the first sale.\n",
    "\n",
    "Hint: What do you need to know about the first i elements when processing the (i + 1)th element?\n",
    "\n",
    "The ineffiency in the above approaches comes from not taking advantage of previous computations. Suppose we record the best solution for A[0,j] j between 1 and n-1 inclusive. Now we can do a reverse iteration, computing the best solution for a single buy and sell for A[j,n-1], j between 1 and n-1, inclusive. For each day, we combine this result with the result from the foward iteration "
   ]
  },
  {
   "cell_type": "code",
   "execution_count": 5,
   "id": "7d4bcdcb",
   "metadata": {},
   "outputs": [
    {
     "name": "stdout",
     "output_type": "stream",
     "text": [
      "[0, 0, 2, 2, 3, 3, 6, 6, 7]\n"
     ]
    }
   ],
   "source": [
    "def max_profit_array(A): # max profit array calculates the max profits after one buy and sell    \n",
    "    max_profit = 0\n",
    "    max_profit_array = []\n",
    "    min_price = float('inf') # infinity to cover the case of dealing with really big numbers\n",
    "\n",
    "    for price in A:\n",
    "\n",
    "        current_max_profit = price - min_price\n",
    "        max_profit = max(current_max_profit, max_profit)\n",
    "        max_profit_array.append(max_profit)\n",
    "        min_price = min(min_price, price)\n",
    "\n",
    "    return max_profit_array\n",
    "\n",
    "array = [12,11,13,9,12,8,14,13,15]\n",
    "print(max_profit_array(array))\n",
    "        "
   ]
  },
  {
   "cell_type": "code",
   "execution_count": null,
   "id": "9c8ff8a1",
   "metadata": {},
   "outputs": [],
   "source": []
  }
 ],
 "metadata": {
  "kernelspec": {
   "display_name": "Python 3 (ipykernel)",
   "language": "python",
   "name": "python3"
  },
  "language_info": {
   "codemirror_mode": {
    "name": "ipython",
    "version": 3
   },
   "file_extension": ".py",
   "mimetype": "text/x-python",
   "name": "python",
   "nbconvert_exporter": "python",
   "pygments_lexer": "ipython3",
   "version": "3.9.12"
  }
 },
 "nbformat": 4,
 "nbformat_minor": 5
}
