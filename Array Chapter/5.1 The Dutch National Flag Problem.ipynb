{
 "cells": [
  {
   "cell_type": "markdown",
   "id": "109424bc",
   "metadata": {},
   "source": [
    "# Dutch Flag \n",
    "Write a program that takes an array A and an index i rnto A, and rearranges the elements such that all elements less than A[r] (the \"pivot\") appear first, followed by elements equal to the pivot, followed by elements greater than the pivot.\n",
    "\n",
    "hint think about quick sort partitioning:"
   ]
  },
  {
   "cell_type": "code",
   "execution_count": 1,
   "id": "16eb053e",
   "metadata": {},
   "outputs": [],
   "source": [
    "def dutch_flag_partition(pivot_index, A):\n",
    "    if pivot_index != len(A) - 1:\n",
    "        A[pivot_index], A[len(A) -1] = A[len(A) -1], A[pivot_index] # we do this swap to put pivot value right in the middle\n",
    "        pivot_index = len(A) - 1\n",
    "    \n",
    "    right = len(A) - 1 # find a number smaller than the pivot\n",
    "    left = 0 # find a number large than the pivot\n",
    "    \n",
    "    while left < right:\n",
    "        while left < len(A) - 1 and A[left] < A[pivot_index]:\n",
    "            left += 1\n",
    "        while right >= 0 and A[right] > A[pivot_index]:\n",
    "            right -= 1\n",
    "        if(left < right):\n",
    "            A[left], A[right] = A[right], A[left]\n",
    "    \n",
    "    if(A[left] > A[pivot_index]): # once the while loop condition is met, the left pointer value might be greater than the pivot so they swap places if true\n",
    "        A[left], A[pivot_index] = A[pivot_index], A[left]\n",
    "    \n",
    "    return A # At this point, everything to the left of the pivot is less than the pivot and anything to right is greater\n",
    "    "
   ]
  },
  {
   "cell_type": "code",
   "execution_count": 6,
   "id": "c9a16110",
   "metadata": {},
   "outputs": [],
   "source": [
    "# Textbook Solution\n",
    "\n",
    "def dutch_flag_book(pivot_index, A):\n",
    "    pivot = A[pivot_index]\n",
    "    # First pass: group smaller elements than pivot \n",
    "    smaller = 0\n",
    "    # front to back iteration\n",
    "    for i in range(len(A)):\n",
    "        if A[i] < A[pivot_index]:\n",
    "            A[i], A[smaller] = A[smaller], A[i]\n",
    "            smaller += 1 # keep track of the index to do the swaps for values < pivot's value\n",
    "\n",
    "    # Second pass: group larger elements than pivot \n",
    "    larger = len(A) - 1  \n",
    "    # back to front iteration\n",
    "    for i in reversed(range(len(A))):\n",
    "        if A[i] < A[pivot_index]:\n",
    "            break\n",
    "        elif A[i] > A[pivot_index]:\n",
    "            A[i], A[larger]\n",
    "            larger -= 1 # keeping track of larger value's indices"
   ]
  },
  {
   "cell_type": "code",
   "execution_count": null,
   "id": "224a50a9",
   "metadata": {},
   "outputs": [],
   "source": []
  }
 ],
 "metadata": {
  "kernelspec": {
   "display_name": "Python 3 (ipykernel)",
   "language": "python",
   "name": "python3"
  },
  "language_info": {
   "codemirror_mode": {
    "name": "ipython",
    "version": 3
   },
   "file_extension": ".py",
   "mimetype": "text/x-python",
   "name": "python",
   "nbconvert_exporter": "python",
   "pygments_lexer": "ipython3",
   "version": "3.9.12"
  }
 },
 "nbformat": 4,
 "nbformat_minor": 5
}
