{
 "cells": [
  {
   "cell_type": "markdown",
   "id": "88fa428b",
   "metadata": {},
   "source": [
    "# 4.8 Reverse Digits\n",
    "\n",
    "Write a program which takes an integer and returns the integer corresponding to the digits of the input written in reverse order. For example, the reverse of 42 is 24, and the reverse of -314 is -413\n",
    "\n",
    "\"42\"\n",
    "iterate through half the string and swap the digits\n",
    "iterate half the array with 2 pointers and swap each pointer's value\n"
   ]
  },
  {
   "cell_type": "code",
   "execution_count": 18,
   "id": "bc1370d5",
   "metadata": {},
   "outputs": [
    {
     "name": "stdout",
     "output_type": "stream",
     "text": [
      "1\n",
      "10\n",
      "104\n"
     ]
    },
    {
     "data": {
      "text/plain": [
       "104"
      ]
     },
     "execution_count": 18,
     "metadata": {},
     "output_type": "execute_result"
    }
   ],
   "source": [
    "def reverse(x):\n",
    "    result, x_remaining = 0, abs(x)\n",
    "    while x_remaining:        \n",
    "        result = result * 10 + x_remaining % 10\n",
    "        print(result)\n",
    "        x_remaining //= 10\n",
    "#        print(x_remaining)\n",
    "    return -result if x < 0 else result\n",
    "reverse(401)"
   ]
  },
  {
   "cell_type": "markdown",
   "id": "7df7c4d7",
   "metadata": {},
   "source": [
    "# Note to Self:\n",
    "\n",
    "## Floor-Divide and Assign(//=)\n",
    "Performs floor-division on the values on either side. then assigns it to the expression on the left"
   ]
  },
  {
   "cell_type": "code",
   "execution_count": 10,
   "id": "27a9463a",
   "metadata": {},
   "outputs": [
    {
     "name": "stdout",
     "output_type": "stream",
     "text": [
      "4\n"
     ]
    }
   ],
   "source": [
    "x = 20\n",
    "x //= 5\n",
    "print(x)"
   ]
  },
  {
   "cell_type": "markdown",
   "id": "d261039f",
   "metadata": {},
   "source": [
    "# Analyzing code\n",
    "\n",
    "While the input number is not zero\n",
    "    we take the resulting number multiply it by zero and add the mod 10 of the input number\n",
    "    update the input number to be divided and floored by 10\n",
    "\n",
    "since we're dealing with decimal numbers, for every digit that exists the first digit will be multiplied by 10^n-1\n",
    "n being the number of digits \n",
    "\n",
    "x = 401\n",
    "result = 0\n",
    "x_remaining = +(positive) 401 \n",
    "\n",
    "while(x_remaining)\n",
    "    result = 0 * 10 + 401 % 10\n",
    "    x_remaining //= 10 // dividing and flooring = 40\n",
    "\n",
    "result = 1 \n",
    "x_remaining = 40\n",
    "\n",
    "while(x_remaining):\n",
    "    result = 1 * 10 + 40 % 10 = 1*10 + 0 = 10\n",
    "    x_remaining //= 10 // dividing and flooring = 4\n",
    "\n",
    "result = 1 \n",
    "x_remaining = 4\n",
    "\n",
    "\n",
    "while (x_remaining):\n",
    "    result = 10 * 10 + 4 % 10 = 100 + 4 = 104\n",
    "       x_remaining //=10 # x_remaining becomes zero\n",
    "\n",
    "loop breaks and our result is the reversed digit\n",
    "104\n",
    "    "
   ]
  },
  {
   "cell_type": "code",
   "execution_count": 14,
   "id": "4ff40bd1",
   "metadata": {},
   "outputs": [
    {
     "name": "stdout",
     "output_type": "stream",
     "text": [
      "2\n",
      "113\n"
     ]
    }
   ],
   "source": [
    "x = 1132\n",
    "print(x % 10) # retrieving the first digit of 1132 by mod 10, remainder of 1132/10 = 2\n",
    "x //= 10\n",
    "print(x)"
   ]
  }
 ],
 "metadata": {
  "kernelspec": {
   "display_name": "Python 3 (ipykernel)",
   "language": "python",
   "name": "python3"
  },
  "language_info": {
   "codemirror_mode": {
    "name": "ipython",
    "version": 3
   },
   "file_extension": ".py",
   "mimetype": "text/x-python",
   "name": "python",
   "nbconvert_exporter": "python",
   "pygments_lexer": "ipython3",
   "version": "3.9.12"
  }
 },
 "nbformat": 4,
 "nbformat_minor": 5
}
