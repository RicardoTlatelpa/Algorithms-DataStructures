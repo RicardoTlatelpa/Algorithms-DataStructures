{
 "cells": [
  {
   "cell_type": "markdown",
   "id": "5552c89f",
   "metadata": {},
   "source": [
    "# 4.8 Reverse Digits\n",
    "\n",
    "Write a program which takes an integer and returns the integer corresponding to the digits of the input written in reverse order. For example, the reverse of 42 is 24, and the reverse of -314 is -413\n",
    "\n",
    "\"42\"\n",
    "iterate through half the string and swap the digits\n",
    "iterate half the array with 2 pointers and swap each pointer's value\n"
   ]
  },
  {
   "cell_type": "code",
   "execution_count": null,
   "id": "66677175",
   "metadata": {},
   "outputs": [],
   "source": [
    "def reverse(x):\n",
    "    result, x_remaining = 0, abs(x)\n",
    "    while x_remaining:\n",
    "        result = result * 10 + x_remaining % 10\n",
    "#         x_remaining //= 10\n",
    "    return -result if x < 0 else result\n",
    "\n",
    "reverse(104)"
   ]
  },
  {
   "cell_type": "code",
   "execution_count": null,
   "id": "6e02d542",
   "metadata": {},
   "outputs": [],
   "source": [
    "print ( 100 //= 10 )"
   ]
  },
  {
   "cell_type": "code",
   "execution_count": null,
   "id": "06f10055",
   "metadata": {},
   "outputs": [],
   "source": []
  }
 ],
 "metadata": {
  "kernelspec": {
   "display_name": "Python 3 (ipykernel)",
   "language": "python",
   "name": "python3"
  },
  "language_info": {
   "codemirror_mode": {
    "name": "ipython",
    "version": 3
   },
   "file_extension": ".py",
   "mimetype": "text/x-python",
   "name": "python",
   "nbconvert_exporter": "python",
   "pygments_lexer": "ipython3",
   "version": "3.9.12"
  }
 },
 "nbformat": 4,
 "nbformat_minor": 5
}
